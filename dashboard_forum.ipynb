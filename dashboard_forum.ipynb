{
  "cells": [
    {
      "cell_type": "markdown",
      "metadata": {
        "id": "EwDhOF0aZBfE"
      },
      "source": [
        "# Forum Enhacement Dashboard"
      ]
    },
    {
      "cell_type": "markdown",
      "metadata": {
        "id": "V6Z9SFMjqgbd"
      },
      "source": [
        "Sara Piñas García (100472784)\n",
        "\n",
        "Ángela Durán Pinto (100472766)\n",
        "\n",
        "Marina Gómez Rey (100472836)\n",
        "\n",
        "María Ángeles Magro Garrote (100472867)\n"
      ]
    },
    {
      "cell_type": "markdown",
      "metadata": {
        "id": "oYTd9qi4i9_W"
      },
      "source": [
        "This dashboard offers a dynamic platform for exploring and analyzing forum discussions with ease and enjoyment. Dive into clusters of forum posts, visualize emotional distributions, and discover valuable insights into trending topics. With interactive features such as sentiment-based post selection and emoji recommendations, users can engage with the forum content."
      ]
    },
    {
      "cell_type": "markdown",
      "metadata": {
        "id": "Pg6qx1NK8PiH"
      },
      "source": [
        "## Imports"
      ]
    },
    {
      "cell_type": "code",
      "execution_count": null,
      "metadata": {
        "colab": {
          "base_uri": "https://localhost:8080/"
        },
        "id": "ubKPj-gZBlFO",
        "outputId": "61258abd-f5e4-479b-cc9f-be1327243517"
      },
      "outputs": [
        {
          "output_type": "stream",
          "name": "stdout",
          "text": [
            "\u001b[?25l     \u001b[90m━━━━━━━━━━━━━━━━━━━━━━━━━━━━━━━━━━━━━━━━\u001b[0m \u001b[32m0.0/7.5 MB\u001b[0m \u001b[31m?\u001b[0m eta \u001b[36m-:--:--\u001b[0m\r\u001b[2K     \u001b[91m━\u001b[0m\u001b[90m╺\u001b[0m\u001b[90m━━━━━━━━━━━━━━━━━━━━━━━━━━━━━━━━━━━━━━\u001b[0m \u001b[32m0.3/7.5 MB\u001b[0m \u001b[31m7.5 MB/s\u001b[0m eta \u001b[36m0:00:01\u001b[0m\r\u001b[2K     \u001b[91m━━━━━━━━━━━━━\u001b[0m\u001b[91m╸\u001b[0m\u001b[90m━━━━━━━━━━━━━━━━━━━━━━━━━━\u001b[0m \u001b[32m2.6/7.5 MB\u001b[0m \u001b[31m37.2 MB/s\u001b[0m eta \u001b[36m0:00:01\u001b[0m\r\u001b[2K     \u001b[91m━━━━━━━━━━━━━━━━━━━━━━━━━━━━━━━━━━━━━━━\u001b[0m\u001b[91m╸\u001b[0m \u001b[32m7.5/7.5 MB\u001b[0m \u001b[31m71.8 MB/s\u001b[0m eta \u001b[36m0:00:01\u001b[0m\r\u001b[2K     \u001b[91m━━━━━━━━━━━━━━━━━━━━━━━━━━━━━━━━━━━━━━━\u001b[0m\u001b[91m╸\u001b[0m \u001b[32m7.5/7.5 MB\u001b[0m \u001b[31m71.8 MB/s\u001b[0m eta \u001b[36m0:00:01\u001b[0m\r\u001b[2K     \u001b[90m━━━━━━━━━━━━━━━━━━━━━━━━━━━━━━━━━━━━━━━━\u001b[0m \u001b[32m7.5/7.5 MB\u001b[0m \u001b[31m44.6 MB/s\u001b[0m eta \u001b[36m0:00:00\u001b[0m\n",
            "\u001b[?25h"
          ]
        }
      ],
      "source": [
        "pip install -q dash"
      ]
    },
    {
      "cell_type": "code",
      "execution_count": null,
      "metadata": {
        "colab": {
          "base_uri": "https://localhost:8080/"
        },
        "id": "YQklKfsvBfLj",
        "outputId": "9236fd33-645b-4a51-8114-27ae6e923032"
      },
      "outputs": [
        {
          "output_type": "stream",
          "name": "stdout",
          "text": [
            "\u001b[?25l     \u001b[90m━━━━━━━━━━━━━━━━━━━━━━━━━━━━━━━━━━━━━━━━\u001b[0m \u001b[32m0.0/222.5 kB\u001b[0m \u001b[31m?\u001b[0m eta \u001b[36m-:--:--\u001b[0m\r\u001b[2K     \u001b[91m━━━━━━━━━━━━━━━━━━━━━━━━━━━━━━━━━━\u001b[0m\u001b[91m╸\u001b[0m\u001b[90m━━━━━\u001b[0m \u001b[32m194.6/222.5 kB\u001b[0m \u001b[31m5.6 MB/s\u001b[0m eta \u001b[36m0:00:01\u001b[0m\r\u001b[2K     \u001b[90m━━━━━━━━━━━━━━━━━━━━━━━━━━━━━━━━━━━━━━━━\u001b[0m \u001b[32m222.5/222.5 kB\u001b[0m \u001b[31m4.6 MB/s\u001b[0m eta \u001b[36m0:00:00\u001b[0m\n",
            "\u001b[?25h"
          ]
        }
      ],
      "source": [
        "pip install -q dash-bootstrap-components"
      ]
    },
    {
      "cell_type": "code",
      "execution_count": null,
      "metadata": {
        "colab": {
          "base_uri": "https://localhost:8080/"
        },
        "id": "oO59AFsfBnHu",
        "outputId": "7edfc8db-6653-49dd-e858-b094c6432017"
      },
      "outputs": [
        {
          "output_type": "stream",
          "name": "stdout",
          "text": [
            "\u001b[?25l     \u001b[90m━━━━━━━━━━━━━━━━━━━━━━━━━━━━━━━━━━━━━━━━\u001b[0m \u001b[32m0.0/1.4 MB\u001b[0m \u001b[31m?\u001b[0m eta \u001b[36m-:--:--\u001b[0m\r\u001b[2K     \u001b[91m━━━\u001b[0m\u001b[91m╸\u001b[0m\u001b[90m━━━━━━━━━━━━━━━━━━━━━━━━━━━━━━━━━━━━\u001b[0m \u001b[32m0.1/1.4 MB\u001b[0m \u001b[31m3.5 MB/s\u001b[0m eta \u001b[36m0:00:01\u001b[0m\r\u001b[2K     \u001b[90m━━━━━━━━━━━━━━━━━━━━━━━━━━━━━━━━━━━━━━━━\u001b[0m \u001b[32m1.4/1.4 MB\u001b[0m \u001b[31m22.7 MB/s\u001b[0m eta \u001b[36m0:00:00\u001b[0m\n",
            "\u001b[?25h"
          ]
        }
      ],
      "source": [
        "pip install -q dash-mantine-components"
      ]
    },
    {
      "cell_type": "code",
      "execution_count": null,
      "metadata": {
        "colab": {
          "base_uri": "https://localhost:8080/"
        },
        "id": "GreO6w2axRFf",
        "outputId": "ede080b1-6723-420c-87b6-03da7548635b"
      },
      "outputs": [
        {
          "output_type": "stream",
          "name": "stdout",
          "text": [
            "Collecting jupyter-dash\n",
            "  Downloading jupyter_dash-0.4.2-py3-none-any.whl (23 kB)\n",
            "Requirement already satisfied: dash in /usr/local/lib/python3.10/dist-packages (from jupyter-dash) (2.17.0)\n",
            "Requirement already satisfied: requests in /usr/local/lib/python3.10/dist-packages (from jupyter-dash) (2.31.0)\n",
            "Requirement already satisfied: flask in /usr/local/lib/python3.10/dist-packages (from jupyter-dash) (2.2.5)\n",
            "Requirement already satisfied: retrying in /usr/local/lib/python3.10/dist-packages (from jupyter-dash) (1.3.4)\n",
            "Requirement already satisfied: ipython in /usr/local/lib/python3.10/dist-packages (from jupyter-dash) (7.34.0)\n",
            "Requirement already satisfied: ipykernel in /usr/local/lib/python3.10/dist-packages (from jupyter-dash) (5.5.6)\n",
            "Collecting ansi2html (from jupyter-dash)\n",
            "  Downloading ansi2html-1.9.1-py3-none-any.whl (17 kB)\n",
            "Requirement already satisfied: nest-asyncio in /usr/local/lib/python3.10/dist-packages (from jupyter-dash) (1.6.0)\n",
            "Requirement already satisfied: Werkzeug<3.1 in /usr/local/lib/python3.10/dist-packages (from dash->jupyter-dash) (3.0.3)\n",
            "Requirement already satisfied: plotly>=5.0.0 in /usr/local/lib/python3.10/dist-packages (from dash->jupyter-dash) (5.15.0)\n",
            "Requirement already satisfied: dash-html-components==2.0.0 in /usr/local/lib/python3.10/dist-packages (from dash->jupyter-dash) (2.0.0)\n",
            "Requirement already satisfied: dash-core-components==2.0.0 in /usr/local/lib/python3.10/dist-packages (from dash->jupyter-dash) (2.0.0)\n",
            "Requirement already satisfied: dash-table==5.0.0 in /usr/local/lib/python3.10/dist-packages (from dash->jupyter-dash) (5.0.0)\n",
            "Requirement already satisfied: importlib-metadata in /usr/local/lib/python3.10/dist-packages (from dash->jupyter-dash) (7.1.0)\n",
            "Requirement already satisfied: typing-extensions>=4.1.1 in /usr/local/lib/python3.10/dist-packages (from dash->jupyter-dash) (4.11.0)\n",
            "Requirement already satisfied: setuptools in /usr/local/lib/python3.10/dist-packages (from dash->jupyter-dash) (67.7.2)\n",
            "Requirement already satisfied: Jinja2>=3.0 in /usr/local/lib/python3.10/dist-packages (from flask->jupyter-dash) (3.1.4)\n",
            "Requirement already satisfied: itsdangerous>=2.0 in /usr/local/lib/python3.10/dist-packages (from flask->jupyter-dash) (2.2.0)\n",
            "Requirement already satisfied: click>=8.0 in /usr/local/lib/python3.10/dist-packages (from flask->jupyter-dash) (8.1.7)\n",
            "Requirement already satisfied: ipython-genutils in /usr/local/lib/python3.10/dist-packages (from ipykernel->jupyter-dash) (0.2.0)\n",
            "Requirement already satisfied: traitlets>=4.1.0 in /usr/local/lib/python3.10/dist-packages (from ipykernel->jupyter-dash) (5.7.1)\n",
            "Requirement already satisfied: jupyter-client in /usr/local/lib/python3.10/dist-packages (from ipykernel->jupyter-dash) (6.1.12)\n",
            "Requirement already satisfied: tornado>=4.2 in /usr/local/lib/python3.10/dist-packages (from ipykernel->jupyter-dash) (6.3.3)\n",
            "Collecting jedi>=0.16 (from ipython->jupyter-dash)\n",
            "  Downloading jedi-0.19.1-py2.py3-none-any.whl (1.6 MB)\n",
            "\u001b[2K     \u001b[90m━━━━━━━━━━━━━━━━━━━━━━━━━━━━━━━━━━━━━━━━\u001b[0m \u001b[32m1.6/1.6 MB\u001b[0m \u001b[31m30.3 MB/s\u001b[0m eta \u001b[36m0:00:00\u001b[0m\n",
            "\u001b[?25hRequirement already satisfied: decorator in /usr/local/lib/python3.10/dist-packages (from ipython->jupyter-dash) (4.4.2)\n",
            "Requirement already satisfied: pickleshare in /usr/local/lib/python3.10/dist-packages (from ipython->jupyter-dash) (0.7.5)\n",
            "Requirement already satisfied: prompt-toolkit!=3.0.0,!=3.0.1,<3.1.0,>=2.0.0 in /usr/local/lib/python3.10/dist-packages (from ipython->jupyter-dash) (3.0.43)\n",
            "Requirement already satisfied: pygments in /usr/local/lib/python3.10/dist-packages (from ipython->jupyter-dash) (2.16.1)\n",
            "Requirement already satisfied: backcall in /usr/local/lib/python3.10/dist-packages (from ipython->jupyter-dash) (0.2.0)\n",
            "Requirement already satisfied: matplotlib-inline in /usr/local/lib/python3.10/dist-packages (from ipython->jupyter-dash) (0.1.7)\n",
            "Requirement already satisfied: pexpect>4.3 in /usr/local/lib/python3.10/dist-packages (from ipython->jupyter-dash) (4.9.0)\n",
            "Requirement already satisfied: charset-normalizer<4,>=2 in /usr/local/lib/python3.10/dist-packages (from requests->jupyter-dash) (3.3.2)\n",
            "Requirement already satisfied: idna<4,>=2.5 in /usr/local/lib/python3.10/dist-packages (from requests->jupyter-dash) (3.7)\n",
            "Requirement already satisfied: urllib3<3,>=1.21.1 in /usr/local/lib/python3.10/dist-packages (from requests->jupyter-dash) (2.0.7)\n",
            "Requirement already satisfied: certifi>=2017.4.17 in /usr/local/lib/python3.10/dist-packages (from requests->jupyter-dash) (2024.2.2)\n",
            "Requirement already satisfied: six>=1.7.0 in /usr/local/lib/python3.10/dist-packages (from retrying->jupyter-dash) (1.16.0)\n",
            "Requirement already satisfied: parso<0.9.0,>=0.8.3 in /usr/local/lib/python3.10/dist-packages (from jedi>=0.16->ipython->jupyter-dash) (0.8.4)\n",
            "Requirement already satisfied: MarkupSafe>=2.0 in /usr/local/lib/python3.10/dist-packages (from Jinja2>=3.0->flask->jupyter-dash) (2.1.5)\n",
            "Requirement already satisfied: ptyprocess>=0.5 in /usr/local/lib/python3.10/dist-packages (from pexpect>4.3->ipython->jupyter-dash) (0.7.0)\n",
            "Requirement already satisfied: tenacity>=6.2.0 in /usr/local/lib/python3.10/dist-packages (from plotly>=5.0.0->dash->jupyter-dash) (8.3.0)\n",
            "Requirement already satisfied: packaging in /usr/local/lib/python3.10/dist-packages (from plotly>=5.0.0->dash->jupyter-dash) (24.0)\n",
            "Requirement already satisfied: wcwidth in /usr/local/lib/python3.10/dist-packages (from prompt-toolkit!=3.0.0,!=3.0.1,<3.1.0,>=2.0.0->ipython->jupyter-dash) (0.2.13)\n",
            "Requirement already satisfied: zipp>=0.5 in /usr/local/lib/python3.10/dist-packages (from importlib-metadata->dash->jupyter-dash) (3.18.1)\n",
            "Requirement already satisfied: jupyter-core>=4.6.0 in /usr/local/lib/python3.10/dist-packages (from jupyter-client->ipykernel->jupyter-dash) (5.7.2)\n",
            "Requirement already satisfied: pyzmq>=13 in /usr/local/lib/python3.10/dist-packages (from jupyter-client->ipykernel->jupyter-dash) (24.0.1)\n",
            "Requirement already satisfied: python-dateutil>=2.1 in /usr/local/lib/python3.10/dist-packages (from jupyter-client->ipykernel->jupyter-dash) (2.8.2)\n",
            "Requirement already satisfied: platformdirs>=2.5 in /usr/local/lib/python3.10/dist-packages (from jupyter-core>=4.6.0->jupyter-client->ipykernel->jupyter-dash) (4.2.1)\n",
            "Installing collected packages: jedi, ansi2html, jupyter-dash\n",
            "Successfully installed ansi2html-1.9.1 jedi-0.19.1 jupyter-dash-0.4.2\n",
            "Requirement already satisfied: dash-bootstrap-components in /usr/local/lib/python3.10/dist-packages (1.6.0)\n",
            "Requirement already satisfied: dash>=2.0.0 in /usr/local/lib/python3.10/dist-packages (from dash-bootstrap-components) (2.17.0)\n",
            "Requirement already satisfied: Flask<3.1,>=1.0.4 in /usr/local/lib/python3.10/dist-packages (from dash>=2.0.0->dash-bootstrap-components) (2.2.5)\n",
            "Requirement already satisfied: Werkzeug<3.1 in /usr/local/lib/python3.10/dist-packages (from dash>=2.0.0->dash-bootstrap-components) (3.0.3)\n",
            "Requirement already satisfied: plotly>=5.0.0 in /usr/local/lib/python3.10/dist-packages (from dash>=2.0.0->dash-bootstrap-components) (5.15.0)\n",
            "Requirement already satisfied: dash-html-components==2.0.0 in /usr/local/lib/python3.10/dist-packages (from dash>=2.0.0->dash-bootstrap-components) (2.0.0)\n",
            "Requirement already satisfied: dash-core-components==2.0.0 in /usr/local/lib/python3.10/dist-packages (from dash>=2.0.0->dash-bootstrap-components) (2.0.0)\n",
            "Requirement already satisfied: dash-table==5.0.0 in /usr/local/lib/python3.10/dist-packages (from dash>=2.0.0->dash-bootstrap-components) (5.0.0)\n",
            "Requirement already satisfied: importlib-metadata in /usr/local/lib/python3.10/dist-packages (from dash>=2.0.0->dash-bootstrap-components) (7.1.0)\n",
            "Requirement already satisfied: typing-extensions>=4.1.1 in /usr/local/lib/python3.10/dist-packages (from dash>=2.0.0->dash-bootstrap-components) (4.11.0)\n",
            "Requirement already satisfied: requests in /usr/local/lib/python3.10/dist-packages (from dash>=2.0.0->dash-bootstrap-components) (2.31.0)\n",
            "Requirement already satisfied: retrying in /usr/local/lib/python3.10/dist-packages (from dash>=2.0.0->dash-bootstrap-components) (1.3.4)\n",
            "Requirement already satisfied: nest-asyncio in /usr/local/lib/python3.10/dist-packages (from dash>=2.0.0->dash-bootstrap-components) (1.6.0)\n",
            "Requirement already satisfied: setuptools in /usr/local/lib/python3.10/dist-packages (from dash>=2.0.0->dash-bootstrap-components) (67.7.2)\n",
            "Requirement already satisfied: Jinja2>=3.0 in /usr/local/lib/python3.10/dist-packages (from Flask<3.1,>=1.0.4->dash>=2.0.0->dash-bootstrap-components) (3.1.4)\n",
            "Requirement already satisfied: itsdangerous>=2.0 in /usr/local/lib/python3.10/dist-packages (from Flask<3.1,>=1.0.4->dash>=2.0.0->dash-bootstrap-components) (2.2.0)\n",
            "Requirement already satisfied: click>=8.0 in /usr/local/lib/python3.10/dist-packages (from Flask<3.1,>=1.0.4->dash>=2.0.0->dash-bootstrap-components) (8.1.7)\n",
            "Requirement already satisfied: tenacity>=6.2.0 in /usr/local/lib/python3.10/dist-packages (from plotly>=5.0.0->dash>=2.0.0->dash-bootstrap-components) (8.3.0)\n",
            "Requirement already satisfied: packaging in /usr/local/lib/python3.10/dist-packages (from plotly>=5.0.0->dash>=2.0.0->dash-bootstrap-components) (24.0)\n",
            "Requirement already satisfied: MarkupSafe>=2.1.1 in /usr/local/lib/python3.10/dist-packages (from Werkzeug<3.1->dash>=2.0.0->dash-bootstrap-components) (2.1.5)\n",
            "Requirement already satisfied: zipp>=0.5 in /usr/local/lib/python3.10/dist-packages (from importlib-metadata->dash>=2.0.0->dash-bootstrap-components) (3.18.1)\n",
            "Requirement already satisfied: charset-normalizer<4,>=2 in /usr/local/lib/python3.10/dist-packages (from requests->dash>=2.0.0->dash-bootstrap-components) (3.3.2)\n",
            "Requirement already satisfied: idna<4,>=2.5 in /usr/local/lib/python3.10/dist-packages (from requests->dash>=2.0.0->dash-bootstrap-components) (3.7)\n",
            "Requirement already satisfied: urllib3<3,>=1.21.1 in /usr/local/lib/python3.10/dist-packages (from requests->dash>=2.0.0->dash-bootstrap-components) (2.0.7)\n",
            "Requirement already satisfied: certifi>=2017.4.17 in /usr/local/lib/python3.10/dist-packages (from requests->dash>=2.0.0->dash-bootstrap-components) (2024.2.2)\n",
            "Requirement already satisfied: six>=1.7.0 in /usr/local/lib/python3.10/dist-packages (from retrying->dash>=2.0.0->dash-bootstrap-components) (1.16.0)\n",
            "Requirement already satisfied: plotly in /usr/local/lib/python3.10/dist-packages (5.15.0)\n",
            "Requirement already satisfied: tenacity>=6.2.0 in /usr/local/lib/python3.10/dist-packages (from plotly) (8.3.0)\n",
            "Requirement already satisfied: packaging in /usr/local/lib/python3.10/dist-packages (from plotly) (24.0)\n"
          ]
        }
      ],
      "source": [
        "!pip install jupyter-dash\n",
        "!pip install dash-bootstrap-components\n",
        "!pip install plotly"
      ]
    },
    {
      "cell_type": "code",
      "execution_count": null,
      "metadata": {
        "id": "sFfOdzKmXf9z"
      },
      "outputs": [],
      "source": [
        "import os\n",
        "import numpy as np\n",
        "import pandas as pd\n",
        "from termcolor import colored\n",
        "import seaborn as sns\n",
        "import matplotlib.pyplot as plt\n",
        "import sys\n",
        "import pathlib\n",
        "import networkx as nx\n",
        "import scipy.sparse as scsp\n",
        "from collections import Counter"
      ]
    },
    {
      "cell_type": "code",
      "execution_count": null,
      "metadata": {
        "colab": {
          "base_uri": "https://localhost:8080/"
        },
        "id": "RlrxIh_TXkDn",
        "outputId": "f063c331-0a51-47ad-94ea-e14e16d0f983"
      },
      "outputs": [
        {
          "output_type": "stream",
          "name": "stderr",
          "text": [
            "<ipython-input-6-3f442b7a44d5>:20: MatplotlibDeprecationWarning: The seaborn styles shipped by Matplotlib are deprecated since 3.6, as they no longer correspond to the styles shipped by seaborn. However, they will remain available as 'seaborn-v0_8-<style>'. Alternatively, directly use the seaborn API instead.\n",
            "  plt.style.use('seaborn-whitegrid')\n"
          ]
        }
      ],
      "source": [
        "# Common imports\n",
        "import os\n",
        "import numpy as np\n",
        "import pandas as pd\n",
        "from termcolor import colored\n",
        "import seaborn as sns\n",
        "import matplotlib.pyplot as plt\n",
        "import sys\n",
        "import pathlib\n",
        "import networkx as nx\n",
        "import scipy.sparse as scsp\n",
        "from collections import Counter\n",
        "\n",
        "\n",
        "# Figures plotted inside the notebook\n",
        "%matplotlib inline\n",
        "# High quality figures\n",
        "%config InlineBackend.figure_format = 'retina'\n",
        "# Figures style\n",
        "plt.style.use('seaborn-whitegrid')\n",
        "sns.set_style(\"darkgrid\")\n",
        "sns.color_palette(\"deep\")\n",
        "# Figues size\n",
        "plt.rcParams['figure.figsize'] = [8, 6]\n",
        "\n",
        "#To wrap long text lines\n",
        "from IPython.display import HTML, display\n",
        "\n",
        "def set_css():\n",
        "  display(HTML('''\n",
        "  <style>\n",
        "    pre {white-space: pre-wrap;\n",
        "    }\n",
        "  </style>\n",
        "  '''))\n",
        "get_ipython().events.register('pre_run_cell', set_css)"
      ]
    },
    {
      "cell_type": "code",
      "execution_count": null,
      "metadata": {
        "colab": {
          "base_uri": "https://localhost:8080/"
        },
        "id": "iHDPK-cDXkDo",
        "outputId": "f5b09280-e1b4-4e8b-9a74-4caa1bc15319"
      },
      "outputs": [
        {
          "output_type": "display_data",
          "data": {
            "text/plain": [
              "<IPython.core.display.HTML object>"
            ],
            "text/html": [
              "\n",
              "  <style>\n",
              "    pre {white-space: pre-wrap;\n",
              "    }\n",
              "  </style>\n",
              "  "
            ]
          },
          "metadata": {}
        }
      ],
      "source": [
        "# To wrap long text lines\n",
        "from IPython.display import HTML, display\n",
        "\n",
        "def set_css():\n",
        "  display(HTML('''\n",
        "  <style>\n",
        "    pre {\n",
        "        white-space: pre-wrap;\n",
        "    }\n",
        "  </style>\n",
        "  '''))\n",
        "get_ipython().events.register('pre_run_cell', set_css)"
      ]
    },
    {
      "cell_type": "code",
      "execution_count": null,
      "metadata": {
        "colab": {
          "base_uri": "https://localhost:8080/"
        },
        "id": "wZQ9xeESPpz8",
        "outputId": "afc5a447-a445-4d1a-c6ed-f28be3f327ed"
      },
      "outputs": [
        {
          "output_type": "display_data",
          "data": {
            "text/plain": [
              "<IPython.core.display.HTML object>"
            ],
            "text/html": [
              "\n",
              "  <style>\n",
              "    pre {white-space: pre-wrap;\n",
              "    }\n",
              "  </style>\n",
              "  "
            ]
          },
          "metadata": {}
        },
        {
          "output_type": "display_data",
          "data": {
            "text/plain": [
              "<IPython.core.display.HTML object>"
            ],
            "text/html": [
              "\n",
              "  <style>\n",
              "    pre {\n",
              "        white-space: pre-wrap;\n",
              "    }\n",
              "  </style>\n",
              "  "
            ]
          },
          "metadata": {}
        }
      ],
      "source": [
        "# For fancy table Display\n",
        "%load_ext google.colab.data_table"
      ]
    },
    {
      "cell_type": "code",
      "execution_count": null,
      "metadata": {
        "colab": {
          "base_uri": "https://localhost:8080/"
        },
        "id": "kw2WKNGHPxZ7",
        "outputId": "6d887dcb-960a-4e2f-da6c-8a0678bdf013"
      },
      "outputs": [
        {
          "output_type": "display_data",
          "data": {
            "text/plain": [
              "<IPython.core.display.HTML object>"
            ],
            "text/html": [
              "\n",
              "  <style>\n",
              "    pre {white-space: pre-wrap;\n",
              "    }\n",
              "  </style>\n",
              "  "
            ]
          },
          "metadata": {}
        },
        {
          "output_type": "display_data",
          "data": {
            "text/plain": [
              "<IPython.core.display.HTML object>"
            ],
            "text/html": [
              "\n",
              "  <style>\n",
              "    pre {\n",
              "        white-space: pre-wrap;\n",
              "    }\n",
              "  </style>\n",
              "  "
            ]
          },
          "metadata": {}
        },
        {
          "output_type": "stream",
          "name": "stderr",
          "text": [
            "[nltk_data] Downloading package punkt to /root/nltk_data...\n",
            "[nltk_data]   Unzipping tokenizers/punkt.zip.\n",
            "[nltk_data] Downloading package stopwords to /root/nltk_data...\n",
            "[nltk_data]   Unzipping corpora/stopwords.zip.\n",
            "[nltk_data] Downloading package omw-1.4 to /root/nltk_data...\n",
            "[nltk_data] Downloading package wordnet to /root/nltk_data...\n"
          ]
        },
        {
          "output_type": "stream",
          "name": "stdout",
          "text": [
            "Collecting contractions\n",
            "  Downloading contractions-0.1.73-py2.py3-none-any.whl (8.7 kB)\n",
            "Collecting textsearch>=0.0.21 (from contractions)\n",
            "  Downloading textsearch-0.0.24-py2.py3-none-any.whl (7.6 kB)\n",
            "Collecting anyascii (from textsearch>=0.0.21->contractions)\n",
            "  Downloading anyascii-0.3.2-py3-none-any.whl (289 kB)\n",
            "\u001b[2K     \u001b[90m━━━━━━━━━━━━━━━━━━━━━━━━━━━━━━━━━━━━━━━━\u001b[0m \u001b[32m289.9/289.9 kB\u001b[0m \u001b[31m7.1 MB/s\u001b[0m eta \u001b[36m0:00:00\u001b[0m\n",
            "\u001b[?25hCollecting pyahocorasick (from textsearch>=0.0.21->contractions)\n",
            "  Downloading pyahocorasick-2.1.0-cp310-cp310-manylinux_2_5_x86_64.manylinux1_x86_64.manylinux_2_12_x86_64.manylinux2010_x86_64.whl (110 kB)\n",
            "\u001b[2K     \u001b[90m━━━━━━━━━━━━━━━━━━━━━━━━━━━━━━━━━━━━━━━━\u001b[0m \u001b[32m110.7/110.7 kB\u001b[0m \u001b[31m13.3 MB/s\u001b[0m eta \u001b[36m0:00:00\u001b[0m\n",
            "\u001b[?25hInstalling collected packages: pyahocorasick, anyascii, textsearch, contractions\n",
            "Successfully installed anyascii-0.3.2 contractions-0.1.73 pyahocorasick-2.1.0 textsearch-0.0.24\n"
          ]
        }
      ],
      "source": [
        "import re\n",
        "import nltk\n",
        "from bs4 import BeautifulSoup\n",
        "from nltk.tokenize import wordpunct_tokenize\n",
        "from nltk.stem import WordNetLemmatizer\n",
        "from nltk.corpus import stopwords\n",
        "\n",
        "def check_nltk_packages():\n",
        "  packages = ['punkt','stopwords','omw-1.4','wordnet']\n",
        "\n",
        "  for package in packages:\n",
        "    try:\n",
        "      nltk.data.find('tokenizers/' + package)\n",
        "    except LookupError:\n",
        "      nltk.download(package)\n",
        "check_nltk_packages()\n",
        "\n",
        "try:\n",
        "  import lxml\n",
        "except ModuleNotFoundError:\n",
        "  %pip install lxml\n",
        "\n",
        "try:\n",
        "  import contractions\n",
        "except ModuleNotFoundError:\n",
        "  %pip install contractions\n",
        "  import contractions\n",
        "\n",
        "from bs4 import BeautifulSoup\n",
        "import re"
      ]
    },
    {
      "cell_type": "code",
      "execution_count": null,
      "metadata": {
        "colab": {
          "base_uri": "https://localhost:8080/"
        },
        "id": "JkJRIZsMlnem",
        "outputId": "f7d9017e-6b8b-4c9f-9eb2-b40f32250e53"
      },
      "outputs": [
        {
          "output_type": "display_data",
          "data": {
            "text/plain": [
              "<IPython.core.display.HTML object>"
            ],
            "text/html": [
              "\n",
              "  <style>\n",
              "    pre {white-space: pre-wrap;\n",
              "    }\n",
              "  </style>\n",
              "  "
            ]
          },
          "metadata": {}
        },
        {
          "output_type": "display_data",
          "data": {
            "text/plain": [
              "<IPython.core.display.HTML object>"
            ],
            "text/html": [
              "\n",
              "  <style>\n",
              "    pre {\n",
              "        white-space: pre-wrap;\n",
              "    }\n",
              "  </style>\n",
              "  "
            ]
          },
          "metadata": {}
        },
        {
          "output_type": "stream",
          "name": "stderr",
          "text": [
            "<ipython-input-10-3f442b7a44d5>:20: MatplotlibDeprecationWarning: The seaborn styles shipped by Matplotlib are deprecated since 3.6, as they no longer correspond to the styles shipped by seaborn. However, they will remain available as 'seaborn-v0_8-<style>'. Alternatively, directly use the seaborn API instead.\n",
            "  plt.style.use('seaborn-whitegrid')\n"
          ]
        }
      ],
      "source": [
        "# Common imports\n",
        "import os\n",
        "import numpy as np\n",
        "import pandas as pd\n",
        "from termcolor import colored\n",
        "import seaborn as sns\n",
        "import matplotlib.pyplot as plt\n",
        "import sys\n",
        "import pathlib\n",
        "import networkx as nx\n",
        "import scipy.sparse as scsp\n",
        "from collections import Counter\n",
        "\n",
        "\n",
        "# Figures plotted inside the notebook\n",
        "%matplotlib inline\n",
        "# High quality figures\n",
        "%config InlineBackend.figure_format = 'retina'\n",
        "# Figures style\n",
        "plt.style.use('seaborn-whitegrid')\n",
        "sns.set_style(\"darkgrid\")\n",
        "sns.color_palette(\"deep\")\n",
        "# Figues size\n",
        "plt.rcParams['figure.figsize'] = [8, 6]\n",
        "\n",
        "#To wrap long text lines\n",
        "from IPython.display import HTML, display\n",
        "\n",
        "def set_css():\n",
        "  display(HTML('''\n",
        "  <style>\n",
        "    pre {white-space: pre-wrap;\n",
        "    }\n",
        "  </style>\n",
        "  '''))\n",
        "get_ipython().events.register('pre_run_cell', set_css)"
      ]
    },
    {
      "cell_type": "code",
      "execution_count": null,
      "metadata": {
        "colab": {
          "base_uri": "https://localhost:8080/"
        },
        "id": "2LE6Ig89PbV4",
        "outputId": "c17bb184-6ee7-45fc-c141-01a6c798f230"
      },
      "outputs": [
        {
          "output_type": "display_data",
          "data": {
            "text/plain": [
              "<IPython.core.display.HTML object>"
            ],
            "text/html": [
              "\n",
              "  <style>\n",
              "    pre {white-space: pre-wrap;\n",
              "    }\n",
              "  </style>\n",
              "  "
            ]
          },
          "metadata": {}
        },
        {
          "output_type": "display_data",
          "data": {
            "text/plain": [
              "<IPython.core.display.HTML object>"
            ],
            "text/html": [
              "\n",
              "  <style>\n",
              "    pre {\n",
              "        white-space: pre-wrap;\n",
              "    }\n",
              "  </style>\n",
              "  "
            ]
          },
          "metadata": {}
        },
        {
          "output_type": "display_data",
          "data": {
            "text/plain": [
              "<IPython.core.display.HTML object>"
            ],
            "text/html": [
              "\n",
              "  <style>\n",
              "    pre {white-space: pre-wrap;\n",
              "    }\n",
              "  </style>\n",
              "  "
            ]
          },
          "metadata": {}
        },
        {
          "output_type": "stream",
          "name": "stderr",
          "text": [
            "<ipython-input-11-bd66d2fb1dc5>:11: UserWarning: \n",
            "The dash_core_components package is deprecated. Please replace\n",
            "`import dash_core_components as dcc` with `from dash import dcc`\n",
            "  import dash_core_components as dcc\n",
            "<ipython-input-11-bd66d2fb1dc5>:12: UserWarning: \n",
            "The dash_html_components package is deprecated. Please replace\n",
            "`import dash_html_components as html` with `from dash import html`\n",
            "  import dash_html_components as html\n"
          ]
        }
      ],
      "source": [
        "import dash\n",
        "from dash import Dash, html, dash_table, dcc, callback, Output, Input, State\n",
        "import pandas as pd\n",
        "import numpy as np\n",
        "import plotly.express as px\n",
        "import dash_mantine_components as dmc\n",
        "import ast\n",
        "import sys\n",
        "import nltk\n",
        "import pathlib\n",
        "import dash_core_components as dcc\n",
        "import dash_html_components as html\n",
        "import dash_bootstrap_components as dbc\n",
        "from nltk.tokenize import wordpunct_tokenize\n",
        "from bs4 import BeautifulSoup\n",
        "import collections\n",
        "import re\n",
        "from wordcloud import WordCloud\n",
        "import base64\n",
        "from PIL import Image\n",
        "import io\n",
        "from joblib import load\n",
        "from scipy import sparse\n",
        "from sklearn.cluster import KMeans\n",
        "import joblib\n",
        "from nltk.corpus import wordnet as wn\n",
        "from nltk.corpus import stopwords\n",
        "from nltk.stem import WordNetLemmatizer\n",
        "from nltk.sentiment import SentimentIntensityAnalyzer\n",
        "import ast\n",
        "from sklearn.metrics.pairwise import cosine_similarity\n",
        "from sklearn.cluster import KMeans\n",
        "from dash.dependencies import Input, Output, State\n",
        "from wordcloud import WordCloud\n",
        "import plotly.graph_objects as go\n",
        "import base64\n",
        "from PIL import Image\n",
        "import io\n",
        "import random\n",
        "from nltk.corpus import wordnet as wn\n",
        "from nltk.corpus import stopwords\n",
        "from nltk.stem import WordNetLemmatizer"
      ]
    },
    {
      "cell_type": "code",
      "execution_count": null,
      "metadata": {
        "colab": {
          "base_uri": "https://localhost:8080/"
        },
        "id": "D-YB6KUGHhxr",
        "outputId": "a45a2cc9-f1f0-474e-c052-529009351058"
      },
      "outputs": [
        {
          "output_type": "display_data",
          "data": {
            "text/plain": [
              "<IPython.core.display.HTML object>"
            ],
            "text/html": [
              "\n",
              "  <style>\n",
              "    pre {white-space: pre-wrap;\n",
              "    }\n",
              "  </style>\n",
              "  "
            ]
          },
          "metadata": {}
        },
        {
          "output_type": "display_data",
          "data": {
            "text/plain": [
              "<IPython.core.display.HTML object>"
            ],
            "text/html": [
              "\n",
              "  <style>\n",
              "    pre {\n",
              "        white-space: pre-wrap;\n",
              "    }\n",
              "  </style>\n",
              "  "
            ]
          },
          "metadata": {}
        },
        {
          "output_type": "display_data",
          "data": {
            "text/plain": [
              "<IPython.core.display.HTML object>"
            ],
            "text/html": [
              "\n",
              "  <style>\n",
              "    pre {white-space: pre-wrap;\n",
              "    }\n",
              "  </style>\n",
              "  "
            ]
          },
          "metadata": {}
        },
        {
          "output_type": "stream",
          "name": "stderr",
          "text": [
            "[nltk_data] Downloading package averaged_perceptron_tagger to\n",
            "[nltk_data]     /root/nltk_data...\n",
            "[nltk_data]   Unzipping taggers/averaged_perceptron_tagger.zip.\n",
            "[nltk_data] Downloading package stopwords to /root/nltk_data...\n",
            "[nltk_data]   Package stopwords is already up-to-date!\n"
          ]
        },
        {
          "output_type": "execute_result",
          "data": {
            "text/plain": [
              "True"
            ]
          },
          "metadata": {},
          "execution_count": 12
        }
      ],
      "source": [
        "import nltk\n",
        "nltk.download('averaged_perceptron_tagger')\n",
        "nltk.download('stopwords')\n"
      ]
    },
    {
      "cell_type": "code",
      "execution_count": null,
      "metadata": {
        "colab": {
          "base_uri": "https://localhost:8080/"
        },
        "id": "rO-6XFiyFyJW",
        "outputId": "1e02b066-dbcb-4f00-b738-4ae0efbdce70"
      },
      "outputs": [
        {
          "output_type": "display_data",
          "data": {
            "text/plain": [
              "<IPython.core.display.HTML object>"
            ],
            "text/html": [
              "\n",
              "  <style>\n",
              "    pre {white-space: pre-wrap;\n",
              "    }\n",
              "  </style>\n",
              "  "
            ]
          },
          "metadata": {}
        },
        {
          "output_type": "display_data",
          "data": {
            "text/plain": [
              "<IPython.core.display.HTML object>"
            ],
            "text/html": [
              "\n",
              "  <style>\n",
              "    pre {\n",
              "        white-space: pre-wrap;\n",
              "    }\n",
              "  </style>\n",
              "  "
            ]
          },
          "metadata": {}
        },
        {
          "output_type": "display_data",
          "data": {
            "text/plain": [
              "<IPython.core.display.HTML object>"
            ],
            "text/html": [
              "\n",
              "  <style>\n",
              "    pre {white-space: pre-wrap;\n",
              "    }\n",
              "  </style>\n",
              "  "
            ]
          },
          "metadata": {}
        }
      ],
      "source": [
        "try:\n",
        "  import contractions\n",
        "except ModuleNotFoundError:\n",
        "  %pip install -q contractions\n",
        "  import contractions"
      ]
    },
    {
      "cell_type": "code",
      "execution_count": null,
      "metadata": {
        "colab": {
          "base_uri": "https://localhost:8080/"
        },
        "id": "bOFBvIDKPn22",
        "outputId": "b50c9b53-1341-48bf-de02-c9de29f25251"
      },
      "outputs": [
        {
          "output_type": "display_data",
          "data": {
            "text/plain": [
              "<IPython.core.display.HTML object>"
            ],
            "text/html": [
              "\n",
              "  <style>\n",
              "    pre {white-space: pre-wrap;\n",
              "    }\n",
              "  </style>\n",
              "  "
            ]
          },
          "metadata": {}
        },
        {
          "output_type": "display_data",
          "data": {
            "text/plain": [
              "<IPython.core.display.HTML object>"
            ],
            "text/html": [
              "\n",
              "  <style>\n",
              "    pre {\n",
              "        white-space: pre-wrap;\n",
              "    }\n",
              "  </style>\n",
              "  "
            ]
          },
          "metadata": {}
        },
        {
          "output_type": "display_data",
          "data": {
            "text/plain": [
              "<IPython.core.display.HTML object>"
            ],
            "text/html": [
              "\n",
              "  <style>\n",
              "    pre {white-space: pre-wrap;\n",
              "    }\n",
              "  </style>\n",
              "  "
            ]
          },
          "metadata": {}
        }
      ],
      "source": [
        "# To wrap long text lines\n",
        "from IPython.display import HTML, display\n",
        "\n",
        "def set_css():\n",
        "  display(HTML('''\n",
        "  <style>\n",
        "    pre {\n",
        "        white-space: pre-wrap;\n",
        "    }\n",
        "  </style>\n",
        "  '''))\n",
        "get_ipython().events.register('pre_run_cell', set_css)"
      ]
    },
    {
      "cell_type": "code",
      "execution_count": null,
      "metadata": {
        "colab": {
          "base_uri": "https://localhost:8080/"
        },
        "id": "TzB86maDPr7K",
        "outputId": "6a1e1aa7-a493-4733-cc99-bc5656935d63"
      },
      "outputs": [
        {
          "output_type": "display_data",
          "data": {
            "text/plain": [
              "<IPython.core.display.HTML object>"
            ],
            "text/html": [
              "\n",
              "  <style>\n",
              "    pre {white-space: pre-wrap;\n",
              "    }\n",
              "  </style>\n",
              "  "
            ]
          },
          "metadata": {}
        },
        {
          "output_type": "display_data",
          "data": {
            "text/plain": [
              "<IPython.core.display.HTML object>"
            ],
            "text/html": [
              "\n",
              "  <style>\n",
              "    pre {\n",
              "        white-space: pre-wrap;\n",
              "    }\n",
              "  </style>\n",
              "  "
            ]
          },
          "metadata": {}
        },
        {
          "output_type": "display_data",
          "data": {
            "text/plain": [
              "<IPython.core.display.HTML object>"
            ],
            "text/html": [
              "\n",
              "  <style>\n",
              "    pre {white-space: pre-wrap;\n",
              "    }\n",
              "  </style>\n",
              "  "
            ]
          },
          "metadata": {}
        },
        {
          "output_type": "display_data",
          "data": {
            "text/plain": [
              "<IPython.core.display.HTML object>"
            ],
            "text/html": [
              "\n",
              "  <style>\n",
              "    pre {\n",
              "        white-space: pre-wrap;\n",
              "    }\n",
              "  </style>\n",
              "  "
            ]
          },
          "metadata": {}
        },
        {
          "output_type": "stream",
          "name": "stdout",
          "text": [
            "WARNING: At the time of writing this notebook, fa2 is not available for python 3.9 or higher\n",
            "You can try 'pip install fa2', but it will likely fail\n",
            "This is not a major issue. Some cells below that use Fa2 will not be executed, you can run the notebook anyway\n"
          ]
        }
      ],
      "source": [
        "# If fa2 is available, it is imported\n",
        "try:\n",
        "    from fa2 import ForceAtlas2\n",
        "    is_fa2 = True\n",
        "\n",
        "except ModuleNotFoundError:\n",
        "    if sys.version_info < (3, 9):\n",
        "        %pip install fa2\n",
        "        from fa2 import ForceAtlas2\n",
        "        is_fa2 = True\n",
        "    else:\n",
        "        print(\"WARNING: At the time of writing this notebook, fa2 is not available for python 3.9 or higher\")\n",
        "        print(\"You can try 'pip install fa2', but it will likely fail\")\n",
        "        print(\"This is not a major issue. Some cells below that use Fa2 will not be executed, you can run the notebook anyway\")\n",
        "        is_fa2 = False"
      ]
    },
    {
      "cell_type": "markdown",
      "metadata": {
        "id": "xyO8Xu628K4D"
      },
      "source": [
        "## Dataset"
      ]
    },
    {
      "cell_type": "code",
      "execution_count": null,
      "metadata": {
        "colab": {
          "base_uri": "https://localhost:8080/",
          "height": 760
        },
        "id": "Xh5PixwjlUYW",
        "outputId": "62ea9296-12be-4247-be07-c5868abe971d"
      },
      "outputs": [
        {
          "output_type": "display_data",
          "data": {
            "text/plain": [
              "<IPython.core.display.HTML object>"
            ],
            "text/html": [
              "\n",
              "  <style>\n",
              "    pre {white-space: pre-wrap;\n",
              "    }\n",
              "  </style>\n",
              "  "
            ]
          },
          "metadata": {}
        },
        {
          "output_type": "display_data",
          "data": {
            "text/plain": [
              "<IPython.core.display.HTML object>"
            ],
            "text/html": [
              "\n",
              "  <style>\n",
              "    pre {\n",
              "        white-space: pre-wrap;\n",
              "    }\n",
              "  </style>\n",
              "  "
            ]
          },
          "metadata": {}
        },
        {
          "output_type": "display_data",
          "data": {
            "text/plain": [
              "<IPython.core.display.HTML object>"
            ],
            "text/html": [
              "\n",
              "  <style>\n",
              "    pre {white-space: pre-wrap;\n",
              "    }\n",
              "  </style>\n",
              "  "
            ]
          },
          "metadata": {}
        },
        {
          "output_type": "display_data",
          "data": {
            "text/plain": [
              "<IPython.core.display.HTML object>"
            ],
            "text/html": [
              "\n",
              "  <style>\n",
              "    pre {\n",
              "        white-space: pre-wrap;\n",
              "    }\n",
              "  </style>\n",
              "  "
            ]
          },
          "metadata": {}
        },
        {
          "output_type": "execute_result",
          "data": {
            "text/plain": [
              "                                          Post Title  \\\n",
              "0                     AI is an overblown mess right?   \n",
              "1   bump this thread every time you take a huge shit   \n",
              "2                                 ITT new user names   \n",
              "3  Unpopular Videogame Opinions: A Midsummer's Ni...   \n",
              "4                  Check out this snake's giant shit   \n",
              "\n",
              "                                           Post Text  \\\n",
              "0  Its not going to change the world or even do ...   \n",
              "1  i think my toilet knew what was coming. and pr...   \n",
              "2  Post good as heck forum handles in case a lurk...   \n",
              "3  DKC 3: Dixie's Double Trouble was better than ...   \n",
              "4  .\\nOnly registered members can see post attach...   \n",
              "\n",
              "                                     clean_post_text  topic_number  \\\n",
              "0  go change world even useful right look like in...             8   \n",
              "1                        think toilet knew come clog             1   \n",
              "2  post good forum handle case lurker want finall...            12   \n",
              "3  dixie double trouble well super world super el...             1   \n",
              "4                register member see post attachment            12   \n",
              "\n",
              "  topic_interpretation  clusters  SVD_Component_1  SVD_Component_2  \\\n",
              "0             Memories        12         0.236973        -0.085515   \n",
              "1            Wholesome         5         0.069037        -0.026847   \n",
              "2               Forums         1         0.122802         0.023675   \n",
              "3            Wholesome        14         0.068145        -0.021710   \n",
              "4               Forums         6         0.159722         0.240791   \n",
              "\n",
              "                                    emotional_scores  \\\n",
              "0  {'Anger': 0, 'Anticipation': 0, 'Disgust': 0, ...   \n",
              "1  {'Anger': 0, 'Anticipation': 1, 'Disgust': 1, ...   \n",
              "2  {'Anger': 0, 'Anticipation': 6, 'Disgust': 1, ...   \n",
              "3  {'Anger': 1, 'Anticipation': 2, 'Disgust': 0, ...   \n",
              "4  {'Anger': 0, 'Anticipation': 0, 'Disgust': 0, ...   \n",
              "\n",
              "                             scaled_emotional_scores   max_emotion sentiment  \\\n",
              "0  {'Anger': 0.0, 'Anticipation': 0.0, 'Disgust':...          Fear  positive   \n",
              "1  {'Anger': 0.0, 'Anticipation': 2.4929573953581...       Disgust   neutral   \n",
              "2  {'Anger': 0.0, 'Anticipation': 0.0001495774437...  Anticipation  positive   \n",
              "3  {'Anger': 3.8284839203675343e-05, 'Anticipatio...           Joy  positive   \n",
              "4  {'Anger': 0.0, 'Anticipation': 0.0, 'Disgust':...    No Emotion  positive   \n",
              "\n",
              "  Recommended Emojis                                    topic_emojis  \\\n",
              "0              😈,😅,🤗                   ['🤚', '🧑\\u200d🤝\\u200d🧑', '🙋']   \n",
              "1              🤤,💩,🤮                                 ['💇', '💆', '👌']   \n",
              "2              😃,😆,😀                         ['👌', '🙋\\u200d♂️', '🙋']   \n",
              "3              😙,😅,😁  ['🤽\\u200d♂️', '🏃\\u200d♂️', '👨\\u200d❤️\\u200d👨']   \n",
              "4              🥰,🙂,😈                   ['🏤', '🏣', '🧑\\u200d🤝\\u200d🧑']   \n",
              "\n",
              "  formatted_emojis  \n",
              "0          🤚🧑‍🤝‍🧑🙋  \n",
              "1              💇💆👌  \n",
              "2           👌🙋‍♂️🙋  \n",
              "3   🤽‍♂️🏃‍♂️👨‍❤️‍👨  \n",
              "4          🏤🏣🧑‍🤝‍🧑  "
            ],
            "text/html": [
              "\n",
              "  <div id=\"df-8403ded5-f71a-4dea-b1d7-2981183a4b91\" class=\"colab-df-container\">\n",
              "    <div>\n",
              "<style scoped>\n",
              "    .dataframe tbody tr th:only-of-type {\n",
              "        vertical-align: middle;\n",
              "    }\n",
              "\n",
              "    .dataframe tbody tr th {\n",
              "        vertical-align: top;\n",
              "    }\n",
              "\n",
              "    .dataframe thead th {\n",
              "        text-align: right;\n",
              "    }\n",
              "</style>\n",
              "<table border=\"1\" class=\"dataframe\">\n",
              "  <thead>\n",
              "    <tr style=\"text-align: right;\">\n",
              "      <th></th>\n",
              "      <th>Post Title</th>\n",
              "      <th>Post Text</th>\n",
              "      <th>clean_post_text</th>\n",
              "      <th>topic_number</th>\n",
              "      <th>topic_interpretation</th>\n",
              "      <th>clusters</th>\n",
              "      <th>SVD_Component_1</th>\n",
              "      <th>SVD_Component_2</th>\n",
              "      <th>emotional_scores</th>\n",
              "      <th>scaled_emotional_scores</th>\n",
              "      <th>max_emotion</th>\n",
              "      <th>sentiment</th>\n",
              "      <th>Recommended Emojis</th>\n",
              "      <th>topic_emojis</th>\n",
              "      <th>formatted_emojis</th>\n",
              "    </tr>\n",
              "  </thead>\n",
              "  <tbody>\n",
              "    <tr>\n",
              "      <th>0</th>\n",
              "      <td>AI is an overblown mess right?</td>\n",
              "      <td>Its not going to change the world or even do ...</td>\n",
              "      <td>go change world even useful right look like in...</td>\n",
              "      <td>8</td>\n",
              "      <td>Memories</td>\n",
              "      <td>12</td>\n",
              "      <td>0.236973</td>\n",
              "      <td>-0.085515</td>\n",
              "      <td>{'Anger': 0, 'Anticipation': 0, 'Disgust': 0, ...</td>\n",
              "      <td>{'Anger': 0.0, 'Anticipation': 0.0, 'Disgust':...</td>\n",
              "      <td>Fear</td>\n",
              "      <td>positive</td>\n",
              "      <td>😈,😅,🤗</td>\n",
              "      <td>['🤚', '🧑\\u200d🤝\\u200d🧑', '🙋']</td>\n",
              "      <td>🤚🧑‍🤝‍🧑🙋</td>\n",
              "    </tr>\n",
              "    <tr>\n",
              "      <th>1</th>\n",
              "      <td>bump this thread every time you take a huge shit</td>\n",
              "      <td>i think my toilet knew what was coming. and pr...</td>\n",
              "      <td>think toilet knew come clog</td>\n",
              "      <td>1</td>\n",
              "      <td>Wholesome</td>\n",
              "      <td>5</td>\n",
              "      <td>0.069037</td>\n",
              "      <td>-0.026847</td>\n",
              "      <td>{'Anger': 0, 'Anticipation': 1, 'Disgust': 1, ...</td>\n",
              "      <td>{'Anger': 0.0, 'Anticipation': 2.4929573953581...</td>\n",
              "      <td>Disgust</td>\n",
              "      <td>neutral</td>\n",
              "      <td>🤤,💩,🤮</td>\n",
              "      <td>['💇', '💆', '👌']</td>\n",
              "      <td>💇💆👌</td>\n",
              "    </tr>\n",
              "    <tr>\n",
              "      <th>2</th>\n",
              "      <td>ITT new user names</td>\n",
              "      <td>Post good as heck forum handles in case a lurk...</td>\n",
              "      <td>post good forum handle case lurker want finall...</td>\n",
              "      <td>12</td>\n",
              "      <td>Forums</td>\n",
              "      <td>1</td>\n",
              "      <td>0.122802</td>\n",
              "      <td>0.023675</td>\n",
              "      <td>{'Anger': 0, 'Anticipation': 6, 'Disgust': 1, ...</td>\n",
              "      <td>{'Anger': 0.0, 'Anticipation': 0.0001495774437...</td>\n",
              "      <td>Anticipation</td>\n",
              "      <td>positive</td>\n",
              "      <td>😃,😆,😀</td>\n",
              "      <td>['👌', '🙋\\u200d♂️', '🙋']</td>\n",
              "      <td>👌🙋‍♂️🙋</td>\n",
              "    </tr>\n",
              "    <tr>\n",
              "      <th>3</th>\n",
              "      <td>Unpopular Videogame Opinions: A Midsummer's Ni...</td>\n",
              "      <td>DKC 3: Dixie's Double Trouble was better than ...</td>\n",
              "      <td>dixie double trouble well super world super el...</td>\n",
              "      <td>1</td>\n",
              "      <td>Wholesome</td>\n",
              "      <td>14</td>\n",
              "      <td>0.068145</td>\n",
              "      <td>-0.021710</td>\n",
              "      <td>{'Anger': 1, 'Anticipation': 2, 'Disgust': 0, ...</td>\n",
              "      <td>{'Anger': 3.8284839203675343e-05, 'Anticipatio...</td>\n",
              "      <td>Joy</td>\n",
              "      <td>positive</td>\n",
              "      <td>😙,😅,😁</td>\n",
              "      <td>['🤽\\u200d♂️', '🏃\\u200d♂️', '👨\\u200d❤️\\u200d👨']</td>\n",
              "      <td>🤽‍♂️🏃‍♂️👨‍❤️‍👨</td>\n",
              "    </tr>\n",
              "    <tr>\n",
              "      <th>4</th>\n",
              "      <td>Check out this snake's giant shit</td>\n",
              "      <td>.\\nOnly registered members can see post attach...</td>\n",
              "      <td>register member see post attachment</td>\n",
              "      <td>12</td>\n",
              "      <td>Forums</td>\n",
              "      <td>6</td>\n",
              "      <td>0.159722</td>\n",
              "      <td>0.240791</td>\n",
              "      <td>{'Anger': 0, 'Anticipation': 0, 'Disgust': 0, ...</td>\n",
              "      <td>{'Anger': 0.0, 'Anticipation': 0.0, 'Disgust':...</td>\n",
              "      <td>No Emotion</td>\n",
              "      <td>positive</td>\n",
              "      <td>🥰,🙂,😈</td>\n",
              "      <td>['🏤', '🏣', '🧑\\u200d🤝\\u200d🧑']</td>\n",
              "      <td>🏤🏣🧑‍🤝‍🧑</td>\n",
              "    </tr>\n",
              "  </tbody>\n",
              "</table>\n",
              "</div>\n",
              "    <div class=\"colab-df-buttons\">\n",
              "\n",
              "  <div class=\"colab-df-container\">\n",
              "    <button class=\"colab-df-convert\" onclick=\"convertToInteractive('df-8403ded5-f71a-4dea-b1d7-2981183a4b91')\"\n",
              "            title=\"Convert this dataframe to an interactive table.\"\n",
              "            style=\"display:none;\">\n",
              "\n",
              "  <svg xmlns=\"http://www.w3.org/2000/svg\" height=\"24px\" viewBox=\"0 -960 960 960\">\n",
              "    <path d=\"M120-120v-720h720v720H120Zm60-500h600v-160H180v160Zm220 220h160v-160H400v160Zm0 220h160v-160H400v160ZM180-400h160v-160H180v160Zm440 0h160v-160H620v160ZM180-180h160v-160H180v160Zm440 0h160v-160H620v160Z\"/>\n",
              "  </svg>\n",
              "    </button>\n",
              "\n",
              "  <style>\n",
              "    .colab-df-container {\n",
              "      display:flex;\n",
              "      gap: 12px;\n",
              "    }\n",
              "\n",
              "    .colab-df-convert {\n",
              "      background-color: #E8F0FE;\n",
              "      border: none;\n",
              "      border-radius: 50%;\n",
              "      cursor: pointer;\n",
              "      display: none;\n",
              "      fill: #1967D2;\n",
              "      height: 32px;\n",
              "      padding: 0 0 0 0;\n",
              "      width: 32px;\n",
              "    }\n",
              "\n",
              "    .colab-df-convert:hover {\n",
              "      background-color: #E2EBFA;\n",
              "      box-shadow: 0px 1px 2px rgba(60, 64, 67, 0.3), 0px 1px 3px 1px rgba(60, 64, 67, 0.15);\n",
              "      fill: #174EA6;\n",
              "    }\n",
              "\n",
              "    .colab-df-buttons div {\n",
              "      margin-bottom: 4px;\n",
              "    }\n",
              "\n",
              "    [theme=dark] .colab-df-convert {\n",
              "      background-color: #3B4455;\n",
              "      fill: #D2E3FC;\n",
              "    }\n",
              "\n",
              "    [theme=dark] .colab-df-convert:hover {\n",
              "      background-color: #434B5C;\n",
              "      box-shadow: 0px 1px 3px 1px rgba(0, 0, 0, 0.15);\n",
              "      filter: drop-shadow(0px 1px 2px rgba(0, 0, 0, 0.3));\n",
              "      fill: #FFFFFF;\n",
              "    }\n",
              "  </style>\n",
              "\n",
              "    <script>\n",
              "      const buttonEl =\n",
              "        document.querySelector('#df-8403ded5-f71a-4dea-b1d7-2981183a4b91 button.colab-df-convert');\n",
              "      buttonEl.style.display =\n",
              "        google.colab.kernel.accessAllowed ? 'block' : 'none';\n",
              "\n",
              "      async function convertToInteractive(key) {\n",
              "        const element = document.querySelector('#df-8403ded5-f71a-4dea-b1d7-2981183a4b91');\n",
              "        const dataTable =\n",
              "          await google.colab.kernel.invokeFunction('convertToInteractive',\n",
              "                                                    [key], {});\n",
              "        if (!dataTable) return;\n",
              "\n",
              "        const docLinkHtml = 'Like what you see? Visit the ' +\n",
              "          '<a target=\"_blank\" href=https://colab.research.google.com/notebooks/data_table.ipynb>data table notebook</a>'\n",
              "          + ' to learn more about interactive tables.';\n",
              "        element.innerHTML = '';\n",
              "        dataTable['output_type'] = 'display_data';\n",
              "        await google.colab.output.renderOutput(dataTable, element);\n",
              "        const docLink = document.createElement('div');\n",
              "        docLink.innerHTML = docLinkHtml;\n",
              "        element.appendChild(docLink);\n",
              "      }\n",
              "    </script>\n",
              "  </div>\n",
              "\n",
              "\n",
              "<div id=\"df-e349cfc7-b110-4ac4-af29-e00c8fe24bbd\">\n",
              "  <button class=\"colab-df-quickchart\" onclick=\"quickchart('df-e349cfc7-b110-4ac4-af29-e00c8fe24bbd')\"\n",
              "            title=\"Suggest charts\"\n",
              "            style=\"display:none;\">\n",
              "\n",
              "<svg xmlns=\"http://www.w3.org/2000/svg\" height=\"24px\"viewBox=\"0 0 24 24\"\n",
              "     width=\"24px\">\n",
              "    <g>\n",
              "        <path d=\"M19 3H5c-1.1 0-2 .9-2 2v14c0 1.1.9 2 2 2h14c1.1 0 2-.9 2-2V5c0-1.1-.9-2-2-2zM9 17H7v-7h2v7zm4 0h-2V7h2v10zm4 0h-2v-4h2v4z\"/>\n",
              "    </g>\n",
              "</svg>\n",
              "  </button>\n",
              "\n",
              "<style>\n",
              "  .colab-df-quickchart {\n",
              "      --bg-color: #E8F0FE;\n",
              "      --fill-color: #1967D2;\n",
              "      --hover-bg-color: #E2EBFA;\n",
              "      --hover-fill-color: #174EA6;\n",
              "      --disabled-fill-color: #AAA;\n",
              "      --disabled-bg-color: #DDD;\n",
              "  }\n",
              "\n",
              "  [theme=dark] .colab-df-quickchart {\n",
              "      --bg-color: #3B4455;\n",
              "      --fill-color: #D2E3FC;\n",
              "      --hover-bg-color: #434B5C;\n",
              "      --hover-fill-color: #FFFFFF;\n",
              "      --disabled-bg-color: #3B4455;\n",
              "      --disabled-fill-color: #666;\n",
              "  }\n",
              "\n",
              "  .colab-df-quickchart {\n",
              "    background-color: var(--bg-color);\n",
              "    border: none;\n",
              "    border-radius: 50%;\n",
              "    cursor: pointer;\n",
              "    display: none;\n",
              "    fill: var(--fill-color);\n",
              "    height: 32px;\n",
              "    padding: 0;\n",
              "    width: 32px;\n",
              "  }\n",
              "\n",
              "  .colab-df-quickchart:hover {\n",
              "    background-color: var(--hover-bg-color);\n",
              "    box-shadow: 0 1px 2px rgba(60, 64, 67, 0.3), 0 1px 3px 1px rgba(60, 64, 67, 0.15);\n",
              "    fill: var(--button-hover-fill-color);\n",
              "  }\n",
              "\n",
              "  .colab-df-quickchart-complete:disabled,\n",
              "  .colab-df-quickchart-complete:disabled:hover {\n",
              "    background-color: var(--disabled-bg-color);\n",
              "    fill: var(--disabled-fill-color);\n",
              "    box-shadow: none;\n",
              "  }\n",
              "\n",
              "  .colab-df-spinner {\n",
              "    border: 2px solid var(--fill-color);\n",
              "    border-color: transparent;\n",
              "    border-bottom-color: var(--fill-color);\n",
              "    animation:\n",
              "      spin 1s steps(1) infinite;\n",
              "  }\n",
              "\n",
              "  @keyframes spin {\n",
              "    0% {\n",
              "      border-color: transparent;\n",
              "      border-bottom-color: var(--fill-color);\n",
              "      border-left-color: var(--fill-color);\n",
              "    }\n",
              "    20% {\n",
              "      border-color: transparent;\n",
              "      border-left-color: var(--fill-color);\n",
              "      border-top-color: var(--fill-color);\n",
              "    }\n",
              "    30% {\n",
              "      border-color: transparent;\n",
              "      border-left-color: var(--fill-color);\n",
              "      border-top-color: var(--fill-color);\n",
              "      border-right-color: var(--fill-color);\n",
              "    }\n",
              "    40% {\n",
              "      border-color: transparent;\n",
              "      border-right-color: var(--fill-color);\n",
              "      border-top-color: var(--fill-color);\n",
              "    }\n",
              "    60% {\n",
              "      border-color: transparent;\n",
              "      border-right-color: var(--fill-color);\n",
              "    }\n",
              "    80% {\n",
              "      border-color: transparent;\n",
              "      border-right-color: var(--fill-color);\n",
              "      border-bottom-color: var(--fill-color);\n",
              "    }\n",
              "    90% {\n",
              "      border-color: transparent;\n",
              "      border-bottom-color: var(--fill-color);\n",
              "    }\n",
              "  }\n",
              "</style>\n",
              "\n",
              "  <script>\n",
              "    async function quickchart(key) {\n",
              "      const quickchartButtonEl =\n",
              "        document.querySelector('#' + key + ' button');\n",
              "      quickchartButtonEl.disabled = true;  // To prevent multiple clicks.\n",
              "      quickchartButtonEl.classList.add('colab-df-spinner');\n",
              "      try {\n",
              "        const charts = await google.colab.kernel.invokeFunction(\n",
              "            'suggestCharts', [key], {});\n",
              "      } catch (error) {\n",
              "        console.error('Error during call to suggestCharts:', error);\n",
              "      }\n",
              "      quickchartButtonEl.classList.remove('colab-df-spinner');\n",
              "      quickchartButtonEl.classList.add('colab-df-quickchart-complete');\n",
              "    }\n",
              "    (() => {\n",
              "      let quickchartButtonEl =\n",
              "        document.querySelector('#df-e349cfc7-b110-4ac4-af29-e00c8fe24bbd button');\n",
              "      quickchartButtonEl.style.display =\n",
              "        google.colab.kernel.accessAllowed ? 'block' : 'none';\n",
              "    })();\n",
              "  </script>\n",
              "</div>\n",
              "    </div>\n",
              "  </div>\n"
            ],
            "application/vnd.google.colaboratory.intrinsic+json": {
              "type": "dataframe",
              "variable_name": "forum",
              "summary": "{\n  \"name\": \"forum\",\n  \"rows\": 15959,\n  \"fields\": [\n    {\n      \"column\": \"Post Title\",\n      \"properties\": {\n        \"dtype\": \"string\",\n        \"num_unique_values\": 15922,\n        \"samples\": [\n          \"Do you wear tighty whities?\",\n          \"The Doughnut thread: Post your favorite doughnuts in here\",\n          \"Annual Compliment Nooner Thread\"\n        ],\n        \"semantic_type\": \"\",\n        \"description\": \"\"\n      }\n    },\n    {\n      \"column\": \"Post Text\",\n      \"properties\": {\n        \"dtype\": \"string\",\n        \"num_unique_values\": 15959,\n        \"samples\": [\n          \"What do you goons think about the United Methodist Church? It will likely schism this year or next because it\\u0092s democratic and the majority keeps voting against GLBTQ rights. It\\u0092s also going to shrink a lot in the coming decades because the average congregation is mostly blue hairs and not a lot of young families.\\nAny opinions?\",\n          \"Sometimes I'll sit on the floor with my back to a wall and my legs straight out in front of me and just hold that position for a while. The stretching in my hamstrings is really satisfying.\",\n          \"I'm posting this thread early so that on Xmas eve you can refer to this thread and buy something from your local gas station for your loved one(s).\"\n        ],\n        \"semantic_type\": \"\",\n        \"description\": \"\"\n      }\n    },\n    {\n      \"column\": \"clean_post_text\",\n      \"properties\": {\n        \"dtype\": \"string\",\n        \"num_unique_values\": 15679,\n        \"samples\": [\n          \"pet island never clicked ever see click edit well till get pet guess\",\n          \"dead rip billy voice actor anime video game\",\n          \"go john tyler check retard wife look like retard look side side river bitch retard look one even want vice president probably kill harrison big ugly pus harrison also look like huge retard though anyway u president think look stupidest gayest straightest big pecker\"\n        ],\n        \"semantic_type\": \"\",\n        \"description\": \"\"\n      }\n    },\n    {\n      \"column\": \"topic_number\",\n      \"properties\": {\n        \"dtype\": \"number\",\n        \"std\": 4,\n        \"min\": 0,\n        \"max\": 14,\n        \"num_unique_values\": 15,\n        \"samples\": [\n          2,\n          3,\n          8\n        ],\n        \"semantic_type\": \"\",\n        \"description\": \"\"\n      }\n    },\n    {\n      \"column\": \"topic_interpretation\",\n      \"properties\": {\n        \"dtype\": \"category\",\n        \"num_unique_values\": 15,\n        \"samples\": [\n          \"America Politics\",\n          \"Body\",\n          \"Memories\"\n        ],\n        \"semantic_type\": \"\",\n        \"description\": \"\"\n      }\n    },\n    {\n      \"column\": \"clusters\",\n      \"properties\": {\n        \"dtype\": \"number\",\n        \"std\": 4,\n        \"min\": 0,\n        \"max\": 14,\n        \"num_unique_values\": 15,\n        \"samples\": [\n          10,\n          3,\n          12\n        ],\n        \"semantic_type\": \"\",\n        \"description\": \"\"\n      }\n    },\n    {\n      \"column\": \"SVD_Component_1\",\n      \"properties\": {\n        \"dtype\": \"number\",\n        \"std\": 0.06252134802902669,\n        \"min\": -5.115261171370081e-14,\n        \"max\": 0.4075717506295591,\n        \"num_unique_values\": 15653,\n        \"samples\": [\n          0.1022674669618886,\n          0.1405989618584683,\n          0.1484682638915014\n        ],\n        \"semantic_type\": \"\",\n        \"description\": \"\"\n      }\n    },\n    {\n      \"column\": \"SVD_Component_2\",\n      \"properties\": {\n        \"dtype\": \"number\",\n        \"std\": 0.09105288267500176,\n        \"min\": -0.1367548855000513,\n        \"max\": 0.8983954968695183,\n        \"num_unique_values\": 15653,\n        \"samples\": [\n          0.0301280595824672,\n          -0.0395908462817876,\n          -0.0453780913657124\n        ],\n        \"semantic_type\": \"\",\n        \"description\": \"\"\n      }\n    },\n    {\n      \"column\": \"emotional_scores\",\n      \"properties\": {\n        \"dtype\": \"string\",\n        \"num_unique_values\": 8939,\n        \"samples\": [\n          \"{'Anger': 3, 'Anticipation': 0, 'Disgust': 2, 'Fear': 4, 'Joy': 1, 'Sadness': 4, 'Surprise': 1, 'Trust': 0}\",\n          \"{'Anger': 4, 'Anticipation': 1, 'Disgust': 1, 'Fear': 3, 'Joy': 1, 'Sadness': 1, 'Surprise': 2, 'Trust': 5}\",\n          \"{'Anger': 2, 'Anticipation': 1, 'Disgust': 1, 'Fear': 1, 'Joy': 6, 'Sadness': 3, 'Surprise': 1, 'Trust': 2}\"\n        ],\n        \"semantic_type\": \"\",\n        \"description\": \"\"\n      }\n    },\n    {\n      \"column\": \"scaled_emotional_scores\",\n      \"properties\": {\n        \"dtype\": \"string\",\n        \"num_unique_values\": 8939,\n        \"samples\": [\n          \"{'Anger': 0.00011485451761102603, 'Anticipation': 0.0, 'Disgust': 0.00010526315789473685, 'Fear': 0.00011767820893765997, 'Joy': 2.6311635004999212e-05, 'Sadness': 0.00012556898446083818, 'Surprise': 5.1802735184417735e-05, 'Trust': 0.0}\",\n          \"{'Anger': 0.00015313935681470137, 'Anticipation': 2.4929573953581132e-05, 'Disgust': 5.2631578947368424e-05, 'Fear': 8.825865670324497e-05, 'Joy': 2.6311635004999212e-05, 'Sadness': 3.1392246115209545e-05, 'Surprise': 0.00010360547036883547, 'Trust': 9.754194303550527e-05}\",\n          \"{'Anger': 7.656967840735069e-05, 'Anticipation': 2.4929573953581132e-05, 'Disgust': 5.2631578947368424e-05, 'Fear': 2.9419552234414993e-05, 'Joy': 0.00015786981002999527, 'Sadness': 9.417673834562863e-05, 'Surprise': 5.1802735184417735e-05, 'Trust': 3.901677721420211e-05}\"\n        ],\n        \"semantic_type\": \"\",\n        \"description\": \"\"\n      }\n    },\n    {\n      \"column\": \"max_emotion\",\n      \"properties\": {\n        \"dtype\": \"category\",\n        \"num_unique_values\": 9,\n        \"samples\": [\n          \"Surprise\",\n          \"Disgust\",\n          \"Trust\"\n        ],\n        \"semantic_type\": \"\",\n        \"description\": \"\"\n      }\n    },\n    {\n      \"column\": \"sentiment\",\n      \"properties\": {\n        \"dtype\": \"category\",\n        \"num_unique_values\": 3,\n        \"samples\": [\n          \"positive\",\n          \"neutral\",\n          \"negative\"\n        ],\n        \"semantic_type\": \"\",\n        \"description\": \"\"\n      }\n    },\n    {\n      \"column\": \"Recommended Emojis\",\n      \"properties\": {\n        \"dtype\": \"category\",\n        \"num_unique_values\": 620,\n        \"samples\": [\n          \"\\ud83e\\udd2d,\\ud83d\\ude04,\\ud83d\\ude19\",\n          \"\\ud83d\\ude01,\\ud83d\\ude04,\\ud83d\\ude14\",\n          \"\\ud83e\\udd2c,\\ud83e\\udd2a,\\ud83e\\udd10\"\n        ],\n        \"semantic_type\": \"\",\n        \"description\": \"\"\n      }\n    },\n    {\n      \"column\": \"topic_emojis\",\n      \"properties\": {\n        \"dtype\": \"category\",\n        \"num_unique_values\": 6025,\n        \"samples\": [\n          \"['\\ud83d\\udc68\\\\u200d\\ud83d\\udc67', '\\ud83d\\udc68\\\\u200d\\ud83c\\udfeb', '\\ud83d\\udc68\\\\u200d\\ud83d\\udc67\\\\u200d\\ud83d\\udc66']\",\n          \"['\\ud83c\\udfb5', '\\ud83c\\udfb6', '\\u270d']\",\n          \"['\\ud83d\\udc8c', '\\ud83d\\ude45\\\\u200d\\u2640\\ufe0f', '\\ud83d\\ude46\\\\u200d\\u2642\\ufe0f']\"\n        ],\n        \"semantic_type\": \"\",\n        \"description\": \"\"\n      }\n    },\n    {\n      \"column\": \"formatted_emojis\",\n      \"properties\": {\n        \"dtype\": \"category\",\n        \"num_unique_values\": 6025,\n        \"samples\": [\n          \"\\ud83d\\udc68\\u200d\\ud83d\\udc67\\ud83d\\udc68\\u200d\\ud83c\\udfeb\\ud83d\\udc68\\u200d\\ud83d\\udc67\\u200d\\ud83d\\udc66\",\n          \"\\ud83c\\udfb5\\ud83c\\udfb6\\u270d\",\n          \"\\ud83d\\udc8c\\ud83d\\ude45\\u200d\\u2640\\ufe0f\\ud83d\\ude46\\u200d\\u2642\\ufe0f\"\n        ],\n        \"semantic_type\": \"\",\n        \"description\": \"\"\n      }\n    }\n  ]\n}"
            },
            "application/vnd.google.colaboratory.module+javascript": "\n      import \"https://ssl.gstatic.com/colaboratory/data_table/881c4a0d49046431/data_table.js\";\n\n      const table = window.createDataTable({\n        data: [[{\n            'v': 0,\n            'f': \"0\",\n        },\n\"AI is an overblown mess right?\",\n\"It\\u0092s not going to change the world or even do anything useful, right looks like the Internet of things from 10 years ago?\",\n\"go change world even useful right look like internet thing year ago\",\n{\n            'v': 8,\n            'f': \"8\",\n        },\n\"Memories\",\n{\n            'v': 12,\n            'f': \"12\",\n        },\n{\n            'v': 0.2369725610823825,\n            'f': \"0.2369725610823825\",\n        },\n{\n            'v': -0.0855147845138339,\n            'f': \"-0.0855147845138339\",\n        },\n\"{'Anger': 0, 'Anticipation': 0, 'Disgust': 0, 'Fear': 1, 'Joy': 1, 'Sadness': 0, 'Surprise': 0, 'Trust': 1}\",\n\"{'Anger': 0.0, 'Anticipation': 0.0, 'Disgust': 0.0, 'Fear': 2.9419552234414993e-05, 'Joy': 2.6311635004999212e-05, 'Sadness': 0.0, 'Surprise': 0.0, 'Trust': 1.9508388607101055e-05}\",\n\"Fear\",\n\"positive\",\n\"\\ud83d\\ude08,\\ud83d\\ude05,\\ud83e\\udd17\",\n\"['\\ud83e\\udd1a', '\\ud83e\\uddd1\\\\u200d\\ud83e\\udd1d\\\\u200d\\ud83e\\uddd1', '\\ud83d\\ude4b']\",\n\"\\ud83e\\udd1a\\ud83e\\uddd1\\u200d\\ud83e\\udd1d\\u200d\\ud83e\\uddd1\\ud83d\\ude4b\"],\n [{\n            'v': 1,\n            'f': \"1\",\n        },\n\"bump this thread every time you take a huge shit\",\n\"i think my toilet knew what was coming. and pre-emptively clogged itself\",\n\"think toilet knew come clog\",\n{\n            'v': 1,\n            'f': \"1\",\n        },\n\"Wholesome\",\n{\n            'v': 5,\n            'f': \"5\",\n        },\n{\n            'v': 0.0690371026755097,\n            'f': \"0.0690371026755097\",\n        },\n{\n            'v': -0.0268470958787834,\n            'f': \"-0.0268470958787834\",\n        },\n\"{'Anger': 0, 'Anticipation': 1, 'Disgust': 1, 'Fear': 0, 'Joy': 0, 'Sadness': 0, 'Surprise': 0, 'Trust': 0}\",\n\"{'Anger': 0.0, 'Anticipation': 2.4929573953581132e-05, 'Disgust': 5.2631578947368424e-05, 'Fear': 0.0, 'Joy': 0.0, 'Sadness': 0.0, 'Surprise': 0.0, 'Trust': 0.0}\",\n\"Disgust\",\n\"neutral\",\n\"\\ud83e\\udd24,\\ud83d\\udca9,\\ud83e\\udd2e\",\n\"['\\ud83d\\udc87', '\\ud83d\\udc86', '\\ud83d\\udc4c']\",\n\"\\ud83d\\udc87\\ud83d\\udc86\\ud83d\\udc4c\"],\n [{\n            'v': 2,\n            'f': \"2\",\n        },\n\"ITT new user names\",\n\"Post good as heck forum handles in case a lurker wants to finally pay\\nand is too dumb to come up with an original name, or you want to change your name to something different.\\nGraffix Bong Jester\\nCongressman Rod Blum\\nall uppercase letters\\nThat Get In Frog\\nYES...HA HA HA...YES!\",\n\"post good forum handle case lurker want finally pay dumb come original name want change name different bong jester congressman rod uppercase letter get frog yes ha ha ha yes\",\n{\n            'v': 12,\n            'f': \"12\",\n        },\n\"Forums\",\n{\n            'v': 1,\n            'f': \"1\",\n        },\n{\n            'v': 0.1228019203913655,\n            'f': \"0.1228019203913655\",\n        },\n{\n            'v': 0.0236751810565057,\n            'f': \"0.0236751810565057\",\n        },\n\"{'Anger': 0, 'Anticipation': 6, 'Disgust': 1, 'Fear': 3, 'Joy': 3, 'Sadness': 3, 'Surprise': 2, 'Trust': 6}\",\n\"{'Anger': 0.0, 'Anticipation': 0.0001495774437214868, 'Disgust': 5.2631578947368424e-05, 'Fear': 8.825865670324497e-05, 'Joy': 7.893490501499764e-05, 'Sadness': 9.417673834562863e-05, 'Surprise': 0.00010360547036883547, 'Trust': 0.00011705033164260632}\",\n\"Anticipation\",\n\"positive\",\n\"\\ud83d\\ude03,\\ud83d\\ude06,\\ud83d\\ude00\",\n\"['\\ud83d\\udc4c', '\\ud83d\\ude4b\\\\u200d\\u2642\\ufe0f', '\\ud83d\\ude4b']\",\n\"\\ud83d\\udc4c\\ud83d\\ude4b\\u200d\\u2642\\ufe0f\\ud83d\\ude4b\"],\n [{\n            'v': 3,\n            'f': \"3\",\n        },\n\"Unpopular Videogame Opinions: A Midsummer's Night's Dreamcast\",\n\"DKC 3: Dixie's Double Trouble was better than DKC 1-2\\nSuper Mario World > Super Mario Bros 3\\nEliminator Boat Duel (NES) is an 8-bit masterpiece and if you ain't played it well gently caress you buddy\",\n\"dixie double trouble well super world super eliminator boat duel ne bit masterpiece played well gently caress buddy\",\n{\n            'v': 1,\n            'f': \"1\",\n        },\n\"Wholesome\",\n{\n            'v': 14,\n            'f': \"14\",\n        },\n{\n            'v': 0.0681450167453282,\n            'f': \"0.0681450167453282\",\n        },\n{\n            'v': -0.021710433566967,\n            'f': \"-0.021710433566967\",\n        },\n\"{'Anger': 1, 'Anticipation': 2, 'Disgust': 0, 'Fear': 1, 'Joy': 2, 'Sadness': 0, 'Surprise': 0, 'Trust': 1}\",\n\"{'Anger': 3.8284839203675343e-05, 'Anticipation': 4.9859147907162265e-05, 'Disgust': 0.0, 'Fear': 2.9419552234414993e-05, 'Joy': 5.2623270009998424e-05, 'Sadness': 0.0, 'Surprise': 0.0, 'Trust': 1.9508388607101055e-05}\",\n\"Joy\",\n\"positive\",\n\"\\ud83d\\ude19,\\ud83d\\ude05,\\ud83d\\ude01\",\n\"['\\ud83e\\udd3d\\\\u200d\\u2642\\ufe0f', '\\ud83c\\udfc3\\\\u200d\\u2642\\ufe0f', '\\ud83d\\udc68\\\\u200d\\u2764\\ufe0f\\\\u200d\\ud83d\\udc68']\",\n\"\\ud83e\\udd3d\\u200d\\u2642\\ufe0f\\ud83c\\udfc3\\u200d\\u2642\\ufe0f\\ud83d\\udc68\\u200d\\u2764\\ufe0f\\u200d\\ud83d\\udc68\"],\n [{\n            'v': 4,\n            'f': \"4\",\n        },\n\"Check out this snake's giant shit\",\n\".\\nOnly registered members can see post attachments!\",\n\"register member see post attachment\",\n{\n            'v': 12,\n            'f': \"12\",\n        },\n\"Forums\",\n{\n            'v': 6,\n            'f': \"6\",\n        },\n{\n            'v': 0.1597223160517263,\n            'f': \"0.1597223160517263\",\n        },\n{\n            'v': 0.2407905103763187,\n            'f': \"0.2407905103763187\",\n        },\n\"{'Anger': 0, 'Anticipation': 0, 'Disgust': 0, 'Fear': 0, 'Joy': 0, 'Sadness': 0, 'Surprise': 0, 'Trust': 0}\",\n\"{'Anger': 0.0, 'Anticipation': 0.0, 'Disgust': 0.0, 'Fear': 0.0, 'Joy': 0.0, 'Sadness': 0.0, 'Surprise': 0.0, 'Trust': 0.0}\",\n\"No Emotion\",\n\"positive\",\n\"\\ud83e\\udd70,\\ud83d\\ude42,\\ud83d\\ude08\",\n\"['\\ud83c\\udfe4', '\\ud83c\\udfe3', '\\ud83e\\uddd1\\\\u200d\\ud83e\\udd1d\\\\u200d\\ud83e\\uddd1']\",\n\"\\ud83c\\udfe4\\ud83c\\udfe3\\ud83e\\uddd1\\u200d\\ud83e\\udd1d\\u200d\\ud83e\\uddd1\"]],\n        columns: [[\"number\", \"index\"], [\"string\", \"Post Title\"], [\"string\", \"Post Text\"], [\"string\", \"clean_post_text\"], [\"number\", \"topic_number\"], [\"string\", \"topic_interpretation\"], [\"number\", \"clusters\"], [\"number\", \"SVD_Component_1\"], [\"number\", \"SVD_Component_2\"], [\"string\", \"emotional_scores\"], [\"string\", \"scaled_emotional_scores\"], [\"string\", \"max_emotion\"], [\"string\", \"sentiment\"], [\"string\", \"Recommended Emojis\"], [\"string\", \"topic_emojis\"], [\"string\", \"formatted_emojis\"]],\n        columnOptions: [{\"width\": \"1px\", \"className\": \"index_column\"}],\n        rowsPerPage: 25,\n        helpUrl: \"https://colab.research.google.com/notebooks/data_table.ipynb\",\n        suppressOutputScrolling: true,\n        minimumWidth: undefined,\n      });\n\n      function appendQuickchartButton(parentElement) {\n        let quickchartButtonContainerElement = document.createElement('div');\n        quickchartButtonContainerElement.innerHTML = `\n<div id=\"df-4d2fe16f-749a-4cf0-a38d-6f498c9e388d\">\n  <button class=\"colab-df-quickchart\" onclick=\"quickchart('df-4d2fe16f-749a-4cf0-a38d-6f498c9e388d')\"\n            title=\"Suggest charts\"\n            style=\"display:none;\">\n    \n<svg xmlns=\"http://www.w3.org/2000/svg\" height=\"24px\"viewBox=\"0 0 24 24\"\n     width=\"24px\">\n    <g>\n        <path d=\"M19 3H5c-1.1 0-2 .9-2 2v14c0 1.1.9 2 2 2h14c1.1 0 2-.9 2-2V5c0-1.1-.9-2-2-2zM9 17H7v-7h2v7zm4 0h-2V7h2v10zm4 0h-2v-4h2v4z\"/>\n    </g>\n</svg>\n  </button>\n  \n<style>\n  .colab-df-quickchart {\n      --bg-color: #E8F0FE;\n      --fill-color: #1967D2;\n      --hover-bg-color: #E2EBFA;\n      --hover-fill-color: #174EA6;\n      --disabled-fill-color: #AAA;\n      --disabled-bg-color: #DDD;\n  }\n\n  [theme=dark] .colab-df-quickchart {\n      --bg-color: #3B4455;\n      --fill-color: #D2E3FC;\n      --hover-bg-color: #434B5C;\n      --hover-fill-color: #FFFFFF;\n      --disabled-bg-color: #3B4455;\n      --disabled-fill-color: #666;\n  }\n\n  .colab-df-quickchart {\n    background-color: var(--bg-color);\n    border: none;\n    border-radius: 50%;\n    cursor: pointer;\n    display: none;\n    fill: var(--fill-color);\n    height: 32px;\n    padding: 0;\n    width: 32px;\n  }\n\n  .colab-df-quickchart:hover {\n    background-color: var(--hover-bg-color);\n    box-shadow: 0 1px 2px rgba(60, 64, 67, 0.3), 0 1px 3px 1px rgba(60, 64, 67, 0.15);\n    fill: var(--button-hover-fill-color);\n  }\n\n  .colab-df-quickchart-complete:disabled,\n  .colab-df-quickchart-complete:disabled:hover {\n    background-color: var(--disabled-bg-color);\n    fill: var(--disabled-fill-color);\n    box-shadow: none;\n  }\n\n  .colab-df-spinner {\n    border: 2px solid var(--fill-color);\n    border-color: transparent;\n    border-bottom-color: var(--fill-color);\n    animation:\n      spin 1s steps(1) infinite;\n  }\n\n  @keyframes spin {\n    0% {\n      border-color: transparent;\n      border-bottom-color: var(--fill-color);\n      border-left-color: var(--fill-color);\n    }\n    20% {\n      border-color: transparent;\n      border-left-color: var(--fill-color);\n      border-top-color: var(--fill-color);\n    }\n    30% {\n      border-color: transparent;\n      border-left-color: var(--fill-color);\n      border-top-color: var(--fill-color);\n      border-right-color: var(--fill-color);\n    }\n    40% {\n      border-color: transparent;\n      border-right-color: var(--fill-color);\n      border-top-color: var(--fill-color);\n    }\n    60% {\n      border-color: transparent;\n      border-right-color: var(--fill-color);\n    }\n    80% {\n      border-color: transparent;\n      border-right-color: var(--fill-color);\n      border-bottom-color: var(--fill-color);\n    }\n    90% {\n      border-color: transparent;\n      border-bottom-color: var(--fill-color);\n    }\n  }\n</style>\n\n  <script>\n    async function quickchart(key) {\n      const quickchartButtonEl =\n        document.querySelector('#' + key + ' button');\n      quickchartButtonEl.disabled = true;  // To prevent multiple clicks.\n      quickchartButtonEl.classList.add('colab-df-spinner');\n      try {\n        const charts = await google.colab.kernel.invokeFunction(\n            'suggestCharts', [key], {});\n      } catch (error) {\n        console.error('Error during call to suggestCharts:', error);\n      }\n      quickchartButtonEl.classList.remove('colab-df-spinner');\n      quickchartButtonEl.classList.add('colab-df-quickchart-complete');\n    }\n    (() => {\n      let quickchartButtonEl =\n        document.querySelector('#df-4d2fe16f-749a-4cf0-a38d-6f498c9e388d button');\n      quickchartButtonEl.style.display =\n        google.colab.kernel.accessAllowed ? 'block' : 'none';\n    })();\n  </script>\n</div>`;\n        parentElement.appendChild(quickchartButtonContainerElement);\n      }\n\n      appendQuickchartButton(table);\n    "
          },
          "metadata": {},
          "execution_count": 16
        }
      ],
      "source": [
        "forum = pd.read_csv('forum_final.csv')\n",
        "\n",
        "corpus_size = len(forum)\n",
        "forum.head()"
      ]
    },
    {
      "cell_type": "code",
      "execution_count": null,
      "metadata": {
        "colab": {
          "base_uri": "https://localhost:8080/",
          "height": 17
        },
        "id": "7IIM2gd8CgLC",
        "outputId": "f6591cd9-4a82-4395-e03c-3e6d1b1da7fa"
      },
      "outputs": [
        {
          "output_type": "display_data",
          "data": {
            "text/plain": [
              "<IPython.core.display.HTML object>"
            ],
            "text/html": [
              "\n",
              "  <style>\n",
              "    pre {white-space: pre-wrap;\n",
              "    }\n",
              "  </style>\n",
              "  "
            ]
          },
          "metadata": {}
        },
        {
          "output_type": "display_data",
          "data": {
            "text/plain": [
              "<IPython.core.display.HTML object>"
            ],
            "text/html": [
              "\n",
              "  <style>\n",
              "    pre {\n",
              "        white-space: pre-wrap;\n",
              "    }\n",
              "  </style>\n",
              "  "
            ]
          },
          "metadata": {}
        },
        {
          "output_type": "display_data",
          "data": {
            "text/plain": [
              "<IPython.core.display.HTML object>"
            ],
            "text/html": [
              "\n",
              "  <style>\n",
              "    pre {white-space: pre-wrap;\n",
              "    }\n",
              "  </style>\n",
              "  "
            ]
          },
          "metadata": {}
        },
        {
          "output_type": "display_data",
          "data": {
            "text/plain": [
              "<IPython.core.display.HTML object>"
            ],
            "text/html": [
              "\n",
              "  <style>\n",
              "    pre {\n",
              "        white-space: pre-wrap;\n",
              "    }\n",
              "  </style>\n",
              "  "
            ]
          },
          "metadata": {}
        }
      ],
      "source": [
        "topic_mapping = {\n",
        "    0: 'Crime',\n",
        "    1: 'Wholesome',\n",
        "    2: 'America Politics',\n",
        "    3: 'Body',\n",
        "    4: 'Family and Loss',\n",
        "    5: 'Movie',\n",
        "    6: 'Entertainment',\n",
        "    7: 'Time',\n",
        "    8: 'Memories',\n",
        "    9: 'Work and Money',\n",
        "    10: 'Life',\n",
        "    11: 'Social Media',\n",
        "    12: 'Forums',\n",
        "    13: 'Food',\n",
        "    14: 'Humanity'\n",
        "}"
      ]
    },
    {
      "cell_type": "code",
      "execution_count": null,
      "metadata": {
        "colab": {
          "base_uri": "https://localhost:8080/",
          "height": 17
        },
        "id": "H9pXcxjlCl5G",
        "outputId": "9ef8bec4-dc58-4e66-8f1e-bcaf9c1a6ece"
      },
      "outputs": [
        {
          "output_type": "display_data",
          "data": {
            "text/plain": [
              "<IPython.core.display.HTML object>"
            ],
            "text/html": [
              "\n",
              "  <style>\n",
              "    pre {white-space: pre-wrap;\n",
              "    }\n",
              "  </style>\n",
              "  "
            ]
          },
          "metadata": {}
        },
        {
          "output_type": "display_data",
          "data": {
            "text/plain": [
              "<IPython.core.display.HTML object>"
            ],
            "text/html": [
              "\n",
              "  <style>\n",
              "    pre {\n",
              "        white-space: pre-wrap;\n",
              "    }\n",
              "  </style>\n",
              "  "
            ]
          },
          "metadata": {}
        },
        {
          "output_type": "display_data",
          "data": {
            "text/plain": [
              "<IPython.core.display.HTML object>"
            ],
            "text/html": [
              "\n",
              "  <style>\n",
              "    pre {white-space: pre-wrap;\n",
              "    }\n",
              "  </style>\n",
              "  "
            ]
          },
          "metadata": {}
        },
        {
          "output_type": "display_data",
          "data": {
            "text/plain": [
              "<IPython.core.display.HTML object>"
            ],
            "text/html": [
              "\n",
              "  <style>\n",
              "    pre {\n",
              "        white-space: pre-wrap;\n",
              "    }\n",
              "  </style>\n",
              "  "
            ]
          },
          "metadata": {}
        }
      ],
      "source": [
        "forum['topic_number'] = forum['topic_number'].replace(topic_mapping)\n"
      ]
    },
    {
      "cell_type": "code",
      "execution_count": null,
      "metadata": {
        "colab": {
          "base_uri": "https://localhost:8080/",
          "height": 17
        },
        "id": "7Lfgdi5w5GSW",
        "outputId": "104dbd4a-8c47-4d71-e61b-4f60cb3b894f"
      },
      "outputs": [
        {
          "output_type": "display_data",
          "data": {
            "text/plain": [
              "<IPython.core.display.HTML object>"
            ],
            "text/html": [
              "\n",
              "  <style>\n",
              "    pre {white-space: pre-wrap;\n",
              "    }\n",
              "  </style>\n",
              "  "
            ]
          },
          "metadata": {}
        },
        {
          "output_type": "display_data",
          "data": {
            "text/plain": [
              "<IPython.core.display.HTML object>"
            ],
            "text/html": [
              "\n",
              "  <style>\n",
              "    pre {\n",
              "        white-space: pre-wrap;\n",
              "    }\n",
              "  </style>\n",
              "  "
            ]
          },
          "metadata": {}
        },
        {
          "output_type": "display_data",
          "data": {
            "text/plain": [
              "<IPython.core.display.HTML object>"
            ],
            "text/html": [
              "\n",
              "  <style>\n",
              "    pre {white-space: pre-wrap;\n",
              "    }\n",
              "  </style>\n",
              "  "
            ]
          },
          "metadata": {}
        },
        {
          "output_type": "display_data",
          "data": {
            "text/plain": [
              "<IPython.core.display.HTML object>"
            ],
            "text/html": [
              "\n",
              "  <style>\n",
              "    pre {\n",
              "        white-space: pre-wrap;\n",
              "    }\n",
              "  </style>\n",
              "  "
            ]
          },
          "metadata": {}
        }
      ],
      "source": [
        "#Function to transform the 'topic_emojis' column to the correct format\n",
        "def transform_emojis(row):\n",
        "    emojis_str = \"\"\n",
        "    if isinstance(row['topic_emojis'], str):\n",
        "        # Convert the string representation of the list to an actual list\n",
        "        emojis_list = ast.literal_eval(row['topic_emojis'])\n",
        "        # Join the emojis into a string\n",
        "        emojis_str = ''.join(emojis_list)\n",
        "    return emojis_str\n",
        "\n",
        "#Apply the function to create a new column\n",
        "#forum['cleaned_topic_emojis'] = forum['topic_emojis'].apply(transform_emojis, axis=1)\n",
        "forum['cleaned_topic_emojis'] = forum.apply(transform_emojis, axis=1)"
      ]
    },
    {
      "cell_type": "code",
      "execution_count": null,
      "metadata": {
        "colab": {
          "base_uri": "https://localhost:8080/",
          "height": 231
        },
        "id": "aLVZrNyf5fDe",
        "outputId": "d1ed0044-6d64-4862-b0c6-e9524b7425b3"
      },
      "outputs": [
        {
          "output_type": "display_data",
          "data": {
            "text/plain": [
              "<IPython.core.display.HTML object>"
            ],
            "text/html": [
              "\n",
              "  <style>\n",
              "    pre {white-space: pre-wrap;\n",
              "    }\n",
              "  </style>\n",
              "  "
            ]
          },
          "metadata": {}
        },
        {
          "output_type": "display_data",
          "data": {
            "text/plain": [
              "<IPython.core.display.HTML object>"
            ],
            "text/html": [
              "\n",
              "  <style>\n",
              "    pre {\n",
              "        white-space: pre-wrap;\n",
              "    }\n",
              "  </style>\n",
              "  "
            ]
          },
          "metadata": {}
        },
        {
          "output_type": "display_data",
          "data": {
            "text/plain": [
              "<IPython.core.display.HTML object>"
            ],
            "text/html": [
              "\n",
              "  <style>\n",
              "    pre {white-space: pre-wrap;\n",
              "    }\n",
              "  </style>\n",
              "  "
            ]
          },
          "metadata": {}
        },
        {
          "output_type": "display_data",
          "data": {
            "text/plain": [
              "<IPython.core.display.HTML object>"
            ],
            "text/html": [
              "\n",
              "  <style>\n",
              "    pre {\n",
              "        white-space: pre-wrap;\n",
              "    }\n",
              "  </style>\n",
              "  "
            ]
          },
          "metadata": {}
        },
        {
          "output_type": "execute_result",
          "data": {
            "text/plain": [
              "  emoji                             name      clean_post_text  \\\n",
              "0     😀                    grinning face            grin face   \n",
              "1     😃      grinning face with big eyes    grin face big eye   \n",
              "2     😄  grinning face with smiling eyes  grin face smile eye   \n",
              "3     😁   beaming face with smiling eyes  beam face smile eye   \n",
              "4     😆          grinning squinting face     grin squint face   \n",
              "\n",
              "                                    emotional_scores  \n",
              "0  {\"Anger\": 0.0, \"Anticipation\": 0.05, \"Disgust\"...  \n",
              "1  {\"Anger\": 0.0, \"Anticipation\": 0.05, \"Disgust\"...  \n",
              "2  {\"Anger\": 0.0, \"Anticipation\": 0.05, \"Disgust\"...  \n",
              "3  {\"Anger\": 0.0, \"Anticipation\": 0.05, \"Disgust\"...  \n",
              "4  {\"Anger\": 0.0, \"Anticipation\": 0.05, \"Disgust\"...  "
            ],
            "text/html": [
              "\n",
              "  <div id=\"df-fbb05c71-ab41-40fc-9809-dd567b116142\" class=\"colab-df-container\">\n",
              "    <div>\n",
              "<style scoped>\n",
              "    .dataframe tbody tr th:only-of-type {\n",
              "        vertical-align: middle;\n",
              "    }\n",
              "\n",
              "    .dataframe tbody tr th {\n",
              "        vertical-align: top;\n",
              "    }\n",
              "\n",
              "    .dataframe thead th {\n",
              "        text-align: right;\n",
              "    }\n",
              "</style>\n",
              "<table border=\"1\" class=\"dataframe\">\n",
              "  <thead>\n",
              "    <tr style=\"text-align: right;\">\n",
              "      <th></th>\n",
              "      <th>emoji</th>\n",
              "      <th>name</th>\n",
              "      <th>clean_post_text</th>\n",
              "      <th>emotional_scores</th>\n",
              "    </tr>\n",
              "  </thead>\n",
              "  <tbody>\n",
              "    <tr>\n",
              "      <th>0</th>\n",
              "      <td>😀</td>\n",
              "      <td>grinning face</td>\n",
              "      <td>grin face</td>\n",
              "      <td>{\"Anger\": 0.0, \"Anticipation\": 0.05, \"Disgust\"...</td>\n",
              "    </tr>\n",
              "    <tr>\n",
              "      <th>1</th>\n",
              "      <td>😃</td>\n",
              "      <td>grinning face with big eyes</td>\n",
              "      <td>grin face big eye</td>\n",
              "      <td>{\"Anger\": 0.0, \"Anticipation\": 0.05, \"Disgust\"...</td>\n",
              "    </tr>\n",
              "    <tr>\n",
              "      <th>2</th>\n",
              "      <td>😄</td>\n",
              "      <td>grinning face with smiling eyes</td>\n",
              "      <td>grin face smile eye</td>\n",
              "      <td>{\"Anger\": 0.0, \"Anticipation\": 0.05, \"Disgust\"...</td>\n",
              "    </tr>\n",
              "    <tr>\n",
              "      <th>3</th>\n",
              "      <td>😁</td>\n",
              "      <td>beaming face with smiling eyes</td>\n",
              "      <td>beam face smile eye</td>\n",
              "      <td>{\"Anger\": 0.0, \"Anticipation\": 0.05, \"Disgust\"...</td>\n",
              "    </tr>\n",
              "    <tr>\n",
              "      <th>4</th>\n",
              "      <td>😆</td>\n",
              "      <td>grinning squinting face</td>\n",
              "      <td>grin squint face</td>\n",
              "      <td>{\"Anger\": 0.0, \"Anticipation\": 0.05, \"Disgust\"...</td>\n",
              "    </tr>\n",
              "  </tbody>\n",
              "</table>\n",
              "</div>\n",
              "    <div class=\"colab-df-buttons\">\n",
              "\n",
              "  <div class=\"colab-df-container\">\n",
              "    <button class=\"colab-df-convert\" onclick=\"convertToInteractive('df-fbb05c71-ab41-40fc-9809-dd567b116142')\"\n",
              "            title=\"Convert this dataframe to an interactive table.\"\n",
              "            style=\"display:none;\">\n",
              "\n",
              "  <svg xmlns=\"http://www.w3.org/2000/svg\" height=\"24px\" viewBox=\"0 -960 960 960\">\n",
              "    <path d=\"M120-120v-720h720v720H120Zm60-500h600v-160H180v160Zm220 220h160v-160H400v160Zm0 220h160v-160H400v160ZM180-400h160v-160H180v160Zm440 0h160v-160H620v160ZM180-180h160v-160H180v160Zm440 0h160v-160H620v160Z\"/>\n",
              "  </svg>\n",
              "    </button>\n",
              "\n",
              "  <style>\n",
              "    .colab-df-container {\n",
              "      display:flex;\n",
              "      gap: 12px;\n",
              "    }\n",
              "\n",
              "    .colab-df-convert {\n",
              "      background-color: #E8F0FE;\n",
              "      border: none;\n",
              "      border-radius: 50%;\n",
              "      cursor: pointer;\n",
              "      display: none;\n",
              "      fill: #1967D2;\n",
              "      height: 32px;\n",
              "      padding: 0 0 0 0;\n",
              "      width: 32px;\n",
              "    }\n",
              "\n",
              "    .colab-df-convert:hover {\n",
              "      background-color: #E2EBFA;\n",
              "      box-shadow: 0px 1px 2px rgba(60, 64, 67, 0.3), 0px 1px 3px 1px rgba(60, 64, 67, 0.15);\n",
              "      fill: #174EA6;\n",
              "    }\n",
              "\n",
              "    .colab-df-buttons div {\n",
              "      margin-bottom: 4px;\n",
              "    }\n",
              "\n",
              "    [theme=dark] .colab-df-convert {\n",
              "      background-color: #3B4455;\n",
              "      fill: #D2E3FC;\n",
              "    }\n",
              "\n",
              "    [theme=dark] .colab-df-convert:hover {\n",
              "      background-color: #434B5C;\n",
              "      box-shadow: 0px 1px 3px 1px rgba(0, 0, 0, 0.15);\n",
              "      filter: drop-shadow(0px 1px 2px rgba(0, 0, 0, 0.3));\n",
              "      fill: #FFFFFF;\n",
              "    }\n",
              "  </style>\n",
              "\n",
              "    <script>\n",
              "      const buttonEl =\n",
              "        document.querySelector('#df-fbb05c71-ab41-40fc-9809-dd567b116142 button.colab-df-convert');\n",
              "      buttonEl.style.display =\n",
              "        google.colab.kernel.accessAllowed ? 'block' : 'none';\n",
              "\n",
              "      async function convertToInteractive(key) {\n",
              "        const element = document.querySelector('#df-fbb05c71-ab41-40fc-9809-dd567b116142');\n",
              "        const dataTable =\n",
              "          await google.colab.kernel.invokeFunction('convertToInteractive',\n",
              "                                                    [key], {});\n",
              "        if (!dataTable) return;\n",
              "\n",
              "        const docLinkHtml = 'Like what you see? Visit the ' +\n",
              "          '<a target=\"_blank\" href=https://colab.research.google.com/notebooks/data_table.ipynb>data table notebook</a>'\n",
              "          + ' to learn more about interactive tables.';\n",
              "        element.innerHTML = '';\n",
              "        dataTable['output_type'] = 'display_data';\n",
              "        await google.colab.output.renderOutput(dataTable, element);\n",
              "        const docLink = document.createElement('div');\n",
              "        docLink.innerHTML = docLinkHtml;\n",
              "        element.appendChild(docLink);\n",
              "      }\n",
              "    </script>\n",
              "  </div>\n",
              "\n",
              "\n",
              "<div id=\"df-fd6bf9e7-dcca-4fcb-85e2-34e5cf816d8b\">\n",
              "  <button class=\"colab-df-quickchart\" onclick=\"quickchart('df-fd6bf9e7-dcca-4fcb-85e2-34e5cf816d8b')\"\n",
              "            title=\"Suggest charts\"\n",
              "            style=\"display:none;\">\n",
              "\n",
              "<svg xmlns=\"http://www.w3.org/2000/svg\" height=\"24px\"viewBox=\"0 0 24 24\"\n",
              "     width=\"24px\">\n",
              "    <g>\n",
              "        <path d=\"M19 3H5c-1.1 0-2 .9-2 2v14c0 1.1.9 2 2 2h14c1.1 0 2-.9 2-2V5c0-1.1-.9-2-2-2zM9 17H7v-7h2v7zm4 0h-2V7h2v10zm4 0h-2v-4h2v4z\"/>\n",
              "    </g>\n",
              "</svg>\n",
              "  </button>\n",
              "\n",
              "<style>\n",
              "  .colab-df-quickchart {\n",
              "      --bg-color: #E8F0FE;\n",
              "      --fill-color: #1967D2;\n",
              "      --hover-bg-color: #E2EBFA;\n",
              "      --hover-fill-color: #174EA6;\n",
              "      --disabled-fill-color: #AAA;\n",
              "      --disabled-bg-color: #DDD;\n",
              "  }\n",
              "\n",
              "  [theme=dark] .colab-df-quickchart {\n",
              "      --bg-color: #3B4455;\n",
              "      --fill-color: #D2E3FC;\n",
              "      --hover-bg-color: #434B5C;\n",
              "      --hover-fill-color: #FFFFFF;\n",
              "      --disabled-bg-color: #3B4455;\n",
              "      --disabled-fill-color: #666;\n",
              "  }\n",
              "\n",
              "  .colab-df-quickchart {\n",
              "    background-color: var(--bg-color);\n",
              "    border: none;\n",
              "    border-radius: 50%;\n",
              "    cursor: pointer;\n",
              "    display: none;\n",
              "    fill: var(--fill-color);\n",
              "    height: 32px;\n",
              "    padding: 0;\n",
              "    width: 32px;\n",
              "  }\n",
              "\n",
              "  .colab-df-quickchart:hover {\n",
              "    background-color: var(--hover-bg-color);\n",
              "    box-shadow: 0 1px 2px rgba(60, 64, 67, 0.3), 0 1px 3px 1px rgba(60, 64, 67, 0.15);\n",
              "    fill: var(--button-hover-fill-color);\n",
              "  }\n",
              "\n",
              "  .colab-df-quickchart-complete:disabled,\n",
              "  .colab-df-quickchart-complete:disabled:hover {\n",
              "    background-color: var(--disabled-bg-color);\n",
              "    fill: var(--disabled-fill-color);\n",
              "    box-shadow: none;\n",
              "  }\n",
              "\n",
              "  .colab-df-spinner {\n",
              "    border: 2px solid var(--fill-color);\n",
              "    border-color: transparent;\n",
              "    border-bottom-color: var(--fill-color);\n",
              "    animation:\n",
              "      spin 1s steps(1) infinite;\n",
              "  }\n",
              "\n",
              "  @keyframes spin {\n",
              "    0% {\n",
              "      border-color: transparent;\n",
              "      border-bottom-color: var(--fill-color);\n",
              "      border-left-color: var(--fill-color);\n",
              "    }\n",
              "    20% {\n",
              "      border-color: transparent;\n",
              "      border-left-color: var(--fill-color);\n",
              "      border-top-color: var(--fill-color);\n",
              "    }\n",
              "    30% {\n",
              "      border-color: transparent;\n",
              "      border-left-color: var(--fill-color);\n",
              "      border-top-color: var(--fill-color);\n",
              "      border-right-color: var(--fill-color);\n",
              "    }\n",
              "    40% {\n",
              "      border-color: transparent;\n",
              "      border-right-color: var(--fill-color);\n",
              "      border-top-color: var(--fill-color);\n",
              "    }\n",
              "    60% {\n",
              "      border-color: transparent;\n",
              "      border-right-color: var(--fill-color);\n",
              "    }\n",
              "    80% {\n",
              "      border-color: transparent;\n",
              "      border-right-color: var(--fill-color);\n",
              "      border-bottom-color: var(--fill-color);\n",
              "    }\n",
              "    90% {\n",
              "      border-color: transparent;\n",
              "      border-bottom-color: var(--fill-color);\n",
              "    }\n",
              "  }\n",
              "</style>\n",
              "\n",
              "  <script>\n",
              "    async function quickchart(key) {\n",
              "      const quickchartButtonEl =\n",
              "        document.querySelector('#' + key + ' button');\n",
              "      quickchartButtonEl.disabled = true;  // To prevent multiple clicks.\n",
              "      quickchartButtonEl.classList.add('colab-df-spinner');\n",
              "      try {\n",
              "        const charts = await google.colab.kernel.invokeFunction(\n",
              "            'suggestCharts', [key], {});\n",
              "      } catch (error) {\n",
              "        console.error('Error during call to suggestCharts:', error);\n",
              "      }\n",
              "      quickchartButtonEl.classList.remove('colab-df-spinner');\n",
              "      quickchartButtonEl.classList.add('colab-df-quickchart-complete');\n",
              "    }\n",
              "    (() => {\n",
              "      let quickchartButtonEl =\n",
              "        document.querySelector('#df-fd6bf9e7-dcca-4fcb-85e2-34e5cf816d8b button');\n",
              "      quickchartButtonEl.style.display =\n",
              "        google.colab.kernel.accessAllowed ? 'block' : 'none';\n",
              "    })();\n",
              "  </script>\n",
              "</div>\n",
              "    </div>\n",
              "  </div>\n"
            ],
            "application/vnd.google.colaboratory.intrinsic+json": {
              "type": "dataframe",
              "variable_name": "emojis",
              "summary": "{\n  \"name\": \"emojis\",\n  \"rows\": 99,\n  \"fields\": [\n    {\n      \"column\": \"emoji\",\n      \"properties\": {\n        \"dtype\": \"string\",\n        \"num_unique_values\": 99,\n        \"samples\": [\n          \"\\ud83d\\ude0e\",\n          \"\\ud83d\\ude2e\\u200d\\ud83d\\udca8\",\n          \"\\ud83d\\udc80\"\n        ],\n        \"semantic_type\": \"\",\n        \"description\": \"\"\n      }\n    },\n    {\n      \"column\": \"name\",\n      \"properties\": {\n        \"dtype\": \"string\",\n        \"num_unique_values\": 99,\n        \"samples\": [\n          \"smiling face with sunglasses\",\n          \"\\u229b face exhaling\",\n          \"skull\"\n        ],\n        \"semantic_type\": \"\",\n        \"description\": \"\"\n      }\n    },\n    {\n      \"column\": \"clean_post_text\",\n      \"properties\": {\n        \"dtype\": \"string\",\n        \"num_unique_values\": 99,\n        \"samples\": [\n          \"smile face sunglass\",\n          \"face exhale\",\n          \"skull\"\n        ],\n        \"semantic_type\": \"\",\n        \"description\": \"\"\n      }\n    },\n    {\n      \"column\": \"emotional_scores\",\n      \"properties\": {\n        \"dtype\": \"category\",\n        \"num_unique_values\": 33,\n        \"samples\": [\n          \"{\\\"Anger\\\": 0.0, \\\"Anticipation\\\": 0.0, \\\"Disgust\\\": 0.0, \\\"Fear\\\": 0.05555555555555555, \\\"Joy\\\": 0.0, \\\"Sadness\\\": 0.0, \\\"Surprise\\\": 0.0, \\\"Trust\\\": 0.0}\",\n          \"{\\\"Anger\\\": 0.0, \\\"Anticipation\\\": 0.0, \\\"Disgust\\\": 0.0, \\\"Fear\\\": 0.0, \\\"Joy\\\": 0.0, \\\"Sadness\\\": 0.043478260869565216, \\\"Surprise\\\": 0.0, \\\"Trust\\\": 0.0}\",\n          \"{\\\"Anger\\\": 0.0, \\\"Anticipation\\\": 0.0, \\\"Disgust\\\": 0.0, \\\"Fear\\\": 0.05555555555555555, \\\"Joy\\\": 0.0, \\\"Sadness\\\": 0.043478260869565216, \\\"Surprise\\\": 0.0, \\\"Trust\\\": 0.0}\"\n        ],\n        \"semantic_type\": \"\",\n        \"description\": \"\"\n      }\n    }\n  ]\n}"
            },
            "application/vnd.google.colaboratory.module+javascript": "\n      import \"https://ssl.gstatic.com/colaboratory/data_table/881c4a0d49046431/data_table.js\";\n\n      const table = window.createDataTable({\n        data: [[{\n            'v': 0,\n            'f': \"0\",\n        },\n\"\\ud83d\\ude00\",\n\"grinning face\",\n\"grin face\",\n\"{\\\"Anger\\\": 0.0, \\\"Anticipation\\\": 0.05, \\\"Disgust\\\": 0.0, \\\"Fear\\\": 0.0, \\\"Joy\\\": 0.017857142857142856, \\\"Sadness\\\": 0.0, \\\"Surprise\\\": 0.023809523809523808, \\\"Trust\\\": 0.03225806451612903}\"],\n [{\n            'v': 1,\n            'f': \"1\",\n        },\n\"\\ud83d\\ude03\",\n\"grinning face with big eyes\",\n\"grin face big eye\",\n\"{\\\"Anger\\\": 0.0, \\\"Anticipation\\\": 0.05, \\\"Disgust\\\": 0.0, \\\"Fear\\\": 0.0, \\\"Joy\\\": 0.017857142857142856, \\\"Sadness\\\": 0.0, \\\"Surprise\\\": 0.023809523809523808, \\\"Trust\\\": 0.03225806451612903}\"],\n [{\n            'v': 2,\n            'f': \"2\",\n        },\n\"\\ud83d\\ude04\",\n\"grinning face with smiling eyes\",\n\"grin face smile eye\",\n\"{\\\"Anger\\\": 0.0, \\\"Anticipation\\\": 0.05, \\\"Disgust\\\": 0.0, \\\"Fear\\\": 0.0, \\\"Joy\\\": 0.05357142857142857, \\\"Sadness\\\": 0.0, \\\"Surprise\\\": 0.047619047619047616, \\\"Trust\\\": 0.06451612903225806}\"],\n [{\n            'v': 3,\n            'f': \"3\",\n        },\n\"\\ud83d\\ude01\",\n\"beaming face with smiling eyes\",\n\"beam face smile eye\",\n\"{\\\"Anger\\\": 0.0, \\\"Anticipation\\\": 0.05, \\\"Disgust\\\": 0.0, \\\"Fear\\\": 0.0, \\\"Joy\\\": 0.07142857142857142, \\\"Sadness\\\": 0.0, \\\"Surprise\\\": 0.023809523809523808, \\\"Trust\\\": 0.03225806451612903}\"],\n [{\n            'v': 4,\n            'f': \"4\",\n        },\n\"\\ud83d\\ude06\",\n\"grinning squinting face\",\n\"grin squint face\",\n\"{\\\"Anger\\\": 0.0, \\\"Anticipation\\\": 0.05, \\\"Disgust\\\": 0.0, \\\"Fear\\\": 0.0, \\\"Joy\\\": 0.017857142857142856, \\\"Sadness\\\": 0.0, \\\"Surprise\\\": 0.023809523809523808, \\\"Trust\\\": 0.03225806451612903}\"]],\n        columns: [[\"number\", \"index\"], [\"string\", \"emoji\"], [\"string\", \"name\"], [\"string\", \"clean_post_text\"], [\"string\", \"emotional_scores\"]],\n        columnOptions: [{\"width\": \"1px\", \"className\": \"index_column\"}],\n        rowsPerPage: 25,\n        helpUrl: \"https://colab.research.google.com/notebooks/data_table.ipynb\",\n        suppressOutputScrolling: true,\n        minimumWidth: undefined,\n      });\n\n      function appendQuickchartButton(parentElement) {\n        let quickchartButtonContainerElement = document.createElement('div');\n        quickchartButtonContainerElement.innerHTML = `\n<div id=\"df-b7b5a4df-adc1-42ae-9ec3-4370195de539\">\n  <button class=\"colab-df-quickchart\" onclick=\"quickchart('df-b7b5a4df-adc1-42ae-9ec3-4370195de539')\"\n            title=\"Suggest charts\"\n            style=\"display:none;\">\n    \n<svg xmlns=\"http://www.w3.org/2000/svg\" height=\"24px\"viewBox=\"0 0 24 24\"\n     width=\"24px\">\n    <g>\n        <path d=\"M19 3H5c-1.1 0-2 .9-2 2v14c0 1.1.9 2 2 2h14c1.1 0 2-.9 2-2V5c0-1.1-.9-2-2-2zM9 17H7v-7h2v7zm4 0h-2V7h2v10zm4 0h-2v-4h2v4z\"/>\n    </g>\n</svg>\n  </button>\n  \n<style>\n  .colab-df-quickchart {\n      --bg-color: #E8F0FE;\n      --fill-color: #1967D2;\n      --hover-bg-color: #E2EBFA;\n      --hover-fill-color: #174EA6;\n      --disabled-fill-color: #AAA;\n      --disabled-bg-color: #DDD;\n  }\n\n  [theme=dark] .colab-df-quickchart {\n      --bg-color: #3B4455;\n      --fill-color: #D2E3FC;\n      --hover-bg-color: #434B5C;\n      --hover-fill-color: #FFFFFF;\n      --disabled-bg-color: #3B4455;\n      --disabled-fill-color: #666;\n  }\n\n  .colab-df-quickchart {\n    background-color: var(--bg-color);\n    border: none;\n    border-radius: 50%;\n    cursor: pointer;\n    display: none;\n    fill: var(--fill-color);\n    height: 32px;\n    padding: 0;\n    width: 32px;\n  }\n\n  .colab-df-quickchart:hover {\n    background-color: var(--hover-bg-color);\n    box-shadow: 0 1px 2px rgba(60, 64, 67, 0.3), 0 1px 3px 1px rgba(60, 64, 67, 0.15);\n    fill: var(--button-hover-fill-color);\n  }\n\n  .colab-df-quickchart-complete:disabled,\n  .colab-df-quickchart-complete:disabled:hover {\n    background-color: var(--disabled-bg-color);\n    fill: var(--disabled-fill-color);\n    box-shadow: none;\n  }\n\n  .colab-df-spinner {\n    border: 2px solid var(--fill-color);\n    border-color: transparent;\n    border-bottom-color: var(--fill-color);\n    animation:\n      spin 1s steps(1) infinite;\n  }\n\n  @keyframes spin {\n    0% {\n      border-color: transparent;\n      border-bottom-color: var(--fill-color);\n      border-left-color: var(--fill-color);\n    }\n    20% {\n      border-color: transparent;\n      border-left-color: var(--fill-color);\n      border-top-color: var(--fill-color);\n    }\n    30% {\n      border-color: transparent;\n      border-left-color: var(--fill-color);\n      border-top-color: var(--fill-color);\n      border-right-color: var(--fill-color);\n    }\n    40% {\n      border-color: transparent;\n      border-right-color: var(--fill-color);\n      border-top-color: var(--fill-color);\n    }\n    60% {\n      border-color: transparent;\n      border-right-color: var(--fill-color);\n    }\n    80% {\n      border-color: transparent;\n      border-right-color: var(--fill-color);\n      border-bottom-color: var(--fill-color);\n    }\n    90% {\n      border-color: transparent;\n      border-bottom-color: var(--fill-color);\n    }\n  }\n</style>\n\n  <script>\n    async function quickchart(key) {\n      const quickchartButtonEl =\n        document.querySelector('#' + key + ' button');\n      quickchartButtonEl.disabled = true;  // To prevent multiple clicks.\n      quickchartButtonEl.classList.add('colab-df-spinner');\n      try {\n        const charts = await google.colab.kernel.invokeFunction(\n            'suggestCharts', [key], {});\n      } catch (error) {\n        console.error('Error during call to suggestCharts:', error);\n      }\n      quickchartButtonEl.classList.remove('colab-df-spinner');\n      quickchartButtonEl.classList.add('colab-df-quickchart-complete');\n    }\n    (() => {\n      let quickchartButtonEl =\n        document.querySelector('#df-b7b5a4df-adc1-42ae-9ec3-4370195de539 button');\n      quickchartButtonEl.style.display =\n        google.colab.kernel.accessAllowed ? 'block' : 'none';\n    })();\n  </script>\n</div>`;\n        parentElement.appendChild(quickchartButtonContainerElement);\n      }\n\n      appendQuickchartButton(table);\n    "
          },
          "metadata": {},
          "execution_count": 20
        }
      ],
      "source": [
        "emojis = pd.read_csv('emojis_sentiment_new_scale.csv')\n",
        "emojis.head()"
      ]
    },
    {
      "cell_type": "code",
      "source": [
        "emojis"
      ],
      "metadata": {
        "colab": {
          "base_uri": "https://localhost:8080/",
          "height": 677
        },
        "id": "Oq0lEaN6yPQa",
        "outputId": "fcfacd41-ea34-4825-fa0d-48b6217e795f"
      },
      "execution_count": null,
      "outputs": [
        {
          "output_type": "display_data",
          "data": {
            "text/plain": [
              "<IPython.core.display.HTML object>"
            ],
            "text/html": [
              "\n",
              "  <style>\n",
              "    pre {white-space: pre-wrap;\n",
              "    }\n",
              "  </style>\n",
              "  "
            ]
          },
          "metadata": {}
        },
        {
          "output_type": "display_data",
          "data": {
            "text/plain": [
              "<IPython.core.display.HTML object>"
            ],
            "text/html": [
              "\n",
              "  <style>\n",
              "    pre {\n",
              "        white-space: pre-wrap;\n",
              "    }\n",
              "  </style>\n",
              "  "
            ]
          },
          "metadata": {}
        },
        {
          "output_type": "display_data",
          "data": {
            "text/plain": [
              "<IPython.core.display.HTML object>"
            ],
            "text/html": [
              "\n",
              "  <style>\n",
              "    pre {white-space: pre-wrap;\n",
              "    }\n",
              "  </style>\n",
              "  "
            ]
          },
          "metadata": {}
        },
        {
          "output_type": "display_data",
          "data": {
            "text/plain": [
              "<IPython.core.display.HTML object>"
            ],
            "text/html": [
              "\n",
              "  <style>\n",
              "    pre {\n",
              "        white-space: pre-wrap;\n",
              "    }\n",
              "  </style>\n",
              "  "
            ]
          },
          "metadata": {}
        },
        {
          "output_type": "execute_result",
          "data": {
            "text/plain": [
              "   emoji                             name      clean_post_text  \\\n",
              "0      😀                    grinning face            grin face   \n",
              "1      😃      grinning face with big eyes    grin face big eye   \n",
              "2      😄  grinning face with smiling eyes  grin face smile eye   \n",
              "3      😁   beaming face with smiling eyes  beam face smile eye   \n",
              "4      😆          grinning squinting face     grin squint face   \n",
              "..   ...                              ...                  ...   \n",
              "94     👿            angry face with horns      angry face horn   \n",
              "95     💀                            skull                skull   \n",
              "96     ☠             skull and crossbones     skull crossbones   \n",
              "97     💩                      pile of poo             pile poo   \n",
              "98     🤡                       clown face           clown face   \n",
              "\n",
              "                                     emotional_scores  \n",
              "0   {\"Anger\": 0.0, \"Anticipation\": 0.05, \"Disgust\"...  \n",
              "1   {\"Anger\": 0.0, \"Anticipation\": 0.05, \"Disgust\"...  \n",
              "2   {\"Anger\": 0.0, \"Anticipation\": 0.05, \"Disgust\"...  \n",
              "3   {\"Anger\": 0.0, \"Anticipation\": 0.05, \"Disgust\"...  \n",
              "4   {\"Anger\": 0.0, \"Anticipation\": 0.05, \"Disgust\"...  \n",
              "..                                                ...  \n",
              "94  {\"Anger\": 0.0625, \"Anticipation\": 0.0, \"Disgus...  \n",
              "95  {\"Anger\": 0.0, \"Anticipation\": 0.0, \"Disgust\":...  \n",
              "96  {\"Anger\": 0.0, \"Anticipation\": 0.0, \"Disgust\":...  \n",
              "97  {\"Anger\": 0.0, \"Anticipation\": 0.0, \"Disgust\":...  \n",
              "98  {\"Anger\": 0.0, \"Anticipation\": 0.05, \"Disgust\"...  \n",
              "\n",
              "[99 rows x 4 columns]"
            ],
            "text/html": [
              "\n",
              "  <div id=\"df-09a66e74-8362-4f39-a553-b0c2e9f9c97a\" class=\"colab-df-container\">\n",
              "    <div>\n",
              "<style scoped>\n",
              "    .dataframe tbody tr th:only-of-type {\n",
              "        vertical-align: middle;\n",
              "    }\n",
              "\n",
              "    .dataframe tbody tr th {\n",
              "        vertical-align: top;\n",
              "    }\n",
              "\n",
              "    .dataframe thead th {\n",
              "        text-align: right;\n",
              "    }\n",
              "</style>\n",
              "<table border=\"1\" class=\"dataframe\">\n",
              "  <thead>\n",
              "    <tr style=\"text-align: right;\">\n",
              "      <th></th>\n",
              "      <th>emoji</th>\n",
              "      <th>name</th>\n",
              "      <th>clean_post_text</th>\n",
              "      <th>emotional_scores</th>\n",
              "    </tr>\n",
              "  </thead>\n",
              "  <tbody>\n",
              "    <tr>\n",
              "      <th>0</th>\n",
              "      <td>😀</td>\n",
              "      <td>grinning face</td>\n",
              "      <td>grin face</td>\n",
              "      <td>{\"Anger\": 0.0, \"Anticipation\": 0.05, \"Disgust\"...</td>\n",
              "    </tr>\n",
              "    <tr>\n",
              "      <th>1</th>\n",
              "      <td>😃</td>\n",
              "      <td>grinning face with big eyes</td>\n",
              "      <td>grin face big eye</td>\n",
              "      <td>{\"Anger\": 0.0, \"Anticipation\": 0.05, \"Disgust\"...</td>\n",
              "    </tr>\n",
              "    <tr>\n",
              "      <th>2</th>\n",
              "      <td>😄</td>\n",
              "      <td>grinning face with smiling eyes</td>\n",
              "      <td>grin face smile eye</td>\n",
              "      <td>{\"Anger\": 0.0, \"Anticipation\": 0.05, \"Disgust\"...</td>\n",
              "    </tr>\n",
              "    <tr>\n",
              "      <th>3</th>\n",
              "      <td>😁</td>\n",
              "      <td>beaming face with smiling eyes</td>\n",
              "      <td>beam face smile eye</td>\n",
              "      <td>{\"Anger\": 0.0, \"Anticipation\": 0.05, \"Disgust\"...</td>\n",
              "    </tr>\n",
              "    <tr>\n",
              "      <th>4</th>\n",
              "      <td>😆</td>\n",
              "      <td>grinning squinting face</td>\n",
              "      <td>grin squint face</td>\n",
              "      <td>{\"Anger\": 0.0, \"Anticipation\": 0.05, \"Disgust\"...</td>\n",
              "    </tr>\n",
              "    <tr>\n",
              "      <th>...</th>\n",
              "      <td>...</td>\n",
              "      <td>...</td>\n",
              "      <td>...</td>\n",
              "      <td>...</td>\n",
              "    </tr>\n",
              "    <tr>\n",
              "      <th>94</th>\n",
              "      <td>👿</td>\n",
              "      <td>angry face with horns</td>\n",
              "      <td>angry face horn</td>\n",
              "      <td>{\"Anger\": 0.0625, \"Anticipation\": 0.0, \"Disgus...</td>\n",
              "    </tr>\n",
              "    <tr>\n",
              "      <th>95</th>\n",
              "      <td>💀</td>\n",
              "      <td>skull</td>\n",
              "      <td>skull</td>\n",
              "      <td>{\"Anger\": 0.0, \"Anticipation\": 0.0, \"Disgust\":...</td>\n",
              "    </tr>\n",
              "    <tr>\n",
              "      <th>96</th>\n",
              "      <td>☠</td>\n",
              "      <td>skull and crossbones</td>\n",
              "      <td>skull crossbones</td>\n",
              "      <td>{\"Anger\": 0.0, \"Anticipation\": 0.0, \"Disgust\":...</td>\n",
              "    </tr>\n",
              "    <tr>\n",
              "      <th>97</th>\n",
              "      <td>💩</td>\n",
              "      <td>pile of poo</td>\n",
              "      <td>pile poo</td>\n",
              "      <td>{\"Anger\": 0.0, \"Anticipation\": 0.0, \"Disgust\":...</td>\n",
              "    </tr>\n",
              "    <tr>\n",
              "      <th>98</th>\n",
              "      <td>🤡</td>\n",
              "      <td>clown face</td>\n",
              "      <td>clown face</td>\n",
              "      <td>{\"Anger\": 0.0, \"Anticipation\": 0.05, \"Disgust\"...</td>\n",
              "    </tr>\n",
              "  </tbody>\n",
              "</table>\n",
              "<p>99 rows × 4 columns</p>\n",
              "</div>\n",
              "    <div class=\"colab-df-buttons\">\n",
              "\n",
              "  <div class=\"colab-df-container\">\n",
              "    <button class=\"colab-df-convert\" onclick=\"convertToInteractive('df-09a66e74-8362-4f39-a553-b0c2e9f9c97a')\"\n",
              "            title=\"Convert this dataframe to an interactive table.\"\n",
              "            style=\"display:none;\">\n",
              "\n",
              "  <svg xmlns=\"http://www.w3.org/2000/svg\" height=\"24px\" viewBox=\"0 -960 960 960\">\n",
              "    <path d=\"M120-120v-720h720v720H120Zm60-500h600v-160H180v160Zm220 220h160v-160H400v160Zm0 220h160v-160H400v160ZM180-400h160v-160H180v160Zm440 0h160v-160H620v160ZM180-180h160v-160H180v160Zm440 0h160v-160H620v160Z\"/>\n",
              "  </svg>\n",
              "    </button>\n",
              "\n",
              "  <style>\n",
              "    .colab-df-container {\n",
              "      display:flex;\n",
              "      gap: 12px;\n",
              "    }\n",
              "\n",
              "    .colab-df-convert {\n",
              "      background-color: #E8F0FE;\n",
              "      border: none;\n",
              "      border-radius: 50%;\n",
              "      cursor: pointer;\n",
              "      display: none;\n",
              "      fill: #1967D2;\n",
              "      height: 32px;\n",
              "      padding: 0 0 0 0;\n",
              "      width: 32px;\n",
              "    }\n",
              "\n",
              "    .colab-df-convert:hover {\n",
              "      background-color: #E2EBFA;\n",
              "      box-shadow: 0px 1px 2px rgba(60, 64, 67, 0.3), 0px 1px 3px 1px rgba(60, 64, 67, 0.15);\n",
              "      fill: #174EA6;\n",
              "    }\n",
              "\n",
              "    .colab-df-buttons div {\n",
              "      margin-bottom: 4px;\n",
              "    }\n",
              "\n",
              "    [theme=dark] .colab-df-convert {\n",
              "      background-color: #3B4455;\n",
              "      fill: #D2E3FC;\n",
              "    }\n",
              "\n",
              "    [theme=dark] .colab-df-convert:hover {\n",
              "      background-color: #434B5C;\n",
              "      box-shadow: 0px 1px 3px 1px rgba(0, 0, 0, 0.15);\n",
              "      filter: drop-shadow(0px 1px 2px rgba(0, 0, 0, 0.3));\n",
              "      fill: #FFFFFF;\n",
              "    }\n",
              "  </style>\n",
              "\n",
              "    <script>\n",
              "      const buttonEl =\n",
              "        document.querySelector('#df-09a66e74-8362-4f39-a553-b0c2e9f9c97a button.colab-df-convert');\n",
              "      buttonEl.style.display =\n",
              "        google.colab.kernel.accessAllowed ? 'block' : 'none';\n",
              "\n",
              "      async function convertToInteractive(key) {\n",
              "        const element = document.querySelector('#df-09a66e74-8362-4f39-a553-b0c2e9f9c97a');\n",
              "        const dataTable =\n",
              "          await google.colab.kernel.invokeFunction('convertToInteractive',\n",
              "                                                    [key], {});\n",
              "        if (!dataTable) return;\n",
              "\n",
              "        const docLinkHtml = 'Like what you see? Visit the ' +\n",
              "          '<a target=\"_blank\" href=https://colab.research.google.com/notebooks/data_table.ipynb>data table notebook</a>'\n",
              "          + ' to learn more about interactive tables.';\n",
              "        element.innerHTML = '';\n",
              "        dataTable['output_type'] = 'display_data';\n",
              "        await google.colab.output.renderOutput(dataTable, element);\n",
              "        const docLink = document.createElement('div');\n",
              "        docLink.innerHTML = docLinkHtml;\n",
              "        element.appendChild(docLink);\n",
              "      }\n",
              "    </script>\n",
              "  </div>\n",
              "\n",
              "\n",
              "<div id=\"df-96199c6c-f3ba-4591-a9ab-2d6758d1908e\">\n",
              "  <button class=\"colab-df-quickchart\" onclick=\"quickchart('df-96199c6c-f3ba-4591-a9ab-2d6758d1908e')\"\n",
              "            title=\"Suggest charts\"\n",
              "            style=\"display:none;\">\n",
              "\n",
              "<svg xmlns=\"http://www.w3.org/2000/svg\" height=\"24px\"viewBox=\"0 0 24 24\"\n",
              "     width=\"24px\">\n",
              "    <g>\n",
              "        <path d=\"M19 3H5c-1.1 0-2 .9-2 2v14c0 1.1.9 2 2 2h14c1.1 0 2-.9 2-2V5c0-1.1-.9-2-2-2zM9 17H7v-7h2v7zm4 0h-2V7h2v10zm4 0h-2v-4h2v4z\"/>\n",
              "    </g>\n",
              "</svg>\n",
              "  </button>\n",
              "\n",
              "<style>\n",
              "  .colab-df-quickchart {\n",
              "      --bg-color: #E8F0FE;\n",
              "      --fill-color: #1967D2;\n",
              "      --hover-bg-color: #E2EBFA;\n",
              "      --hover-fill-color: #174EA6;\n",
              "      --disabled-fill-color: #AAA;\n",
              "      --disabled-bg-color: #DDD;\n",
              "  }\n",
              "\n",
              "  [theme=dark] .colab-df-quickchart {\n",
              "      --bg-color: #3B4455;\n",
              "      --fill-color: #D2E3FC;\n",
              "      --hover-bg-color: #434B5C;\n",
              "      --hover-fill-color: #FFFFFF;\n",
              "      --disabled-bg-color: #3B4455;\n",
              "      --disabled-fill-color: #666;\n",
              "  }\n",
              "\n",
              "  .colab-df-quickchart {\n",
              "    background-color: var(--bg-color);\n",
              "    border: none;\n",
              "    border-radius: 50%;\n",
              "    cursor: pointer;\n",
              "    display: none;\n",
              "    fill: var(--fill-color);\n",
              "    height: 32px;\n",
              "    padding: 0;\n",
              "    width: 32px;\n",
              "  }\n",
              "\n",
              "  .colab-df-quickchart:hover {\n",
              "    background-color: var(--hover-bg-color);\n",
              "    box-shadow: 0 1px 2px rgba(60, 64, 67, 0.3), 0 1px 3px 1px rgba(60, 64, 67, 0.15);\n",
              "    fill: var(--button-hover-fill-color);\n",
              "  }\n",
              "\n",
              "  .colab-df-quickchart-complete:disabled,\n",
              "  .colab-df-quickchart-complete:disabled:hover {\n",
              "    background-color: var(--disabled-bg-color);\n",
              "    fill: var(--disabled-fill-color);\n",
              "    box-shadow: none;\n",
              "  }\n",
              "\n",
              "  .colab-df-spinner {\n",
              "    border: 2px solid var(--fill-color);\n",
              "    border-color: transparent;\n",
              "    border-bottom-color: var(--fill-color);\n",
              "    animation:\n",
              "      spin 1s steps(1) infinite;\n",
              "  }\n",
              "\n",
              "  @keyframes spin {\n",
              "    0% {\n",
              "      border-color: transparent;\n",
              "      border-bottom-color: var(--fill-color);\n",
              "      border-left-color: var(--fill-color);\n",
              "    }\n",
              "    20% {\n",
              "      border-color: transparent;\n",
              "      border-left-color: var(--fill-color);\n",
              "      border-top-color: var(--fill-color);\n",
              "    }\n",
              "    30% {\n",
              "      border-color: transparent;\n",
              "      border-left-color: var(--fill-color);\n",
              "      border-top-color: var(--fill-color);\n",
              "      border-right-color: var(--fill-color);\n",
              "    }\n",
              "    40% {\n",
              "      border-color: transparent;\n",
              "      border-right-color: var(--fill-color);\n",
              "      border-top-color: var(--fill-color);\n",
              "    }\n",
              "    60% {\n",
              "      border-color: transparent;\n",
              "      border-right-color: var(--fill-color);\n",
              "    }\n",
              "    80% {\n",
              "      border-color: transparent;\n",
              "      border-right-color: var(--fill-color);\n",
              "      border-bottom-color: var(--fill-color);\n",
              "    }\n",
              "    90% {\n",
              "      border-color: transparent;\n",
              "      border-bottom-color: var(--fill-color);\n",
              "    }\n",
              "  }\n",
              "</style>\n",
              "\n",
              "  <script>\n",
              "    async function quickchart(key) {\n",
              "      const quickchartButtonEl =\n",
              "        document.querySelector('#' + key + ' button');\n",
              "      quickchartButtonEl.disabled = true;  // To prevent multiple clicks.\n",
              "      quickchartButtonEl.classList.add('colab-df-spinner');\n",
              "      try {\n",
              "        const charts = await google.colab.kernel.invokeFunction(\n",
              "            'suggestCharts', [key], {});\n",
              "      } catch (error) {\n",
              "        console.error('Error during call to suggestCharts:', error);\n",
              "      }\n",
              "      quickchartButtonEl.classList.remove('colab-df-spinner');\n",
              "      quickchartButtonEl.classList.add('colab-df-quickchart-complete');\n",
              "    }\n",
              "    (() => {\n",
              "      let quickchartButtonEl =\n",
              "        document.querySelector('#df-96199c6c-f3ba-4591-a9ab-2d6758d1908e button');\n",
              "      quickchartButtonEl.style.display =\n",
              "        google.colab.kernel.accessAllowed ? 'block' : 'none';\n",
              "    })();\n",
              "  </script>\n",
              "</div>\n",
              "    </div>\n",
              "  </div>\n"
            ],
            "application/vnd.google.colaboratory.intrinsic+json": {
              "type": "dataframe",
              "variable_name": "emojis",
              "summary": "{\n  \"name\": \"emojis\",\n  \"rows\": 99,\n  \"fields\": [\n    {\n      \"column\": \"emoji\",\n      \"properties\": {\n        \"dtype\": \"string\",\n        \"num_unique_values\": 99,\n        \"samples\": [\n          \"\\ud83d\\ude0e\",\n          \"\\ud83d\\ude2e\\u200d\\ud83d\\udca8\",\n          \"\\ud83d\\udc80\"\n        ],\n        \"semantic_type\": \"\",\n        \"description\": \"\"\n      }\n    },\n    {\n      \"column\": \"name\",\n      \"properties\": {\n        \"dtype\": \"string\",\n        \"num_unique_values\": 99,\n        \"samples\": [\n          \"smiling face with sunglasses\",\n          \"\\u229b face exhaling\",\n          \"skull\"\n        ],\n        \"semantic_type\": \"\",\n        \"description\": \"\"\n      }\n    },\n    {\n      \"column\": \"clean_post_text\",\n      \"properties\": {\n        \"dtype\": \"string\",\n        \"num_unique_values\": 99,\n        \"samples\": [\n          \"smile face sunglass\",\n          \"face exhale\",\n          \"skull\"\n        ],\n        \"semantic_type\": \"\",\n        \"description\": \"\"\n      }\n    },\n    {\n      \"column\": \"emotional_scores\",\n      \"properties\": {\n        \"dtype\": \"category\",\n        \"num_unique_values\": 33,\n        \"samples\": [\n          \"{\\\"Anger\\\": 0.0, \\\"Anticipation\\\": 0.0, \\\"Disgust\\\": 0.0, \\\"Fear\\\": 0.05555555555555555, \\\"Joy\\\": 0.0, \\\"Sadness\\\": 0.0, \\\"Surprise\\\": 0.0, \\\"Trust\\\": 0.0}\",\n          \"{\\\"Anger\\\": 0.0, \\\"Anticipation\\\": 0.0, \\\"Disgust\\\": 0.0, \\\"Fear\\\": 0.0, \\\"Joy\\\": 0.0, \\\"Sadness\\\": 0.043478260869565216, \\\"Surprise\\\": 0.0, \\\"Trust\\\": 0.0}\",\n          \"{\\\"Anger\\\": 0.0, \\\"Anticipation\\\": 0.0, \\\"Disgust\\\": 0.0, \\\"Fear\\\": 0.05555555555555555, \\\"Joy\\\": 0.0, \\\"Sadness\\\": 0.043478260869565216, \\\"Surprise\\\": 0.0, \\\"Trust\\\": 0.0}\"\n        ],\n        \"semantic_type\": \"\",\n        \"description\": \"\"\n      }\n    }\n  ]\n}"
            },
            "application/vnd.google.colaboratory.module+javascript": "\n      import \"https://ssl.gstatic.com/colaboratory/data_table/881c4a0d49046431/data_table.js\";\n\n      const table = window.createDataTable({\n        data: [[{\n            'v': 0,\n            'f': \"0\",\n        },\n\"\\ud83d\\ude00\",\n\"grinning face\",\n\"grin face\",\n\"{\\\"Anger\\\": 0.0, \\\"Anticipation\\\": 0.05, \\\"Disgust\\\": 0.0, \\\"Fear\\\": 0.0, \\\"Joy\\\": 0.017857142857142856, \\\"Sadness\\\": 0.0, \\\"Surprise\\\": 0.023809523809523808, \\\"Trust\\\": 0.03225806451612903}\"],\n [{\n            'v': 1,\n            'f': \"1\",\n        },\n\"\\ud83d\\ude03\",\n\"grinning face with big eyes\",\n\"grin face big eye\",\n\"{\\\"Anger\\\": 0.0, \\\"Anticipation\\\": 0.05, \\\"Disgust\\\": 0.0, \\\"Fear\\\": 0.0, \\\"Joy\\\": 0.017857142857142856, \\\"Sadness\\\": 0.0, \\\"Surprise\\\": 0.023809523809523808, \\\"Trust\\\": 0.03225806451612903}\"],\n [{\n            'v': 2,\n            'f': \"2\",\n        },\n\"\\ud83d\\ude04\",\n\"grinning face with smiling eyes\",\n\"grin face smile eye\",\n\"{\\\"Anger\\\": 0.0, \\\"Anticipation\\\": 0.05, \\\"Disgust\\\": 0.0, \\\"Fear\\\": 0.0, \\\"Joy\\\": 0.05357142857142857, \\\"Sadness\\\": 0.0, \\\"Surprise\\\": 0.047619047619047616, \\\"Trust\\\": 0.06451612903225806}\"],\n [{\n            'v': 3,\n            'f': \"3\",\n        },\n\"\\ud83d\\ude01\",\n\"beaming face with smiling eyes\",\n\"beam face smile eye\",\n\"{\\\"Anger\\\": 0.0, \\\"Anticipation\\\": 0.05, \\\"Disgust\\\": 0.0, \\\"Fear\\\": 0.0, \\\"Joy\\\": 0.07142857142857142, \\\"Sadness\\\": 0.0, \\\"Surprise\\\": 0.023809523809523808, \\\"Trust\\\": 0.03225806451612903}\"],\n [{\n            'v': 4,\n            'f': \"4\",\n        },\n\"\\ud83d\\ude06\",\n\"grinning squinting face\",\n\"grin squint face\",\n\"{\\\"Anger\\\": 0.0, \\\"Anticipation\\\": 0.05, \\\"Disgust\\\": 0.0, \\\"Fear\\\": 0.0, \\\"Joy\\\": 0.017857142857142856, \\\"Sadness\\\": 0.0, \\\"Surprise\\\": 0.023809523809523808, \\\"Trust\\\": 0.03225806451612903}\"],\n [{\n            'v': 5,\n            'f': \"5\",\n        },\n\"\\ud83d\\ude05\",\n\"grinning face with sweat\",\n\"grin face sweat\",\n\"{\\\"Anger\\\": 0.0, \\\"Anticipation\\\": 0.05, \\\"Disgust\\\": 0.0, \\\"Fear\\\": 0.05555555555555555, \\\"Joy\\\": 0.017857142857142856, \\\"Sadness\\\": 0.0, \\\"Surprise\\\": 0.023809523809523808, \\\"Trust\\\": 0.03225806451612903}\"],\n [{\n            'v': 6,\n            'f': \"6\",\n        },\n\"\\ud83e\\udd23\",\n\"rolling on the floor laughing\",\n\"roll floor laugh\",\n\"{\\\"Anger\\\": 0.0, \\\"Anticipation\\\": 0.0, \\\"Disgust\\\": 0.0, \\\"Fear\\\": 0.0, \\\"Joy\\\": 0.03571428571428571, \\\"Sadness\\\": 0.0, \\\"Surprise\\\": 0.023809523809523808, \\\"Trust\\\": 0.0}\"],\n [{\n            'v': 7,\n            'f': \"7\",\n        },\n\"\\ud83d\\ude02\",\n\"face with tears of joy\",\n\"face tear joy\",\n\"{\\\"Anger\\\": 0.0, \\\"Anticipation\\\": 0.0, \\\"Disgust\\\": 0.0, \\\"Fear\\\": 0.0, \\\"Joy\\\": 0.017857142857142856, \\\"Sadness\\\": 0.0, \\\"Surprise\\\": 0.0, \\\"Trust\\\": 0.0}\"],\n [{\n            'v': 8,\n            'f': \"8\",\n        },\n\"\\ud83d\\ude42\",\n\"slightly smiling face\",\n\"slightly smile face\",\n\"{\\\"Anger\\\": 0.0, \\\"Anticipation\\\": 0.0, \\\"Disgust\\\": 0.0, \\\"Fear\\\": 0.0, \\\"Joy\\\": 0.03571428571428571, \\\"Sadness\\\": 0.0, \\\"Surprise\\\": 0.023809523809523808, \\\"Trust\\\": 0.03225806451612903}\"],\n [{\n            'v': 9,\n            'f': \"9\",\n        },\n\"\\ud83d\\ude43\",\n\"upside-down face\",\n\"upside face\",\n\"{\\\"Anger\\\": 0.0, \\\"Anticipation\\\": 0.0, \\\"Disgust\\\": 0.0, \\\"Fear\\\": 0.0, \\\"Joy\\\": 0.0, \\\"Sadness\\\": 0.0, \\\"Surprise\\\": 0.0, \\\"Trust\\\": 0.0}\"],\n [{\n            'v': 10,\n            'f': \"10\",\n        },\n\"\\ud83d\\ude09\",\n\"winking face\",\n\"wink face\",\n\"{\\\"Anger\\\": 0.0, \\\"Anticipation\\\": 0.0, \\\"Disgust\\\": 0.0, \\\"Fear\\\": 0.0, \\\"Joy\\\": 0.0, \\\"Sadness\\\": 0.0, \\\"Surprise\\\": 0.0, \\\"Trust\\\": 0.0}\"],\n [{\n            'v': 11,\n            'f': \"11\",\n        },\n\"\\ud83d\\ude0a\",\n\"smiling face with smiling eyes\",\n\"smile face smile eye\",\n\"{\\\"Anger\\\": 0.0, \\\"Anticipation\\\": 0.0, \\\"Disgust\\\": 0.0, \\\"Fear\\\": 0.0, \\\"Joy\\\": 0.07142857142857142, \\\"Sadness\\\": 0.0, \\\"Surprise\\\": 0.047619047619047616, \\\"Trust\\\": 0.06451612903225806}\"],\n [{\n            'v': 12,\n            'f': \"12\",\n        },\n\"\\ud83d\\ude07\",\n\"smiling face with halo\",\n\"smile face halo\",\n\"{\\\"Anger\\\": 0.0, \\\"Anticipation\\\": 0.0, \\\"Disgust\\\": 0.0, \\\"Fear\\\": 0.0, \\\"Joy\\\": 0.03571428571428571, \\\"Sadness\\\": 0.0, \\\"Surprise\\\": 0.023809523809523808, \\\"Trust\\\": 0.03225806451612903}\"],\n [{\n            'v': 13,\n            'f': \"13\",\n        },\n\"\\ud83e\\udd70\",\n\"smiling face with hearts\",\n\"smile face heart\",\n\"{\\\"Anger\\\": 0.0, \\\"Anticipation\\\": 0.0, \\\"Disgust\\\": 0.0, \\\"Fear\\\": 0.0, \\\"Joy\\\": 0.03571428571428571, \\\"Sadness\\\": 0.0, \\\"Surprise\\\": 0.023809523809523808, \\\"Trust\\\": 0.03225806451612903}\"],\n [{\n            'v': 14,\n            'f': \"14\",\n        },\n\"\\ud83d\\ude0d\",\n\"smiling face with heart-eyes\",\n\"smile face heart eye\",\n\"{\\\"Anger\\\": 0.0, \\\"Anticipation\\\": 0.0, \\\"Disgust\\\": 0.0, \\\"Fear\\\": 0.0, \\\"Joy\\\": 0.03571428571428571, \\\"Sadness\\\": 0.0, \\\"Surprise\\\": 0.023809523809523808, \\\"Trust\\\": 0.03225806451612903}\"],\n [{\n            'v': 15,\n            'f': \"15\",\n        },\n\"\\ud83d\\ude18\",\n\"face blowing a kiss\",\n\"face blowing kiss\",\n\"{\\\"Anger\\\": 0.0, \\\"Anticipation\\\": 0.05, \\\"Disgust\\\": 0.0, \\\"Fear\\\": 0.0, \\\"Joy\\\": 0.017857142857142856, \\\"Sadness\\\": 0.0, \\\"Surprise\\\": 0.023809523809523808, \\\"Trust\\\": 0.0}\"],\n [{\n            'v': 16,\n            'f': \"16\",\n        },\n\"\\ud83d\\ude17\",\n\"kissing face\",\n\"kiss face\",\n\"{\\\"Anger\\\": 0.0, \\\"Anticipation\\\": 0.05, \\\"Disgust\\\": 0.0, \\\"Fear\\\": 0.0, \\\"Joy\\\": 0.017857142857142856, \\\"Sadness\\\": 0.0, \\\"Surprise\\\": 0.023809523809523808, \\\"Trust\\\": 0.0}\"],\n [{\n            'v': 17,\n            'f': \"17\",\n        },\n\"\\u263a\",\n\"smiling face\",\n\"smile face\",\n\"{\\\"Anger\\\": 0.0, \\\"Anticipation\\\": 0.0, \\\"Disgust\\\": 0.0, \\\"Fear\\\": 0.0, \\\"Joy\\\": 0.03571428571428571, \\\"Sadness\\\": 0.0, \\\"Surprise\\\": 0.023809523809523808, \\\"Trust\\\": 0.03225806451612903}\"],\n [{\n            'v': 18,\n            'f': \"18\",\n        },\n\"\\ud83d\\ude1a\",\n\"kissing face with closed eyes\",\n\"kiss face close eye\",\n\"{\\\"Anger\\\": 0.0, \\\"Anticipation\\\": 0.05, \\\"Disgust\\\": 0.0, \\\"Fear\\\": 0.0, \\\"Joy\\\": 0.017857142857142856, \\\"Sadness\\\": 0.0, \\\"Surprise\\\": 0.023809523809523808, \\\"Trust\\\": 0.0}\"],\n [{\n            'v': 19,\n            'f': \"19\",\n        },\n\"\\ud83d\\ude19\",\n\"kissing face with smiling eyes\",\n\"kiss face smile eye\",\n\"{\\\"Anger\\\": 0.0, \\\"Anticipation\\\": 0.05, \\\"Disgust\\\": 0.0, \\\"Fear\\\": 0.0, \\\"Joy\\\": 0.05357142857142857, \\\"Sadness\\\": 0.0, \\\"Surprise\\\": 0.047619047619047616, \\\"Trust\\\": 0.03225806451612903}\"],\n [{\n            'v': 20,\n            'f': \"20\",\n        },\n\"\\ud83e\\udd72\",\n\"smiling face with tear\",\n\"smile face tear\",\n\"{\\\"Anger\\\": 0.0, \\\"Anticipation\\\": 0.0, \\\"Disgust\\\": 0.0, \\\"Fear\\\": 0.0, \\\"Joy\\\": 0.03571428571428571, \\\"Sadness\\\": 0.0, \\\"Surprise\\\": 0.023809523809523808, \\\"Trust\\\": 0.03225806451612903}\"],\n [{\n            'v': 21,\n            'f': \"21\",\n        },\n\"\\ud83d\\ude0b\",\n\"face savoring food\",\n\"face savor food\",\n\"{\\\"Anger\\\": 0.0, \\\"Anticipation\\\": 0.05, \\\"Disgust\\\": 0.05, \\\"Fear\\\": 0.0, \\\"Joy\\\": 0.03571428571428571, \\\"Sadness\\\": 0.043478260869565216, \\\"Surprise\\\": 0.0, \\\"Trust\\\": 0.06451612903225806}\"],\n [{\n            'v': 22,\n            'f': \"22\",\n        },\n\"\\ud83d\\ude1b\",\n\"face with tongue\",\n\"face tongue\",\n\"{\\\"Anger\\\": 0.0, \\\"Anticipation\\\": 0.0, \\\"Disgust\\\": 0.0, \\\"Fear\\\": 0.0, \\\"Joy\\\": 0.0, \\\"Sadness\\\": 0.0, \\\"Surprise\\\": 0.0, \\\"Trust\\\": 0.0}\"],\n [{\n            'v': 23,\n            'f': \"23\",\n        },\n\"\\ud83d\\ude1c\",\n\"winking face with tongue\",\n\"wink face tongue\",\n\"{\\\"Anger\\\": 0.0, \\\"Anticipation\\\": 0.0, \\\"Disgust\\\": 0.0, \\\"Fear\\\": 0.0, \\\"Joy\\\": 0.0, \\\"Sadness\\\": 0.0, \\\"Surprise\\\": 0.0, \\\"Trust\\\": 0.0}\"],\n [{\n            'v': 24,\n            'f': \"24\",\n        },\n\"\\ud83e\\udd2a\",\n\"zany face\",\n\"zany face\",\n\"{\\\"Anger\\\": 0.0, \\\"Anticipation\\\": 0.0, \\\"Disgust\\\": 0.0, \\\"Fear\\\": 0.0, \\\"Joy\\\": 0.0, \\\"Sadness\\\": 0.0, \\\"Surprise\\\": 0.023809523809523808, \\\"Trust\\\": 0.0}\"],\n [{\n            'v': 25,\n            'f': \"25\",\n        },\n\"\\ud83d\\ude1d\",\n\"squinting face with tongue\",\n\"squint face tongue\",\n\"{\\\"Anger\\\": 0.0, \\\"Anticipation\\\": 0.0, \\\"Disgust\\\": 0.0, \\\"Fear\\\": 0.0, \\\"Joy\\\": 0.0, \\\"Sadness\\\": 0.0, \\\"Surprise\\\": 0.0, \\\"Trust\\\": 0.0}\"],\n [{\n            'v': 26,\n            'f': \"26\",\n        },\n\"\\ud83e\\udd17\",\n\"hugging face\",\n\"hug face\",\n\"{\\\"Anger\\\": 0.0, \\\"Anticipation\\\": 0.0, \\\"Disgust\\\": 0.0, \\\"Fear\\\": 0.0, \\\"Joy\\\": 0.017857142857142856, \\\"Sadness\\\": 0.0, \\\"Surprise\\\": 0.0, \\\"Trust\\\": 0.03225806451612903}\"],\n [{\n            'v': 27,\n            'f': \"27\",\n        },\n\"\\ud83e\\udd2d\",\n\"face with hand over mouth\",\n\"face hand mouth\",\n\"{\\\"Anger\\\": 0.0, \\\"Anticipation\\\": 0.0, \\\"Disgust\\\": 0.0, \\\"Fear\\\": 0.0, \\\"Joy\\\": 0.0, \\\"Sadness\\\": 0.0, \\\"Surprise\\\": 0.023809523809523808, \\\"Trust\\\": 0.0}\"],\n [{\n            'v': 28,\n            'f': \"28\",\n        },\n\"\\ud83e\\udd2b\",\n\"shushing face\",\n\"shush face\",\n\"{\\\"Anger\\\": 0.0, \\\"Anticipation\\\": 0.0, \\\"Disgust\\\": 0.0, \\\"Fear\\\": 0.0, \\\"Joy\\\": 0.0, \\\"Sadness\\\": 0.0, \\\"Surprise\\\": 0.0, \\\"Trust\\\": 0.0}\"],\n [{\n            'v': 29,\n            'f': \"29\",\n        },\n\"\\ud83e\\udd14\",\n\"thinking face\",\n\"think face\",\n\"{\\\"Anger\\\": 0.0, \\\"Anticipation\\\": 0.0, \\\"Disgust\\\": 0.0, \\\"Fear\\\": 0.0, \\\"Joy\\\": 0.0, \\\"Sadness\\\": 0.0, \\\"Surprise\\\": 0.0, \\\"Trust\\\": 0.0}\"],\n [{\n            'v': 30,\n            'f': \"30\",\n        },\n\"\\ud83e\\udd10\",\n\"zipper-mouth face\",\n\"zipper mouth face\",\n\"{\\\"Anger\\\": 0.0, \\\"Anticipation\\\": 0.0, \\\"Disgust\\\": 0.0, \\\"Fear\\\": 0.0, \\\"Joy\\\": 0.0, \\\"Sadness\\\": 0.0, \\\"Surprise\\\": 0.023809523809523808, \\\"Trust\\\": 0.0}\"],\n [{\n            'v': 31,\n            'f': \"31\",\n        },\n\"\\ud83e\\udd28\",\n\"face with raised eyebrow\",\n\"face raise eyebrow\",\n\"{\\\"Anger\\\": 0.0, \\\"Anticipation\\\": 0.0, \\\"Disgust\\\": 0.0, \\\"Fear\\\": 0.0, \\\"Joy\\\": 0.0, \\\"Sadness\\\": 0.0, \\\"Surprise\\\": 0.0, \\\"Trust\\\": 0.0}\"],\n [{\n            'v': 32,\n            'f': \"32\",\n        },\n\"\\ud83d\\ude10\",\n\"neutral face\",\n\"neutral face\",\n\"{\\\"Anger\\\": 0.0, \\\"Anticipation\\\": 0.05, \\\"Disgust\\\": 0.0, \\\"Fear\\\": 0.0, \\\"Joy\\\": 0.0, \\\"Sadness\\\": 0.0, \\\"Surprise\\\": 0.0, \\\"Trust\\\": 0.03225806451612903}\"],\n [{\n            'v': 33,\n            'f': \"33\",\n        },\n\"\\ud83d\\ude11\",\n\"expressionless face\",\n\"expressionless face\",\n\"{\\\"Anger\\\": 0.0, \\\"Anticipation\\\": 0.0, \\\"Disgust\\\": 0.0, \\\"Fear\\\": 0.0, \\\"Joy\\\": 0.0, \\\"Sadness\\\": 0.0, \\\"Surprise\\\": 0.0, \\\"Trust\\\": 0.0}\"],\n [{\n            'v': 34,\n            'f': \"34\",\n        },\n\"\\ud83d\\ude36\",\n\"face without mouth\",\n\"face without mouth\",\n\"{\\\"Anger\\\": 0.0, \\\"Anticipation\\\": 0.0, \\\"Disgust\\\": 0.0, \\\"Fear\\\": 0.0, \\\"Joy\\\": 0.0, \\\"Sadness\\\": 0.0, \\\"Surprise\\\": 0.023809523809523808, \\\"Trust\\\": 0.0}\"],\n [{\n            'v': 35,\n            'f': \"35\",\n        },\n\"\\ud83d\\ude36\\u200d\\ud83c\\udf2b\\ufe0f\",\n\"\\u229b face in clouds\",\n\"face cloud\",\n\"{\\\"Anger\\\": 0.0, \\\"Anticipation\\\": 0.0, \\\"Disgust\\\": 0.0, \\\"Fear\\\": 0.0, \\\"Joy\\\": 0.0, \\\"Sadness\\\": 0.043478260869565216, \\\"Surprise\\\": 0.0, \\\"Trust\\\": 0.0}\"],\n [{\n            'v': 36,\n            'f': \"36\",\n        },\n\"\\ud83d\\ude0f\",\n\"smirking face\",\n\"smirk face\",\n\"{\\\"Anger\\\": 0.0, \\\"Anticipation\\\": 0.0, \\\"Disgust\\\": 0.0, \\\"Fear\\\": 0.0, \\\"Joy\\\": 0.0, \\\"Sadness\\\": 0.0, \\\"Surprise\\\": 0.0, \\\"Trust\\\": 0.0}\"],\n [{\n            'v': 37,\n            'f': \"37\",\n        },\n\"\\ud83d\\ude12\",\n\"unamused face\",\n\"unamused face\",\n\"{\\\"Anger\\\": 0.0, \\\"Anticipation\\\": 0.0, \\\"Disgust\\\": 0.0, \\\"Fear\\\": 0.0, \\\"Joy\\\": 0.0, \\\"Sadness\\\": 0.0, \\\"Surprise\\\": 0.0, \\\"Trust\\\": 0.0}\"],\n [{\n            'v': 38,\n            'f': \"38\",\n        },\n\"\\ud83d\\ude44\",\n\"face with rolling eyes\",\n\"face roll eye\",\n\"{\\\"Anger\\\": 0.0, \\\"Anticipation\\\": 0.0, \\\"Disgust\\\": 0.0, \\\"Fear\\\": 0.0, \\\"Joy\\\": 0.0, \\\"Sadness\\\": 0.0, \\\"Surprise\\\": 0.0, \\\"Trust\\\": 0.0}\"],\n [{\n            'v': 39,\n            'f': \"39\",\n        },\n\"\\ud83d\\ude2c\",\n\"grimacing face\",\n\"grimace face\",\n\"{\\\"Anger\\\": 0.0, \\\"Anticipation\\\": 0.0, \\\"Disgust\\\": 0.0, \\\"Fear\\\": 0.0, \\\"Joy\\\": 0.0, \\\"Sadness\\\": 0.0, \\\"Surprise\\\": 0.0, \\\"Trust\\\": 0.0}\"],\n [{\n            'v': 40,\n            'f': \"40\",\n        },\n\"\\ud83d\\ude2e\\u200d\\ud83d\\udca8\",\n\"\\u229b face exhaling\",\n\"face exhale\",\n\"{\\\"Anger\\\": 0.0, \\\"Anticipation\\\": 0.0, \\\"Disgust\\\": 0.0, \\\"Fear\\\": 0.0, \\\"Joy\\\": 0.0, \\\"Sadness\\\": 0.0, \\\"Surprise\\\": 0.0, \\\"Trust\\\": 0.0}\"],\n [{\n            'v': 41,\n            'f': \"41\",\n        },\n\"\\ud83e\\udd25\",\n\"lying face\",\n\"lie face\",\n\"{\\\"Anger\\\": 0.125, \\\"Anticipation\\\": 0.0, \\\"Disgust\\\": 0.1, \\\"Fear\\\": 0.0, \\\"Joy\\\": 0.0, \\\"Sadness\\\": 0.043478260869565216, \\\"Surprise\\\": 0.0, \\\"Trust\\\": 0.0}\"],\n [{\n            'v': 42,\n            'f': \"42\",\n        },\n\"\\ud83d\\ude0c\",\n\"relieved face\",\n\"relieve face\",\n\"{\\\"Anger\\\": 0.0, \\\"Anticipation\\\": 0.0, \\\"Disgust\\\": 0.0, \\\"Fear\\\": 0.0, \\\"Joy\\\": 0.0, \\\"Sadness\\\": 0.0, \\\"Surprise\\\": 0.0, \\\"Trust\\\": 0.0}\"],\n [{\n            'v': 43,\n            'f': \"43\",\n        },\n\"\\ud83d\\ude14\",\n\"pensive face\",\n\"pensive face\",\n\"{\\\"Anger\\\": 0.0, \\\"Anticipation\\\": 0.0, \\\"Disgust\\\": 0.0, \\\"Fear\\\": 0.0, \\\"Joy\\\": 0.0, \\\"Sadness\\\": 0.043478260869565216, \\\"Surprise\\\": 0.0, \\\"Trust\\\": 0.0}\"],\n [{\n            'v': 44,\n            'f': \"44\",\n        },\n\"\\ud83d\\ude2a\",\n\"sleepy face\",\n\"sleepy face\",\n\"{\\\"Anger\\\": 0.0, \\\"Anticipation\\\": 0.0, \\\"Disgust\\\": 0.0, \\\"Fear\\\": 0.0, \\\"Joy\\\": 0.0, \\\"Sadness\\\": 0.0, \\\"Surprise\\\": 0.0, \\\"Trust\\\": 0.0}\"],\n [{\n            'v': 45,\n            'f': \"45\",\n        },\n\"\\ud83e\\udd24\",\n\"drooling face\",\n\"drool face\",\n\"{\\\"Anger\\\": 0.0, \\\"Anticipation\\\": 0.0, \\\"Disgust\\\": 0.05, \\\"Fear\\\": 0.0, \\\"Joy\\\": 0.0, \\\"Sadness\\\": 0.0, \\\"Surprise\\\": 0.0, \\\"Trust\\\": 0.0}\"],\n [{\n            'v': 46,\n            'f': \"46\",\n        },\n\"\\ud83d\\ude34\",\n\"sleeping face\",\n\"sleep face\",\n\"{\\\"Anger\\\": 0.0, \\\"Anticipation\\\": 0.0, \\\"Disgust\\\": 0.0, \\\"Fear\\\": 0.0, \\\"Joy\\\": 0.0, \\\"Sadness\\\": 0.0, \\\"Surprise\\\": 0.0, \\\"Trust\\\": 0.0}\"],\n [{\n            'v': 47,\n            'f': \"47\",\n        },\n\"\\ud83d\\ude37\",\n\"face with medical mask\",\n\"face medical mask\",\n\"{\\\"Anger\\\": 0.0, \\\"Anticipation\\\": 0.05, \\\"Disgust\\\": 0.0, \\\"Fear\\\": 0.05555555555555555, \\\"Joy\\\": 0.0, \\\"Sadness\\\": 0.0, \\\"Surprise\\\": 0.0, \\\"Trust\\\": 0.03225806451612903}\"],\n [{\n            'v': 48,\n            'f': \"48\",\n        },\n\"\\ud83e\\udd12\",\n\"face with thermometer\",\n\"face thermometer\",\n\"{\\\"Anger\\\": 0.0, \\\"Anticipation\\\": 0.0, \\\"Disgust\\\": 0.0, \\\"Fear\\\": 0.0, \\\"Joy\\\": 0.0, \\\"Sadness\\\": 0.0, \\\"Surprise\\\": 0.0, \\\"Trust\\\": 0.03225806451612903}\"],\n [{\n            'v': 49,\n            'f': \"49\",\n        },\n\"\\ud83e\\udd15\",\n\"face with head-bandage\",\n\"face head bandage\",\n\"{\\\"Anger\\\": 0.0, \\\"Anticipation\\\": 0.0, \\\"Disgust\\\": 0.0, \\\"Fear\\\": 0.0, \\\"Joy\\\": 0.0, \\\"Sadness\\\": 0.0, \\\"Surprise\\\": 0.0, \\\"Trust\\\": 0.0}\"],\n [{\n            'v': 50,\n            'f': \"50\",\n        },\n\"\\ud83e\\udd22\",\n\"nauseated face\",\n\"nauseate face\",\n\"{\\\"Anger\\\": 0.0, \\\"Anticipation\\\": 0.0, \\\"Disgust\\\": 0.0, \\\"Fear\\\": 0.0, \\\"Joy\\\": 0.0, \\\"Sadness\\\": 0.0, \\\"Surprise\\\": 0.0, \\\"Trust\\\": 0.0}\"],\n [{\n            'v': 51,\n            'f': \"51\",\n        },\n\"\\ud83e\\udd2e\",\n\"face vomiting\",\n\"face vomit\",\n\"{\\\"Anger\\\": 0.0, \\\"Anticipation\\\": 0.0, \\\"Disgust\\\": 0.05, \\\"Fear\\\": 0.0, \\\"Joy\\\": 0.0, \\\"Sadness\\\": 0.0, \\\"Surprise\\\": 0.0, \\\"Trust\\\": 0.0}\"],\n [{\n            'v': 52,\n            'f': \"52\",\n        },\n\"\\ud83e\\udd27\",\n\"sneezing face\",\n\"sneeze face\",\n\"{\\\"Anger\\\": 0.0, \\\"Anticipation\\\": 0.0, \\\"Disgust\\\": 0.05, \\\"Fear\\\": 0.0, \\\"Joy\\\": 0.0, \\\"Sadness\\\": 0.0, \\\"Surprise\\\": 0.023809523809523808, \\\"Trust\\\": 0.0}\"],\n [{\n            'v': 53,\n            'f': \"53\",\n        },\n\"\\ud83e\\udd75\",\n\"hot face\",\n\"hot face\",\n\"{\\\"Anger\\\": 0.0625, \\\"Anticipation\\\": 0.0, \\\"Disgust\\\": 0.0, \\\"Fear\\\": 0.0, \\\"Joy\\\": 0.0, \\\"Sadness\\\": 0.0, \\\"Surprise\\\": 0.0, \\\"Trust\\\": 0.0}\"],\n [{\n            'v': 54,\n            'f': \"54\",\n        },\n\"\\ud83e\\udd76\",\n\"cold face\",\n\"cold face\",\n\"{\\\"Anger\\\": 0.0, \\\"Anticipation\\\": 0.0, \\\"Disgust\\\": 0.0, \\\"Fear\\\": 0.0, \\\"Joy\\\": 0.0, \\\"Sadness\\\": 0.0, \\\"Surprise\\\": 0.0, \\\"Trust\\\": 0.0}\"],\n [{\n            'v': 55,\n            'f': \"55\",\n        },\n\"\\ud83e\\udd74\",\n\"woozy face\",\n\"woozy face\",\n\"{\\\"Anger\\\": 0.0, \\\"Anticipation\\\": 0.0, \\\"Disgust\\\": 0.0, \\\"Fear\\\": 0.0, \\\"Joy\\\": 0.0, \\\"Sadness\\\": 0.0, \\\"Surprise\\\": 0.0, \\\"Trust\\\": 0.0}\"],\n [{\n            'v': 56,\n            'f': \"56\",\n        },\n\"\\ud83d\\ude35\",\n\"knocked-out face\",\n\"knock face\",\n\"{\\\"Anger\\\": 0.0, \\\"Anticipation\\\": 0.0, \\\"Disgust\\\": 0.0, \\\"Fear\\\": 0.0, \\\"Joy\\\": 0.0, \\\"Sadness\\\": 0.0, \\\"Surprise\\\": 0.0, \\\"Trust\\\": 0.0}\"],\n [{\n            'v': 57,\n            'f': \"57\",\n        },\n\"\\ud83d\\ude35\\u200d\\ud83d\\udcab\",\n\"\\u229b face with spiral eyes\",\n\"face spiral eye\",\n\"{\\\"Anger\\\": 0.0, \\\"Anticipation\\\": 0.0, \\\"Disgust\\\": 0.0, \\\"Fear\\\": 0.0, \\\"Joy\\\": 0.0, \\\"Sadness\\\": 0.0, \\\"Surprise\\\": 0.0, \\\"Trust\\\": 0.0}\"],\n [{\n            'v': 58,\n            'f': \"58\",\n        },\n\"\\ud83e\\udd2f\",\n\"exploding head\",\n\"explode head\",\n\"{\\\"Anger\\\": 0.0625, \\\"Anticipation\\\": 0.0, \\\"Disgust\\\": 0.0, \\\"Fear\\\": 0.05555555555555555, \\\"Joy\\\": 0.0, \\\"Sadness\\\": 0.043478260869565216, \\\"Surprise\\\": 0.023809523809523808, \\\"Trust\\\": 0.0}\"],\n [{\n            'v': 59,\n            'f': \"59\",\n        },\n\"\\ud83e\\udd20\",\n\"cowboy hat face\",\n\"cowboy hat face\",\n\"{\\\"Anger\\\": 0.0625, \\\"Anticipation\\\": 0.0, \\\"Disgust\\\": 0.0, \\\"Fear\\\": 0.0, \\\"Joy\\\": 0.0, \\\"Sadness\\\": 0.0, \\\"Surprise\\\": 0.0, \\\"Trust\\\": 0.0}\"],\n [{\n            'v': 60,\n            'f': \"60\",\n        },\n\"\\ud83e\\udd73\",\n\"partying face\",\n\"party face\",\n\"{\\\"Anger\\\": 0.0, \\\"Anticipation\\\": 0.0, \\\"Disgust\\\": 0.0, \\\"Fear\\\": 0.0, \\\"Joy\\\": 0.0, \\\"Sadness\\\": 0.0, \\\"Surprise\\\": 0.0, \\\"Trust\\\": 0.0}\"],\n [{\n            'v': 61,\n            'f': \"61\",\n        },\n\"\\ud83e\\udd78\",\n\"disguised face\",\n\"disguise face\",\n\"{\\\"Anger\\\": 0.0, \\\"Anticipation\\\": 0.0, \\\"Disgust\\\": 0.0, \\\"Fear\\\": 0.0, \\\"Joy\\\": 0.0, \\\"Sadness\\\": 0.0, \\\"Surprise\\\": 0.0, \\\"Trust\\\": 0.0}\"],\n [{\n            'v': 62,\n            'f': \"62\",\n        },\n\"\\ud83d\\ude0e\",\n\"smiling face with sunglasses\",\n\"smile face sunglass\",\n\"{\\\"Anger\\\": 0.0, \\\"Anticipation\\\": 0.0, \\\"Disgust\\\": 0.0, \\\"Fear\\\": 0.0, \\\"Joy\\\": 0.03571428571428571, \\\"Sadness\\\": 0.0, \\\"Surprise\\\": 0.023809523809523808, \\\"Trust\\\": 0.03225806451612903}\"],\n [{\n            'v': 63,\n            'f': \"63\",\n        },\n\"\\ud83e\\udd13\",\n\"nerd face\",\n\"nerd face\",\n\"{\\\"Anger\\\": 0.0, \\\"Anticipation\\\": 0.0, \\\"Disgust\\\": 0.0, \\\"Fear\\\": 0.0, \\\"Joy\\\": 0.0, \\\"Sadness\\\": 0.0, \\\"Surprise\\\": 0.0, \\\"Trust\\\": 0.0}\"],\n [{\n            'v': 64,\n            'f': \"64\",\n        },\n\"\\ud83e\\uddd0\",\n\"face with monocle\",\n\"face monocle\",\n\"{\\\"Anger\\\": 0.0, \\\"Anticipation\\\": 0.0, \\\"Disgust\\\": 0.0, \\\"Fear\\\": 0.0, \\\"Joy\\\": 0.0, \\\"Sadness\\\": 0.0, \\\"Surprise\\\": 0.0, \\\"Trust\\\": 0.0}\"],\n [{\n            'v': 65,\n            'f': \"65\",\n        },\n\"\\ud83d\\ude15\",\n\"confused face\",\n\"confuse face\",\n\"{\\\"Anger\\\": 0.0, \\\"Anticipation\\\": 0.0, \\\"Disgust\\\": 0.0, \\\"Fear\\\": 0.0, \\\"Joy\\\": 0.0, \\\"Sadness\\\": 0.0, \\\"Surprise\\\": 0.0, \\\"Trust\\\": 0.0}\"],\n [{\n            'v': 66,\n            'f': \"66\",\n        },\n\"\\ud83d\\ude1f\",\n\"worried face\",\n\"worried face\",\n\"{\\\"Anger\\\": 0.0, \\\"Anticipation\\\": 0.0, \\\"Disgust\\\": 0.0, \\\"Fear\\\": 0.0, \\\"Joy\\\": 0.0, \\\"Sadness\\\": 0.043478260869565216, \\\"Surprise\\\": 0.0, \\\"Trust\\\": 0.0}\"],\n [{\n            'v': 67,\n            'f': \"67\",\n        },\n\"\\ud83d\\ude41\",\n\"slightly frowning face\",\n\"slightly frown face\",\n\"{\\\"Anger\\\": 0.0625, \\\"Anticipation\\\": 0.0, \\\"Disgust\\\": 0.05, \\\"Fear\\\": 0.0, \\\"Joy\\\": 0.0, \\\"Sadness\\\": 0.08695652173913043, \\\"Surprise\\\": 0.0, \\\"Trust\\\": 0.0}\"],\n [{\n            'v': 68,\n            'f': \"68\",\n        },\n\"\\u2639\",\n\"frowning face\",\n\"frown face\",\n\"{\\\"Anger\\\": 0.0625, \\\"Anticipation\\\": 0.0, \\\"Disgust\\\": 0.05, \\\"Fear\\\": 0.0, \\\"Joy\\\": 0.0, \\\"Sadness\\\": 0.08695652173913043, \\\"Surprise\\\": 0.0, \\\"Trust\\\": 0.0}\"],\n [{\n            'v': 69,\n            'f': \"69\",\n        },\n\"\\ud83d\\ude2e\",\n\"face with open mouth\",\n\"face open mouth\",\n\"{\\\"Anger\\\": 0.0, \\\"Anticipation\\\": 0.0, \\\"Disgust\\\": 0.0, \\\"Fear\\\": 0.0, \\\"Joy\\\": 0.0, \\\"Sadness\\\": 0.0, \\\"Surprise\\\": 0.023809523809523808, \\\"Trust\\\": 0.0}\"],\n [{\n            'v': 70,\n            'f': \"70\",\n        },\n\"\\ud83d\\ude2f\",\n\"hushed face\",\n\"hush face\",\n\"{\\\"Anger\\\": 0.0, \\\"Anticipation\\\": 0.0, \\\"Disgust\\\": 0.0, \\\"Fear\\\": 0.0, \\\"Joy\\\": 0.0, \\\"Sadness\\\": 0.0, \\\"Surprise\\\": 0.0, \\\"Trust\\\": 0.0}\"],\n [{\n            'v': 71,\n            'f': \"71\",\n        },\n\"\\ud83d\\ude32\",\n\"astonished face\",\n\"astonish face\",\n\"{\\\"Anger\\\": 0.0, \\\"Anticipation\\\": 0.0, \\\"Disgust\\\": 0.0, \\\"Fear\\\": 0.0, \\\"Joy\\\": 0.0, \\\"Sadness\\\": 0.0, \\\"Surprise\\\": 0.0, \\\"Trust\\\": 0.0}\"],\n [{\n            'v': 72,\n            'f': \"72\",\n        },\n\"\\ud83d\\ude33\",\n\"flushed face\",\n\"flush face\",\n\"{\\\"Anger\\\": 0.0, \\\"Anticipation\\\": 0.0, \\\"Disgust\\\": 0.0, \\\"Fear\\\": 0.0, \\\"Joy\\\": 0.0, \\\"Sadness\\\": 0.0, \\\"Surprise\\\": 0.0, \\\"Trust\\\": 0.0}\"],\n [{\n            'v': 73,\n            'f': \"73\",\n        },\n\"\\ud83e\\udd7a\",\n\"pleading face\",\n\"plead face\",\n\"{\\\"Anger\\\": 0.0, \\\"Anticipation\\\": 0.0, \\\"Disgust\\\": 0.0, \\\"Fear\\\": 0.0, \\\"Joy\\\": 0.0, \\\"Sadness\\\": 0.0, \\\"Surprise\\\": 0.0, \\\"Trust\\\": 0.0}\"],\n [{\n            'v': 74,\n            'f': \"74\",\n        },\n\"\\ud83d\\ude26\",\n\"frowning face with open mouth\",\n\"frown face open mouth\",\n\"{\\\"Anger\\\": 0.0625, \\\"Anticipation\\\": 0.0, \\\"Disgust\\\": 0.05, \\\"Fear\\\": 0.0, \\\"Joy\\\": 0.0, \\\"Sadness\\\": 0.08695652173913043, \\\"Surprise\\\": 0.023809523809523808, \\\"Trust\\\": 0.0}\"],\n [{\n            'v': 75,\n            'f': \"75\",\n        },\n\"\\ud83d\\ude27\",\n\"anguished face\",\n\"anguish face\",\n\"{\\\"Anger\\\": 0.0625, \\\"Anticipation\\\": 0.0, \\\"Disgust\\\": 0.0, \\\"Fear\\\": 0.05555555555555555, \\\"Joy\\\": 0.0, \\\"Sadness\\\": 0.043478260869565216, \\\"Surprise\\\": 0.0, \\\"Trust\\\": 0.0}\"],\n [{\n            'v': 76,\n            'f': \"76\",\n        },\n\"\\ud83d\\ude28\",\n\"fearful face\",\n\"fearful face\",\n\"{\\\"Anger\\\": 0.0, \\\"Anticipation\\\": 0.0, \\\"Disgust\\\": 0.0, \\\"Fear\\\": 0.05555555555555555, \\\"Joy\\\": 0.0, \\\"Sadness\\\": 0.043478260869565216, \\\"Surprise\\\": 0.0, \\\"Trust\\\": 0.0}\"],\n [{\n            'v': 77,\n            'f': \"77\",\n        },\n\"\\ud83d\\ude30\",\n\"anxious face with sweat\",\n\"anxious face sweat\",\n\"{\\\"Anger\\\": 0.0, \\\"Anticipation\\\": 0.05, \\\"Disgust\\\": 0.0, \\\"Fear\\\": 0.1111111111111111, \\\"Joy\\\": 0.0, \\\"Sadness\\\": 0.0, \\\"Surprise\\\": 0.0, \\\"Trust\\\": 0.0}\"],\n [{\n            'v': 78,\n            'f': \"78\",\n        },\n\"\\ud83d\\ude25\",\n\"sad but relieved face\",\n\"sad relieve face\",\n\"{\\\"Anger\\\": 0.0, \\\"Anticipation\\\": 0.0, \\\"Disgust\\\": 0.0, \\\"Fear\\\": 0.0, \\\"Joy\\\": 0.0, \\\"Sadness\\\": 0.0, \\\"Surprise\\\": 0.0, \\\"Trust\\\": 0.0}\"],\n [{\n            'v': 79,\n            'f': \"79\",\n        },\n\"\\ud83d\\ude22\",\n\"crying face\",\n\"cry face\",\n\"{\\\"Anger\\\": 0.0, \\\"Anticipation\\\": 0.0, \\\"Disgust\\\": 0.0, \\\"Fear\\\": 0.0, \\\"Joy\\\": 0.0, \\\"Sadness\\\": 0.08695652173913043, \\\"Surprise\\\": 0.0, \\\"Trust\\\": 0.0}\"],\n [{\n            'v': 80,\n            'f': \"80\",\n        },\n\"\\ud83d\\ude2d\",\n\"loudly crying face\",\n\"loudly cry face\",\n\"{\\\"Anger\\\": 0.0, \\\"Anticipation\\\": 0.0, \\\"Disgust\\\": 0.0, \\\"Fear\\\": 0.0, \\\"Joy\\\": 0.0, \\\"Sadness\\\": 0.08695652173913043, \\\"Surprise\\\": 0.0, \\\"Trust\\\": 0.0}\"],\n [{\n            'v': 81,\n            'f': \"81\",\n        },\n\"\\ud83d\\ude31\",\n\"face screaming in fear\",\n\"face scream fear\",\n\"{\\\"Anger\\\": 0.1875, \\\"Anticipation\\\": 0.0, \\\"Disgust\\\": 0.1, \\\"Fear\\\": 0.2222222222222222, \\\"Joy\\\": 0.0, \\\"Sadness\\\": 0.0, \\\"Surprise\\\": 0.023809523809523808, \\\"Trust\\\": 0.0}\"],\n [{\n            'v': 82,\n            'f': \"82\",\n        },\n\"\\ud83d\\ude16\",\n\"confounded face\",\n\"confound face\",\n\"{\\\"Anger\\\": 0.0, \\\"Anticipation\\\": 0.0, \\\"Disgust\\\": 0.0, \\\"Fear\\\": 0.0, \\\"Joy\\\": 0.0, \\\"Sadness\\\": 0.0, \\\"Surprise\\\": 0.0, \\\"Trust\\\": 0.0}\"],\n [{\n            'v': 83,\n            'f': \"83\",\n        },\n\"\\ud83d\\ude23\",\n\"persevering face\",\n\"persevere face\",\n\"{\\\"Anger\\\": 0.0, \\\"Anticipation\\\": 0.0, \\\"Disgust\\\": 0.0, \\\"Fear\\\": 0.0, \\\"Joy\\\": 0.0, \\\"Sadness\\\": 0.0, \\\"Surprise\\\": 0.0, \\\"Trust\\\": 0.0}\"],\n [{\n            'v': 84,\n            'f': \"84\",\n        },\n\"\\ud83d\\ude1e\",\n\"disappointed face\",\n\"disappointed face\",\n\"{\\\"Anger\\\": 0.0625, \\\"Anticipation\\\": 0.0, \\\"Disgust\\\": 0.05, \\\"Fear\\\": 0.0, \\\"Joy\\\": 0.0, \\\"Sadness\\\": 0.043478260869565216, \\\"Surprise\\\": 0.0, \\\"Trust\\\": 0.0}\"],\n [{\n            'v': 85,\n            'f': \"85\",\n        },\n\"\\ud83d\\ude13\",\n\"downcast face with sweat\",\n\"downcast face sweat\",\n\"{\\\"Anger\\\": 0.0, \\\"Anticipation\\\": 0.0, \\\"Disgust\\\": 0.0, \\\"Fear\\\": 0.05555555555555555, \\\"Joy\\\": 0.0, \\\"Sadness\\\": 0.0, \\\"Surprise\\\": 0.0, \\\"Trust\\\": 0.0}\"],\n [{\n            'v': 86,\n            'f': \"86\",\n        },\n\"\\ud83d\\ude29\",\n\"weary face\",\n\"weary face\",\n\"{\\\"Anger\\\": 0.0, \\\"Anticipation\\\": 0.0, \\\"Disgust\\\": 0.0, \\\"Fear\\\": 0.0, \\\"Joy\\\": 0.0, \\\"Sadness\\\": 0.043478260869565216, \\\"Surprise\\\": 0.0, \\\"Trust\\\": 0.0}\"],\n [{\n            'v': 87,\n            'f': \"87\",\n        },\n\"\\ud83d\\ude2b\",\n\"tired face\",\n\"tire face\",\n\"{\\\"Anger\\\": 0.0, \\\"Anticipation\\\": 0.0, \\\"Disgust\\\": 0.0, \\\"Fear\\\": 0.0, \\\"Joy\\\": 0.0, \\\"Sadness\\\": 0.0, \\\"Surprise\\\": 0.0, \\\"Trust\\\": 0.0}\"],\n [{\n            'v': 88,\n            'f': \"88\",\n        },\n\"\\ud83e\\udd71\",\n\"yawning face\",\n\"yawn face\",\n\"{\\\"Anger\\\": 0.0, \\\"Anticipation\\\": 0.0, \\\"Disgust\\\": 0.0, \\\"Fear\\\": 0.0, \\\"Joy\\\": 0.0, \\\"Sadness\\\": 0.0, \\\"Surprise\\\": 0.0, \\\"Trust\\\": 0.0}\"],\n [{\n            'v': 89,\n            'f': \"89\",\n        },\n\"\\ud83d\\ude24\",\n\"face with steam from nose\",\n\"face steam nose\",\n\"{\\\"Anger\\\": 0.0, \\\"Anticipation\\\": 0.0, \\\"Disgust\\\": 0.05, \\\"Fear\\\": 0.0, \\\"Joy\\\": 0.0, \\\"Sadness\\\": 0.0, \\\"Surprise\\\": 0.0, \\\"Trust\\\": 0.0}\"],\n [{\n            'v': 90,\n            'f': \"90\",\n        },\n\"\\ud83d\\ude21\",\n\"pouting face\",\n\"pout face\",\n\"{\\\"Anger\\\": 0.0, \\\"Anticipation\\\": 0.0, \\\"Disgust\\\": 0.0, \\\"Fear\\\": 0.0, \\\"Joy\\\": 0.0, \\\"Sadness\\\": 0.0, \\\"Surprise\\\": 0.0, \\\"Trust\\\": 0.0}\"],\n [{\n            'v': 91,\n            'f': \"91\",\n        },\n\"\\ud83d\\ude20\",\n\"angry face\",\n\"angry face\",\n\"{\\\"Anger\\\": 0.0625, \\\"Anticipation\\\": 0.0, \\\"Disgust\\\": 0.05, \\\"Fear\\\": 0.0, \\\"Joy\\\": 0.0, \\\"Sadness\\\": 0.0, \\\"Surprise\\\": 0.0, \\\"Trust\\\": 0.0}\"],\n [{\n            'v': 92,\n            'f': \"92\",\n        },\n\"\\ud83e\\udd2c\",\n\"face with symbols on mouth\",\n\"face symbol mouth\",\n\"{\\\"Anger\\\": 0.0, \\\"Anticipation\\\": 0.0, \\\"Disgust\\\": 0.0, \\\"Fear\\\": 0.0, \\\"Joy\\\": 0.0, \\\"Sadness\\\": 0.0, \\\"Surprise\\\": 0.023809523809523808, \\\"Trust\\\": 0.0}\"],\n [{\n            'v': 93,\n            'f': \"93\",\n        },\n\"\\ud83d\\ude08\",\n\"smiling face with horns\",\n\"smile face horn\",\n\"{\\\"Anger\\\": 0.0, \\\"Anticipation\\\": 0.0, \\\"Disgust\\\": 0.0, \\\"Fear\\\": 0.0, \\\"Joy\\\": 0.03571428571428571, \\\"Sadness\\\": 0.0, \\\"Surprise\\\": 0.023809523809523808, \\\"Trust\\\": 0.03225806451612903}\"],\n [{\n            'v': 94,\n            'f': \"94\",\n        },\n\"\\ud83d\\udc7f\",\n\"angry face with horns\",\n\"angry face horn\",\n\"{\\\"Anger\\\": 0.0625, \\\"Anticipation\\\": 0.0, \\\"Disgust\\\": 0.05, \\\"Fear\\\": 0.0, \\\"Joy\\\": 0.0, \\\"Sadness\\\": 0.0, \\\"Surprise\\\": 0.0, \\\"Trust\\\": 0.0}\"],\n [{\n            'v': 95,\n            'f': \"95\",\n        },\n\"\\ud83d\\udc80\",\n\"skull\",\n\"skull\",\n\"{\\\"Anger\\\": 0.0, \\\"Anticipation\\\": 0.0, \\\"Disgust\\\": 0.0, \\\"Fear\\\": 0.0, \\\"Joy\\\": 0.0, \\\"Sadness\\\": 0.0, \\\"Surprise\\\": 0.0, \\\"Trust\\\": 0.0}\"],\n [{\n            'v': 96,\n            'f': \"96\",\n        },\n\"\\u2620\",\n\"skull and crossbones\",\n\"skull crossbones\",\n\"{\\\"Anger\\\": 0.0, \\\"Anticipation\\\": 0.0, \\\"Disgust\\\": 0.0, \\\"Fear\\\": 0.0, \\\"Joy\\\": 0.0, \\\"Sadness\\\": 0.0, \\\"Surprise\\\": 0.0, \\\"Trust\\\": 0.0}\"],\n [{\n            'v': 97,\n            'f': \"97\",\n        },\n\"\\ud83d\\udca9\",\n\"pile of poo\",\n\"pile poo\",\n\"{\\\"Anger\\\": 0.0, \\\"Anticipation\\\": 0.0, \\\"Disgust\\\": 0.05, \\\"Fear\\\": 0.0, \\\"Joy\\\": 0.0, \\\"Sadness\\\": 0.0, \\\"Surprise\\\": 0.0, \\\"Trust\\\": 0.0}\"],\n [{\n            'v': 98,\n            'f': \"98\",\n        },\n\"\\ud83e\\udd21\",\n\"clown face\",\n\"clown face\",\n\"{\\\"Anger\\\": 0.0, \\\"Anticipation\\\": 0.05, \\\"Disgust\\\": 0.0, \\\"Fear\\\": 0.0, \\\"Joy\\\": 0.017857142857142856, \\\"Sadness\\\": 0.0, \\\"Surprise\\\": 0.023809523809523808, \\\"Trust\\\": 0.0}\"]],\n        columns: [[\"number\", \"index\"], [\"string\", \"emoji\"], [\"string\", \"name\"], [\"string\", \"clean_post_text\"], [\"string\", \"emotional_scores\"]],\n        columnOptions: [{\"width\": \"1px\", \"className\": \"index_column\"}],\n        rowsPerPage: 25,\n        helpUrl: \"https://colab.research.google.com/notebooks/data_table.ipynb\",\n        suppressOutputScrolling: true,\n        minimumWidth: undefined,\n      });\n\n      function appendQuickchartButton(parentElement) {\n        let quickchartButtonContainerElement = document.createElement('div');\n        quickchartButtonContainerElement.innerHTML = `\n<div id=\"df-529f287f-c85f-41ea-ab28-b3ccf917fcf4\">\n  <button class=\"colab-df-quickchart\" onclick=\"quickchart('df-529f287f-c85f-41ea-ab28-b3ccf917fcf4')\"\n            title=\"Suggest charts\"\n            style=\"display:none;\">\n    \n<svg xmlns=\"http://www.w3.org/2000/svg\" height=\"24px\"viewBox=\"0 0 24 24\"\n     width=\"24px\">\n    <g>\n        <path d=\"M19 3H5c-1.1 0-2 .9-2 2v14c0 1.1.9 2 2 2h14c1.1 0 2-.9 2-2V5c0-1.1-.9-2-2-2zM9 17H7v-7h2v7zm4 0h-2V7h2v10zm4 0h-2v-4h2v4z\"/>\n    </g>\n</svg>\n  </button>\n  \n<style>\n  .colab-df-quickchart {\n      --bg-color: #E8F0FE;\n      --fill-color: #1967D2;\n      --hover-bg-color: #E2EBFA;\n      --hover-fill-color: #174EA6;\n      --disabled-fill-color: #AAA;\n      --disabled-bg-color: #DDD;\n  }\n\n  [theme=dark] .colab-df-quickchart {\n      --bg-color: #3B4455;\n      --fill-color: #D2E3FC;\n      --hover-bg-color: #434B5C;\n      --hover-fill-color: #FFFFFF;\n      --disabled-bg-color: #3B4455;\n      --disabled-fill-color: #666;\n  }\n\n  .colab-df-quickchart {\n    background-color: var(--bg-color);\n    border: none;\n    border-radius: 50%;\n    cursor: pointer;\n    display: none;\n    fill: var(--fill-color);\n    height: 32px;\n    padding: 0;\n    width: 32px;\n  }\n\n  .colab-df-quickchart:hover {\n    background-color: var(--hover-bg-color);\n    box-shadow: 0 1px 2px rgba(60, 64, 67, 0.3), 0 1px 3px 1px rgba(60, 64, 67, 0.15);\n    fill: var(--button-hover-fill-color);\n  }\n\n  .colab-df-quickchart-complete:disabled,\n  .colab-df-quickchart-complete:disabled:hover {\n    background-color: var(--disabled-bg-color);\n    fill: var(--disabled-fill-color);\n    box-shadow: none;\n  }\n\n  .colab-df-spinner {\n    border: 2px solid var(--fill-color);\n    border-color: transparent;\n    border-bottom-color: var(--fill-color);\n    animation:\n      spin 1s steps(1) infinite;\n  }\n\n  @keyframes spin {\n    0% {\n      border-color: transparent;\n      border-bottom-color: var(--fill-color);\n      border-left-color: var(--fill-color);\n    }\n    20% {\n      border-color: transparent;\n      border-left-color: var(--fill-color);\n      border-top-color: var(--fill-color);\n    }\n    30% {\n      border-color: transparent;\n      border-left-color: var(--fill-color);\n      border-top-color: var(--fill-color);\n      border-right-color: var(--fill-color);\n    }\n    40% {\n      border-color: transparent;\n      border-right-color: var(--fill-color);\n      border-top-color: var(--fill-color);\n    }\n    60% {\n      border-color: transparent;\n      border-right-color: var(--fill-color);\n    }\n    80% {\n      border-color: transparent;\n      border-right-color: var(--fill-color);\n      border-bottom-color: var(--fill-color);\n    }\n    90% {\n      border-color: transparent;\n      border-bottom-color: var(--fill-color);\n    }\n  }\n</style>\n\n  <script>\n    async function quickchart(key) {\n      const quickchartButtonEl =\n        document.querySelector('#' + key + ' button');\n      quickchartButtonEl.disabled = true;  // To prevent multiple clicks.\n      quickchartButtonEl.classList.add('colab-df-spinner');\n      try {\n        const charts = await google.colab.kernel.invokeFunction(\n            'suggestCharts', [key], {});\n      } catch (error) {\n        console.error('Error during call to suggestCharts:', error);\n      }\n      quickchartButtonEl.classList.remove('colab-df-spinner');\n      quickchartButtonEl.classList.add('colab-df-quickchart-complete');\n    }\n    (() => {\n      let quickchartButtonEl =\n        document.querySelector('#df-529f287f-c85f-41ea-ab28-b3ccf917fcf4 button');\n      quickchartButtonEl.style.display =\n        google.colab.kernel.accessAllowed ? 'block' : 'none';\n    })();\n  </script>\n</div>`;\n        parentElement.appendChild(quickchartButtonContainerElement);\n      }\n\n      appendQuickchartButton(table);\n    "
          },
          "metadata": {},
          "execution_count": 21
        }
      ]
    },
    {
      "cell_type": "code",
      "execution_count": null,
      "metadata": {
        "colab": {
          "base_uri": "https://localhost:8080/",
          "height": 17
        },
        "id": "e2r0G5JtMChd",
        "outputId": "d4e2a2d5-6f9e-4b96-cbfe-885b19fe50ed"
      },
      "outputs": [
        {
          "output_type": "display_data",
          "data": {
            "text/plain": [
              "<IPython.core.display.HTML object>"
            ],
            "text/html": [
              "\n",
              "  <style>\n",
              "    pre {white-space: pre-wrap;\n",
              "    }\n",
              "  </style>\n",
              "  "
            ]
          },
          "metadata": {}
        },
        {
          "output_type": "display_data",
          "data": {
            "text/plain": [
              "<IPython.core.display.HTML object>"
            ],
            "text/html": [
              "\n",
              "  <style>\n",
              "    pre {\n",
              "        white-space: pre-wrap;\n",
              "    }\n",
              "  </style>\n",
              "  "
            ]
          },
          "metadata": {}
        },
        {
          "output_type": "display_data",
          "data": {
            "text/plain": [
              "<IPython.core.display.HTML object>"
            ],
            "text/html": [
              "\n",
              "  <style>\n",
              "    pre {white-space: pre-wrap;\n",
              "    }\n",
              "  </style>\n",
              "  "
            ]
          },
          "metadata": {}
        },
        {
          "output_type": "display_data",
          "data": {
            "text/plain": [
              "<IPython.core.display.HTML object>"
            ],
            "text/html": [
              "\n",
              "  <style>\n",
              "    pre {\n",
              "        white-space: pre-wrap;\n",
              "    }\n",
              "  </style>\n",
              "  "
            ]
          },
          "metadata": {}
        }
      ],
      "source": [
        "def format_emojis(emojis):\n",
        "    return \"\".join(emojis.split(\",\")) if isinstance(emojis, str) else \"\""
      ]
    },
    {
      "cell_type": "code",
      "execution_count": null,
      "metadata": {
        "colab": {
          "base_uri": "https://localhost:8080/",
          "height": 17
        },
        "id": "UJNGcAatKaR-",
        "outputId": "66d14651-4249-45b7-9df3-7f906eff8d50"
      },
      "outputs": [
        {
          "output_type": "display_data",
          "data": {
            "text/plain": [
              "<IPython.core.display.HTML object>"
            ],
            "text/html": [
              "\n",
              "  <style>\n",
              "    pre {white-space: pre-wrap;\n",
              "    }\n",
              "  </style>\n",
              "  "
            ]
          },
          "metadata": {}
        },
        {
          "output_type": "display_data",
          "data": {
            "text/plain": [
              "<IPython.core.display.HTML object>"
            ],
            "text/html": [
              "\n",
              "  <style>\n",
              "    pre {\n",
              "        white-space: pre-wrap;\n",
              "    }\n",
              "  </style>\n",
              "  "
            ]
          },
          "metadata": {}
        },
        {
          "output_type": "display_data",
          "data": {
            "text/plain": [
              "<IPython.core.display.HTML object>"
            ],
            "text/html": [
              "\n",
              "  <style>\n",
              "    pre {white-space: pre-wrap;\n",
              "    }\n",
              "  </style>\n",
              "  "
            ]
          },
          "metadata": {}
        },
        {
          "output_type": "display_data",
          "data": {
            "text/plain": [
              "<IPython.core.display.HTML object>"
            ],
            "text/html": [
              "\n",
              "  <style>\n",
              "    pre {\n",
              "        white-space: pre-wrap;\n",
              "    }\n",
              "  </style>\n",
              "  "
            ]
          },
          "metadata": {}
        }
      ],
      "source": [
        "def format_emojis(emojis):\n",
        "    return \"\".join(emojis.split(\",\")) if isinstance(emojis, str) else \"\""
      ]
    },
    {
      "cell_type": "code",
      "execution_count": null,
      "metadata": {
        "colab": {
          "base_uri": "https://localhost:8080/",
          "height": 486
        },
        "id": "iroBHdPy-uXR",
        "outputId": "6f90865e-397a-4f6c-edd9-edf2ad36d9e5"
      },
      "outputs": [
        {
          "output_type": "display_data",
          "data": {
            "text/plain": [
              "<IPython.core.display.HTML object>"
            ],
            "text/html": [
              "\n",
              "  <style>\n",
              "    pre {white-space: pre-wrap;\n",
              "    }\n",
              "  </style>\n",
              "  "
            ]
          },
          "metadata": {}
        },
        {
          "output_type": "display_data",
          "data": {
            "text/plain": [
              "<IPython.core.display.HTML object>"
            ],
            "text/html": [
              "\n",
              "  <style>\n",
              "    pre {\n",
              "        white-space: pre-wrap;\n",
              "    }\n",
              "  </style>\n",
              "  "
            ]
          },
          "metadata": {}
        },
        {
          "output_type": "display_data",
          "data": {
            "text/plain": [
              "<IPython.core.display.HTML object>"
            ],
            "text/html": [
              "\n",
              "  <style>\n",
              "    pre {white-space: pre-wrap;\n",
              "    }\n",
              "  </style>\n",
              "  "
            ]
          },
          "metadata": {}
        },
        {
          "output_type": "display_data",
          "data": {
            "text/plain": [
              "<IPython.core.display.HTML object>"
            ],
            "text/html": [
              "\n",
              "  <style>\n",
              "    pre {\n",
              "        white-space: pre-wrap;\n",
              "    }\n",
              "  </style>\n",
              "  "
            ]
          },
          "metadata": {}
        },
        {
          "output_type": "stream",
          "name": "stdout",
          "text": [
            "   emoji                             name      clean_post_text   Anger  \\\n",
            "0      😀                    grinning face            grin face  0.0000   \n",
            "1      😃      grinning face with big eyes    grin face big eye  0.0000   \n",
            "2      😄  grinning face with smiling eyes  grin face smile eye  0.0000   \n",
            "3      😁   beaming face with smiling eyes  beam face smile eye  0.0000   \n",
            "4      😆          grinning squinting face     grin squint face  0.0000   \n",
            "..   ...                              ...                  ...     ...   \n",
            "94     👿            angry face with horns      angry face horn  0.0625   \n",
            "95     💀                            skull                skull  0.0000   \n",
            "96     ☠             skull and crossbones     skull crossbones  0.0000   \n",
            "97     💩                      pile of poo             pile poo  0.0000   \n",
            "98     🤡                       clown face           clown face  0.0000   \n",
            "\n",
            "    Anticipation  Disgust  Fear       Joy  Sadness  Surprise     Trust  \n",
            "0           0.05     0.00   0.0  0.017857      0.0  0.023810  0.032258  \n",
            "1           0.05     0.00   0.0  0.017857      0.0  0.023810  0.032258  \n",
            "2           0.05     0.00   0.0  0.053571      0.0  0.047619  0.064516  \n",
            "3           0.05     0.00   0.0  0.071429      0.0  0.023810  0.032258  \n",
            "4           0.05     0.00   0.0  0.017857      0.0  0.023810  0.032258  \n",
            "..           ...      ...   ...       ...      ...       ...       ...  \n",
            "94          0.00     0.05   0.0  0.000000      0.0  0.000000  0.000000  \n",
            "95          0.00     0.00   0.0  0.000000      0.0  0.000000  0.000000  \n",
            "96          0.00     0.00   0.0  0.000000      0.0  0.000000  0.000000  \n",
            "97          0.00     0.05   0.0  0.000000      0.0  0.000000  0.000000  \n",
            "98          0.05     0.00   0.0  0.017857      0.0  0.023810  0.000000  \n",
            "\n",
            "[99 rows x 11 columns]\n"
          ]
        }
      ],
      "source": [
        "import json\n",
        "\n",
        "# Check if 'emotional_scores' contains strings and convert them to dictionaries\n",
        "def safe_convert_to_dict(value):\n",
        "    if isinstance(value, str):\n",
        "        try:\n",
        "            return json.loads(value)  # Parse string to dictionary\n",
        "        except json.JSONDecodeError:\n",
        "            raise ValueError(\"Unable to convert to dictionary\")\n",
        "    elif isinstance(value, dict):\n",
        "        return value\n",
        "    else:\n",
        "        raise TypeError(\"Unexpected data type\")\n",
        "\n",
        "# Apply conversion to 'emotional_scores'\n",
        "emojis['emotional_scores'] = emojis['emotional_scores'].apply(safe_convert_to_dict)\n",
        "\n",
        "\n",
        "\n",
        "# Extract emotional scores into individual columns\n",
        "emotions = [\"Anger\", \"Anticipation\", \"Disgust\", \"Fear\", \"Joy\", \"Sadness\", \"Surprise\", \"Trust\"]\n",
        "\n",
        "# Create new columns for each emotion from the dictionary\n",
        "for emotion in emotions:\n",
        "    emojis[emotion] = emojis['emotional_scores'].apply(lambda x: x.get(emotion, 0))\n",
        "\n",
        "\n",
        "\n",
        "# Drop the original 'emotional_scores' column (optional)\n",
        "emojis.drop(columns=['emotional_scores'], inplace=True)\n",
        "\n",
        "# Check the updated DataFrame\n",
        "print(emojis)"
      ]
    },
    {
      "cell_type": "markdown",
      "metadata": {
        "id": "UjGJ3bi1N_Mh"
      },
      "source": [
        "## PIPELINE"
      ]
    },
    {
      "cell_type": "markdown",
      "metadata": {
        "id": "iwDWY2y2jwAJ"
      },
      "source": [
        "This pipeline encompasses several key stages: **data preprocessing, sentiment analysis, and recommendation generation**.\n",
        "\n",
        "Initially, forum data is cleaned and preprocessed, including text normalization and removal of irrelevant content such as URLs and numeric digits.\n",
        "\n",
        "Next, sentiment analysis techniques, with both lexicon-based and machine learning approaches, are applied to obtain the emotional tone of each post.  \n",
        "\n",
        "Finally, emoji recommendation systems utilize sentiment analysis results to suggest expressive emojis related to the emotional content of each post, enhancing user engagement and communication."
      ]
    },
    {
      "cell_type": "code",
      "execution_count": null,
      "metadata": {
        "colab": {
          "base_uri": "https://localhost:8080/",
          "height": 17
        },
        "id": "xMfPRRLlN-gb",
        "outputId": "a4698bf6-4292-41b0-8e4b-2b9d088ac591"
      },
      "outputs": [
        {
          "output_type": "display_data",
          "data": {
            "text/plain": [
              "<IPython.core.display.HTML object>"
            ],
            "text/html": [
              "\n",
              "  <style>\n",
              "    pre {white-space: pre-wrap;\n",
              "    }\n",
              "  </style>\n",
              "  "
            ]
          },
          "metadata": {}
        },
        {
          "output_type": "display_data",
          "data": {
            "text/plain": [
              "<IPython.core.display.HTML object>"
            ],
            "text/html": [
              "\n",
              "  <style>\n",
              "    pre {\n",
              "        white-space: pre-wrap;\n",
              "    }\n",
              "  </style>\n",
              "  "
            ]
          },
          "metadata": {}
        },
        {
          "output_type": "display_data",
          "data": {
            "text/plain": [
              "<IPython.core.display.HTML object>"
            ],
            "text/html": [
              "\n",
              "  <style>\n",
              "    pre {white-space: pre-wrap;\n",
              "    }\n",
              "  </style>\n",
              "  "
            ]
          },
          "metadata": {}
        },
        {
          "output_type": "display_data",
          "data": {
            "text/plain": [
              "<IPython.core.display.HTML object>"
            ],
            "text/html": [
              "\n",
              "  <style>\n",
              "    pre {\n",
              "        white-space: pre-wrap;\n",
              "    }\n",
              "  </style>\n",
              "  "
            ]
          },
          "metadata": {}
        }
      ],
      "source": [
        "nrc_lexicon_df = pd.read_csv('nrc_lexicon_english_df.csv')"
      ]
    },
    {
      "cell_type": "code",
      "execution_count": null,
      "metadata": {
        "colab": {
          "base_uri": "https://localhost:8080/",
          "height": 17
        },
        "id": "eWShOr7ZHTPR",
        "outputId": "04882773-7d2d-4584-a054-66b364ed663e"
      },
      "outputs": [
        {
          "output_type": "display_data",
          "data": {
            "text/plain": [
              "<IPython.core.display.HTML object>"
            ],
            "text/html": [
              "\n",
              "  <style>\n",
              "    pre {white-space: pre-wrap;\n",
              "    }\n",
              "  </style>\n",
              "  "
            ]
          },
          "metadata": {}
        },
        {
          "output_type": "display_data",
          "data": {
            "text/plain": [
              "<IPython.core.display.HTML object>"
            ],
            "text/html": [
              "\n",
              "  <style>\n",
              "    pre {\n",
              "        white-space: pre-wrap;\n",
              "    }\n",
              "  </style>\n",
              "  "
            ]
          },
          "metadata": {}
        },
        {
          "output_type": "display_data",
          "data": {
            "text/plain": [
              "<IPython.core.display.HTML object>"
            ],
            "text/html": [
              "\n",
              "  <style>\n",
              "    pre {white-space: pre-wrap;\n",
              "    }\n",
              "  </style>\n",
              "  "
            ]
          },
          "metadata": {}
        },
        {
          "output_type": "display_data",
          "data": {
            "text/plain": [
              "<IPython.core.display.HTML object>"
            ],
            "text/html": [
              "\n",
              "  <style>\n",
              "    pre {\n",
              "        white-space: pre-wrap;\n",
              "    }\n",
              "  </style>\n",
              "  "
            ]
          },
          "metadata": {}
        }
      ],
      "source": [
        "# Assuming filename.csv is the CSV file you want to load\n",
        "emojis_faces = pd.read_csv('emojis_faces.csv')"
      ]
    },
    {
      "cell_type": "code",
      "execution_count": null,
      "metadata": {
        "colab": {
          "base_uri": "https://localhost:8080/",
          "height": 17
        },
        "id": "RJK2lXm7HTPR",
        "outputId": "7d6035e7-0c15-4e0b-d124-abca5e5cf80c"
      },
      "outputs": [
        {
          "output_type": "display_data",
          "data": {
            "text/plain": [
              "<IPython.core.display.HTML object>"
            ],
            "text/html": [
              "\n",
              "  <style>\n",
              "    pre {white-space: pre-wrap;\n",
              "    }\n",
              "  </style>\n",
              "  "
            ]
          },
          "metadata": {}
        },
        {
          "output_type": "display_data",
          "data": {
            "text/plain": [
              "<IPython.core.display.HTML object>"
            ],
            "text/html": [
              "\n",
              "  <style>\n",
              "    pre {\n",
              "        white-space: pre-wrap;\n",
              "    }\n",
              "  </style>\n",
              "  "
            ]
          },
          "metadata": {}
        },
        {
          "output_type": "display_data",
          "data": {
            "text/plain": [
              "<IPython.core.display.HTML object>"
            ],
            "text/html": [
              "\n",
              "  <style>\n",
              "    pre {white-space: pre-wrap;\n",
              "    }\n",
              "  </style>\n",
              "  "
            ]
          },
          "metadata": {}
        },
        {
          "output_type": "display_data",
          "data": {
            "text/plain": [
              "<IPython.core.display.HTML object>"
            ],
            "text/html": [
              "\n",
              "  <style>\n",
              "    pre {\n",
              "        white-space: pre-wrap;\n",
              "    }\n",
              "  </style>\n",
              "  "
            ]
          },
          "metadata": {}
        }
      ],
      "source": [
        "# Load TruncatedSVD object\n",
        "svd_loaded = load('svd_model.pkl')\n",
        "\n",
        "# Load the sparse matrix\n",
        "tfidf_sparse_loaded = sparse.load_npz('tfidf_matrix.npz')"
      ]
    },
    {
      "cell_type": "code",
      "execution_count": null,
      "metadata": {
        "colab": {
          "base_uri": "https://localhost:8080/",
          "height": 17
        },
        "id": "7Br_uavwHTPR",
        "outputId": "cbe2dfdb-4d2d-459a-f741-238c694726db"
      },
      "outputs": [
        {
          "output_type": "display_data",
          "data": {
            "text/plain": [
              "<IPython.core.display.HTML object>"
            ],
            "text/html": [
              "\n",
              "  <style>\n",
              "    pre {white-space: pre-wrap;\n",
              "    }\n",
              "  </style>\n",
              "  "
            ]
          },
          "metadata": {}
        },
        {
          "output_type": "display_data",
          "data": {
            "text/plain": [
              "<IPython.core.display.HTML object>"
            ],
            "text/html": [
              "\n",
              "  <style>\n",
              "    pre {\n",
              "        white-space: pre-wrap;\n",
              "    }\n",
              "  </style>\n",
              "  "
            ]
          },
          "metadata": {}
        },
        {
          "output_type": "display_data",
          "data": {
            "text/plain": [
              "<IPython.core.display.HTML object>"
            ],
            "text/html": [
              "\n",
              "  <style>\n",
              "    pre {white-space: pre-wrap;\n",
              "    }\n",
              "  </style>\n",
              "  "
            ]
          },
          "metadata": {}
        },
        {
          "output_type": "display_data",
          "data": {
            "text/plain": [
              "<IPython.core.display.HTML object>"
            ],
            "text/html": [
              "\n",
              "  <style>\n",
              "    pre {\n",
              "        white-space: pre-wrap;\n",
              "    }\n",
              "  </style>\n",
              "  "
            ]
          },
          "metadata": {}
        }
      ],
      "source": [
        "# Load the KMeans model\n",
        "kmeans = joblib.load('best_kmeans_model_15.pkl')"
      ]
    },
    {
      "cell_type": "code",
      "execution_count": null,
      "metadata": {
        "colab": {
          "base_uri": "https://localhost:8080/",
          "height": 17
        },
        "id": "Kbna22Y_Roys",
        "outputId": "32d4124a-8c13-42da-f9b6-66be6502a5c2"
      },
      "outputs": [
        {
          "output_type": "display_data",
          "data": {
            "text/plain": [
              "<IPython.core.display.HTML object>"
            ],
            "text/html": [
              "\n",
              "  <style>\n",
              "    pre {white-space: pre-wrap;\n",
              "    }\n",
              "  </style>\n",
              "  "
            ]
          },
          "metadata": {}
        },
        {
          "output_type": "display_data",
          "data": {
            "text/plain": [
              "<IPython.core.display.HTML object>"
            ],
            "text/html": [
              "\n",
              "  <style>\n",
              "    pre {\n",
              "        white-space: pre-wrap;\n",
              "    }\n",
              "  </style>\n",
              "  "
            ]
          },
          "metadata": {}
        },
        {
          "output_type": "display_data",
          "data": {
            "text/plain": [
              "<IPython.core.display.HTML object>"
            ],
            "text/html": [
              "\n",
              "  <style>\n",
              "    pre {white-space: pre-wrap;\n",
              "    }\n",
              "  </style>\n",
              "  "
            ]
          },
          "metadata": {}
        },
        {
          "output_type": "display_data",
          "data": {
            "text/plain": [
              "<IPython.core.display.HTML object>"
            ],
            "text/html": [
              "\n",
              "  <style>\n",
              "    pre {\n",
              "        white-space: pre-wrap;\n",
              "    }\n",
              "  </style>\n",
              "  "
            ]
          },
          "metadata": {}
        }
      ],
      "source": [
        "input_file_path = \"total_emotions_for_new_text.json\"\n",
        "with open(input_file_path, \"r\") as json_file:\n",
        "    total_emotions_for_new_text = json.load(json_file)"
      ]
    },
    {
      "cell_type": "code",
      "execution_count": null,
      "metadata": {
        "colab": {
          "base_uri": "https://localhost:8080/",
          "height": 17
        },
        "id": "tvp2jJWpNUNT",
        "outputId": "48c89509-ebc9-4d5f-c080-14ad6982dd86"
      },
      "outputs": [
        {
          "output_type": "display_data",
          "data": {
            "text/plain": [
              "<IPython.core.display.HTML object>"
            ],
            "text/html": [
              "\n",
              "  <style>\n",
              "    pre {white-space: pre-wrap;\n",
              "    }\n",
              "  </style>\n",
              "  "
            ]
          },
          "metadata": {}
        },
        {
          "output_type": "display_data",
          "data": {
            "text/plain": [
              "<IPython.core.display.HTML object>"
            ],
            "text/html": [
              "\n",
              "  <style>\n",
              "    pre {\n",
              "        white-space: pre-wrap;\n",
              "    }\n",
              "  </style>\n",
              "  "
            ]
          },
          "metadata": {}
        },
        {
          "output_type": "display_data",
          "data": {
            "text/plain": [
              "<IPython.core.display.HTML object>"
            ],
            "text/html": [
              "\n",
              "  <style>\n",
              "    pre {white-space: pre-wrap;\n",
              "    }\n",
              "  </style>\n",
              "  "
            ]
          },
          "metadata": {}
        },
        {
          "output_type": "display_data",
          "data": {
            "text/plain": [
              "<IPython.core.display.HTML object>"
            ],
            "text/html": [
              "\n",
              "  <style>\n",
              "    pre {\n",
              "        white-space: pre-wrap;\n",
              "    }\n",
              "  </style>\n",
              "  "
            ]
          },
          "metadata": {}
        }
      ],
      "source": [
        "# Define stopwords and lemmatizer\n",
        "stopwords_en = set(stopwords.words('english'))\n",
        "wnl = WordNetLemmatizer()\n",
        "\n",
        "def get_wordnet_pos(word):\n",
        "    \"\"\"Map POS tag to first character lemmatize() accepts\"\"\"\n",
        "    tag = nltk.pos_tag([word])[0][1][0].upper()\n",
        "    tag_dict = {\"J\": nltk.corpus.wordnet.ADJ,\n",
        "                \"N\": nltk.corpus.wordnet.NOUN,\n",
        "                \"V\": nltk.corpus.wordnet.VERB,\n",
        "                \"R\": nltk.corpus.wordnet.ADV}\n",
        "    return tag_dict.get(tag, nltk.corpus.wordnet.NOUN)\n",
        "\n",
        "\n",
        "def clean_text(text):\n",
        "    \"\"\"\n",
        "    Clean and preprocess text data.\n",
        "    \"\"\"\n",
        "\n",
        "    # Make use of BeautifulSoup with the parser \"lxml\" to get rid of all HTML tags\n",
        "    text = BeautifulSoup(text, 'lxml').get_text()\n",
        "\n",
        "    # Use regular expression to remove all URLs in text\n",
        "    text = re.sub(r'https?://\\S+|www\\.\\S+', '', text)\n",
        "\n",
        "    # Expand contractions\n",
        "    text = contractions.fix(text)\n",
        "\n",
        "    # Remove numbers\n",
        "    text = re.sub(r'\\d+', '', text)\n",
        "\n",
        "    # Tokenization\n",
        "    tokens = wordpunct_tokenize(text)\n",
        "\n",
        "    # Homogenization and Lemmatization\n",
        "    clean_tokens = [wnl.lemmatize(token.lower(), get_wordnet_pos(token)) for token in tokens if token.isalnum()]\n",
        "\n",
        "    # Remove stopwords\n",
        "    clean_tokens = [token for token in clean_tokens if token not in stopwords_en]\n",
        "\n",
        "    # Check if word exists in WordNet corpus\n",
        "    clean_tokens = [token for token in clean_tokens if wn.synsets(token)]\n",
        "\n",
        "    # Join tokens back into a string\n",
        "    clean_text = ' '.join(clean_tokens)\n",
        "\n",
        "    return clean_text"
      ]
    },
    {
      "cell_type": "code",
      "execution_count": null,
      "metadata": {
        "colab": {
          "base_uri": "https://localhost:8080/",
          "height": 17
        },
        "id": "GjhP88NDOD95",
        "outputId": "ef1aced8-abd7-417a-8fde-1ea48cf2d5e6"
      },
      "outputs": [
        {
          "output_type": "display_data",
          "data": {
            "text/plain": [
              "<IPython.core.display.HTML object>"
            ],
            "text/html": [
              "\n",
              "  <style>\n",
              "    pre {white-space: pre-wrap;\n",
              "    }\n",
              "  </style>\n",
              "  "
            ]
          },
          "metadata": {}
        },
        {
          "output_type": "display_data",
          "data": {
            "text/plain": [
              "<IPython.core.display.HTML object>"
            ],
            "text/html": [
              "\n",
              "  <style>\n",
              "    pre {\n",
              "        white-space: pre-wrap;\n",
              "    }\n",
              "  </style>\n",
              "  "
            ]
          },
          "metadata": {}
        },
        {
          "output_type": "display_data",
          "data": {
            "text/plain": [
              "<IPython.core.display.HTML object>"
            ],
            "text/html": [
              "\n",
              "  <style>\n",
              "    pre {white-space: pre-wrap;\n",
              "    }\n",
              "  </style>\n",
              "  "
            ]
          },
          "metadata": {}
        },
        {
          "output_type": "display_data",
          "data": {
            "text/plain": [
              "<IPython.core.display.HTML object>"
            ],
            "text/html": [
              "\n",
              "  <style>\n",
              "    pre {\n",
              "        white-space: pre-wrap;\n",
              "    }\n",
              "  </style>\n",
              "  "
            ]
          },
          "metadata": {}
        }
      ],
      "source": [
        "def calculate_emotional_scores(tokens):\n",
        "    # Initialize emotional scores\n",
        "    emotional_scores = {emotion: 0 for emotion in nrc_lexicon_df.columns[1:] if emotion != 'clean_name'}\n",
        "    tokens = wordpunct_tokenize(tokens)\n",
        "\n",
        "    # Calculate emotional scores\n",
        "    for token in tokens:\n",
        "        # Check if the token appears in the 'clean_name' column of the lexicon DataFrame\n",
        "        matched_words = nrc_lexicon_df[nrc_lexicon_df['clean_name'] == token]\n",
        "        if not matched_words.empty:\n",
        "            # Iterate over the matched words and accumulate emotional scores\n",
        "            for _ , word_row in matched_words.iterrows():\n",
        "                for emotion in emotional_scores:\n",
        "                    # Convert the emotion score to numeric type before adding it\n",
        "                    emotion_score = pd.to_numeric(word_row[emotion], errors='coerce')\n",
        "                    if not pd.isnull(emotion_score):\n",
        "                        emotional_scores[emotion] += emotion_score\n",
        "    return emotional_scores"
      ]
    },
    {
      "cell_type": "code",
      "execution_count": null,
      "metadata": {
        "colab": {
          "base_uri": "https://localhost:8080/",
          "height": 17
        },
        "id": "XVkyY6KuOMcH",
        "outputId": "e445e8e7-0cf5-4c4e-fbc1-bffc628a22b3"
      },
      "outputs": [
        {
          "output_type": "display_data",
          "data": {
            "text/plain": [
              "<IPython.core.display.HTML object>"
            ],
            "text/html": [
              "\n",
              "  <style>\n",
              "    pre {white-space: pre-wrap;\n",
              "    }\n",
              "  </style>\n",
              "  "
            ]
          },
          "metadata": {}
        },
        {
          "output_type": "display_data",
          "data": {
            "text/plain": [
              "<IPython.core.display.HTML object>"
            ],
            "text/html": [
              "\n",
              "  <style>\n",
              "    pre {\n",
              "        white-space: pre-wrap;\n",
              "    }\n",
              "  </style>\n",
              "  "
            ]
          },
          "metadata": {}
        },
        {
          "output_type": "display_data",
          "data": {
            "text/plain": [
              "<IPython.core.display.HTML object>"
            ],
            "text/html": [
              "\n",
              "  <style>\n",
              "    pre {white-space: pre-wrap;\n",
              "    }\n",
              "  </style>\n",
              "  "
            ]
          },
          "metadata": {}
        },
        {
          "output_type": "display_data",
          "data": {
            "text/plain": [
              "<IPython.core.display.HTML object>"
            ],
            "text/html": [
              "\n",
              "  <style>\n",
              "    pre {\n",
              "        white-space: pre-wrap;\n",
              "    }\n",
              "  </style>\n",
              "  "
            ]
          },
          "metadata": {}
        }
      ],
      "source": [
        "def scale_emotional_scores(emotional_scores, total_emotions=None):\n",
        "    # Calculate total emotions if not provided\n",
        "    if total_emotions is None:\n",
        "        total_emotions = {emotion: sum(scores[emotion] for scores in emotional_scores) for emotion in emotional_scores[0].keys()}\n",
        "\n",
        "    # Create a new list to store scaled emotional scores\n",
        "    scaled_emotional_scores = []\n",
        "\n",
        "    # Scale each emotion score\n",
        "    for scores in emotional_scores:\n",
        "        scaled_scores = {emotion: scores[emotion] / total_emotions[emotion] for emotion in scores}\n",
        "        scaled_emotional_scores.append(scaled_scores)\n",
        "\n",
        "    return total_emotions, scaled_emotional_scores"
      ]
    },
    {
      "cell_type": "code",
      "execution_count": null,
      "metadata": {
        "colab": {
          "base_uri": "https://localhost:8080/",
          "height": 34
        },
        "id": "mVk3YjQQOQmd",
        "outputId": "1ac41c02-67a1-4d29-f79c-200dac5c959b"
      },
      "outputs": [
        {
          "output_type": "display_data",
          "data": {
            "text/plain": [
              "<IPython.core.display.HTML object>"
            ],
            "text/html": [
              "\n",
              "  <style>\n",
              "    pre {white-space: pre-wrap;\n",
              "    }\n",
              "  </style>\n",
              "  "
            ]
          },
          "metadata": {}
        },
        {
          "output_type": "display_data",
          "data": {
            "text/plain": [
              "<IPython.core.display.HTML object>"
            ],
            "text/html": [
              "\n",
              "  <style>\n",
              "    pre {\n",
              "        white-space: pre-wrap;\n",
              "    }\n",
              "  </style>\n",
              "  "
            ]
          },
          "metadata": {}
        },
        {
          "output_type": "display_data",
          "data": {
            "text/plain": [
              "<IPython.core.display.HTML object>"
            ],
            "text/html": [
              "\n",
              "  <style>\n",
              "    pre {white-space: pre-wrap;\n",
              "    }\n",
              "  </style>\n",
              "  "
            ]
          },
          "metadata": {}
        },
        {
          "output_type": "display_data",
          "data": {
            "text/plain": [
              "<IPython.core.display.HTML object>"
            ],
            "text/html": [
              "\n",
              "  <style>\n",
              "    pre {\n",
              "        white-space: pre-wrap;\n",
              "    }\n",
              "  </style>\n",
              "  "
            ]
          },
          "metadata": {}
        },
        {
          "output_type": "stream",
          "name": "stderr",
          "text": [
            "[nltk_data] Downloading package vader_lexicon to /root/nltk_data...\n"
          ]
        }
      ],
      "source": [
        "nltk.download('vader_lexicon')\n",
        "\n",
        "# Initialize the sentiment analyzer\n",
        "sid = SentimentIntensityAnalyzer()\n",
        "\n",
        "# Function to perform sentiment analysis and return sentiment label\n",
        "def get_sentiment_label(text):\n",
        "    # Get the polarity scores from NLTK's SentimentIntensityAnalyzer\n",
        "    scores = sid.polarity_scores(text)\n",
        "\n",
        "    # Determine sentiment label based on compound score\n",
        "    if scores['compound'] > 0.05:\n",
        "        return 'positive'\n",
        "    elif scores['compound'] < -0.05:\n",
        "        return 'negative'\n",
        "    else:\n",
        "        return 'neutral'"
      ]
    },
    {
      "cell_type": "code",
      "execution_count": null,
      "metadata": {
        "colab": {
          "base_uri": "https://localhost:8080/",
          "height": 17
        },
        "id": "Jj0xp7C3OUQQ",
        "outputId": "efebbf11-3401-4b9a-a53f-a4ea8f81d4cc"
      },
      "outputs": [
        {
          "output_type": "display_data",
          "data": {
            "text/plain": [
              "<IPython.core.display.HTML object>"
            ],
            "text/html": [
              "\n",
              "  <style>\n",
              "    pre {white-space: pre-wrap;\n",
              "    }\n",
              "  </style>\n",
              "  "
            ]
          },
          "metadata": {}
        },
        {
          "output_type": "display_data",
          "data": {
            "text/plain": [
              "<IPython.core.display.HTML object>"
            ],
            "text/html": [
              "\n",
              "  <style>\n",
              "    pre {\n",
              "        white-space: pre-wrap;\n",
              "    }\n",
              "  </style>\n",
              "  "
            ]
          },
          "metadata": {}
        },
        {
          "output_type": "display_data",
          "data": {
            "text/plain": [
              "<IPython.core.display.HTML object>"
            ],
            "text/html": [
              "\n",
              "  <style>\n",
              "    pre {white-space: pre-wrap;\n",
              "    }\n",
              "  </style>\n",
              "  "
            ]
          },
          "metadata": {}
        },
        {
          "output_type": "display_data",
          "data": {
            "text/plain": [
              "<IPython.core.display.HTML object>"
            ],
            "text/html": [
              "\n",
              "  <style>\n",
              "    pre {\n",
              "        white-space: pre-wrap;\n",
              "    }\n",
              "  </style>\n",
              "  "
            ]
          },
          "metadata": {}
        }
      ],
      "source": [
        "# Load the KMeans model\n",
        "kmeans = joblib.load('best_kmeans_model_15.pkl')"
      ]
    },
    {
      "cell_type": "code",
      "execution_count": null,
      "metadata": {
        "colab": {
          "base_uri": "https://localhost:8080/",
          "height": 17
        },
        "id": "9XUFOdCeOYq8",
        "outputId": "1b25cd53-216f-41c7-f7a8-8d974de52b9c"
      },
      "outputs": [
        {
          "output_type": "display_data",
          "data": {
            "text/plain": [
              "<IPython.core.display.HTML object>"
            ],
            "text/html": [
              "\n",
              "  <style>\n",
              "    pre {white-space: pre-wrap;\n",
              "    }\n",
              "  </style>\n",
              "  "
            ]
          },
          "metadata": {}
        },
        {
          "output_type": "display_data",
          "data": {
            "text/plain": [
              "<IPython.core.display.HTML object>"
            ],
            "text/html": [
              "\n",
              "  <style>\n",
              "    pre {\n",
              "        white-space: pre-wrap;\n",
              "    }\n",
              "  </style>\n",
              "  "
            ]
          },
          "metadata": {}
        },
        {
          "output_type": "display_data",
          "data": {
            "text/plain": [
              "<IPython.core.display.HTML object>"
            ],
            "text/html": [
              "\n",
              "  <style>\n",
              "    pre {white-space: pre-wrap;\n",
              "    }\n",
              "  </style>\n",
              "  "
            ]
          },
          "metadata": {}
        },
        {
          "output_type": "display_data",
          "data": {
            "text/plain": [
              "<IPython.core.display.HTML object>"
            ],
            "text/html": [
              "\n",
              "  <style>\n",
              "    pre {\n",
              "        white-space: pre-wrap;\n",
              "    }\n",
              "  </style>\n",
              "  "
            ]
          },
          "metadata": {}
        }
      ],
      "source": [
        "# Function to get top N indices with highest values from an array\n",
        "def top_n_indices(arr, n):\n",
        "    return np.argpartition(arr, -n)[-n:]"
      ]
    },
    {
      "cell_type": "code",
      "execution_count": null,
      "metadata": {
        "colab": {
          "base_uri": "https://localhost:8080/",
          "height": 17
        },
        "id": "etQj0BDxOZ51",
        "outputId": "165a958c-3394-4d55-c31e-802ea4bdf97c"
      },
      "outputs": [
        {
          "output_type": "display_data",
          "data": {
            "text/plain": [
              "<IPython.core.display.HTML object>"
            ],
            "text/html": [
              "\n",
              "  <style>\n",
              "    pre {white-space: pre-wrap;\n",
              "    }\n",
              "  </style>\n",
              "  "
            ]
          },
          "metadata": {}
        },
        {
          "output_type": "display_data",
          "data": {
            "text/plain": [
              "<IPython.core.display.HTML object>"
            ],
            "text/html": [
              "\n",
              "  <style>\n",
              "    pre {\n",
              "        white-space: pre-wrap;\n",
              "    }\n",
              "  </style>\n",
              "  "
            ]
          },
          "metadata": {}
        },
        {
          "output_type": "display_data",
          "data": {
            "text/plain": [
              "<IPython.core.display.HTML object>"
            ],
            "text/html": [
              "\n",
              "  <style>\n",
              "    pre {white-space: pre-wrap;\n",
              "    }\n",
              "  </style>\n",
              "  "
            ]
          },
          "metadata": {}
        },
        {
          "output_type": "display_data",
          "data": {
            "text/plain": [
              "<IPython.core.display.HTML object>"
            ],
            "text/html": [
              "\n",
              "  <style>\n",
              "    pre {\n",
              "        white-space: pre-wrap;\n",
              "    }\n",
              "  </style>\n",
              "  "
            ]
          },
          "metadata": {}
        }
      ],
      "source": [
        "def recommending_emojis(text):\n",
        "\n",
        "    df_new = pd.DataFrame(columns=['clean_text', 'emotional_scores', 'scaled_emotions_NRC', 'emotions_vader', 'Emojis Sentiment Analysis'])\n",
        "\n",
        "    # 1. Cleaning the text\n",
        "    # NECESITAMOS CLEAN_TEXT\n",
        "    cleaned_text = clean_text(text)\n",
        "\n",
        "    # 2. Clustering (tfidf, svd, kmeans)\n",
        "    # NECESITAMOS svd_loaded y tfidf_sparse_loaded\n",
        "    tfidf_svd_loaded = svd_loaded.transform(tfidf_sparse_loaded)\n",
        "\n",
        "    predicted_labels = kmeans.predict(tfidf_svd_loaded)\n",
        "    cluster = predicted_labels[0]\n",
        "\n",
        "    # 3. Sentiment analysis\n",
        "    # 3.1. NRC Lexicon\n",
        "    # NECESITAMOS NRC Y calculate_emotional_scores\n",
        "    emotional_scores = calculate_emotional_scores(cleaned_text)\n",
        "    df_new = pd.DataFrame({'clean_text': [cleaned_text], 'emotional_scores': [emotional_scores]})\n",
        "\n",
        "    # 3.2. Scaling emotional scores\n",
        "    # NECESITAMOS scale_emotional_scores y total_emotions_for_new_text\n",
        "    total_emotions, scaled_emotional_scores = scale_emotional_scores(df_new['emotional_scores'], total_emotions=total_emotions_for_new_text)\n",
        "    df_new[\"scaled_emotions_NRC\"] = scaled_emotional_scores\n",
        "\n",
        "    # 3.3. Vader\n",
        "    # NECESITAMOS Vader y get_sentiment_label\n",
        "    emotions_vader = get_sentiment_label(cleaned_text)\n",
        "    df_new['emotions_vader'] = emotions_vader\n",
        "\n",
        "    # 3.4. Emojis for the emotions\n",
        "    # NECESITAMOS emojis_faces\n",
        "    df_new_scores = np.array([list(doc['scaled_emotions_NRC'].values()) for _, doc in df_new.iterrows() if doc['scaled_emotions_NRC']])\n",
        "    if df_new.iloc[0]['emotions_vader'] == 'positive':\n",
        "        selected_emojis = emojis_faces[emojis_faces['sentiment'] == 'positive']\n",
        "    elif df_new.iloc[0]['emotions_vader'] == 'negative':\n",
        "        selected_emojis = emojis_faces[emojis_faces['sentiment'] == 'negative']\n",
        "    elif df_new.iloc[0]['emotions_vader'] == 'neutral':\n",
        "        selected_emojis = emojis_faces[emojis_faces['sentiment'] == 'neutral']\n",
        "\n",
        "    emoji_scores = np.array([list(ast.literal_eval(emoji['scaled_emotional_scores']).values()) for _, emoji in selected_emojis.iterrows()])\n",
        "\n",
        "\n",
        "    similarities = cosine_similarity(df_new_scores, emoji_scores)\n",
        "    top_3_indices = np.apply_along_axis(lambda x: top_n_indices(x, 3), axis=1, arr=similarities)\n",
        "    top_3_emojis = [[selected_emojis.iloc[idx]['emoji'] for idx in indices] for indices in top_3_indices]\n",
        "    top_3_emojis_str = [','.join(emojis) for emojis in top_3_emojis]\n",
        "    df_new['Emojis Sentiment Analysis'] = top_3_emojis_str\n",
        "\n",
        "    return df_new\n"
      ]
    },
    {
      "cell_type": "markdown",
      "metadata": {
        "id": "bqphq6JWIVik"
      },
      "source": [
        "## DashBoard"
      ]
    },
    {
      "cell_type": "code",
      "execution_count": null,
      "metadata": {
        "colab": {
          "base_uri": "https://localhost:8080/",
          "height": 793
        },
        "id": "I0I4QBX0w-JT",
        "outputId": "286ad25b-ebcb-4183-93a2-ac1c59317390"
      },
      "outputs": [
        {
          "output_type": "display_data",
          "data": {
            "text/plain": [
              "<IPython.core.display.HTML object>"
            ],
            "text/html": [
              "\n",
              "  <style>\n",
              "    pre {white-space: pre-wrap;\n",
              "    }\n",
              "  </style>\n",
              "  "
            ]
          },
          "metadata": {}
        },
        {
          "output_type": "display_data",
          "data": {
            "text/plain": [
              "<IPython.core.display.HTML object>"
            ],
            "text/html": [
              "\n",
              "  <style>\n",
              "    pre {\n",
              "        white-space: pre-wrap;\n",
              "    }\n",
              "  </style>\n",
              "  "
            ]
          },
          "metadata": {}
        },
        {
          "output_type": "display_data",
          "data": {
            "text/plain": [
              "<IPython.core.display.HTML object>"
            ],
            "text/html": [
              "\n",
              "  <style>\n",
              "    pre {white-space: pre-wrap;\n",
              "    }\n",
              "  </style>\n",
              "  "
            ]
          },
          "metadata": {}
        },
        {
          "output_type": "display_data",
          "data": {
            "text/plain": [
              "<IPython.core.display.HTML object>"
            ],
            "text/html": [
              "\n",
              "  <style>\n",
              "    pre {\n",
              "        white-space: pre-wrap;\n",
              "    }\n",
              "  </style>\n",
              "  "
            ]
          },
          "metadata": {}
        },
        {
          "output_type": "stream",
          "name": "stderr",
          "text": [
            "/usr/local/lib/python3.10/dist-packages/dash/dash.py:556: UserWarning:\n",
            "\n",
            "JupyterDash is deprecated, use Dash instead.\n",
            "See https://dash.plotly.com/dash-in-jupyter for more details.\n",
            "\n"
          ]
        },
        {
          "output_type": "display_data",
          "data": {
            "text/plain": [
              "<IPython.core.display.Javascript object>"
            ],
            "application/javascript": [
              "(async (port, path, width, height, cache, element) => {\n",
              "    if (!google.colab.kernel.accessAllowed && !cache) {\n",
              "      return;\n",
              "    }\n",
              "    element.appendChild(document.createTextNode(''));\n",
              "    const url = await google.colab.kernel.proxyPort(port, {cache});\n",
              "    const iframe = document.createElement('iframe');\n",
              "    iframe.src = new URL(path, url).toString();\n",
              "    iframe.height = height;\n",
              "    iframe.width = width;\n",
              "    iframe.style.border = 0;\n",
              "    iframe.allow = [\n",
              "        'accelerometer',\n",
              "        'autoplay',\n",
              "        'camera',\n",
              "        'clipboard-read',\n",
              "        'clipboard-write',\n",
              "        'gyroscope',\n",
              "        'magnetometer',\n",
              "        'microphone',\n",
              "        'serial',\n",
              "        'usb',\n",
              "        'xr-spatial-tracking',\n",
              "    ].join('; ');\n",
              "    element.appendChild(iframe);\n",
              "  })(8050, \"/\", \"100%\", 650, false, window.element)"
            ]
          },
          "metadata": {}
        },
        {
          "output_type": "stream",
          "name": "stdout",
          "text": [
            "Dash app running on:\n"
          ]
        },
        {
          "output_type": "display_data",
          "data": {
            "text/plain": [
              "<IPython.core.display.Javascript object>"
            ],
            "application/javascript": [
              "(async (port, path, text, element) => {\n",
              "    if (!google.colab.kernel.accessAllowed) {\n",
              "      return;\n",
              "    }\n",
              "    element.appendChild(document.createTextNode(''));\n",
              "    const url = await google.colab.kernel.proxyPort(port);\n",
              "    const anchor = document.createElement('a');\n",
              "    anchor.href = new URL(path, url).toString();\n",
              "    anchor.target = '_blank';\n",
              "    anchor.setAttribute('data-href', url + path);\n",
              "    anchor.textContent = text;\n",
              "    element.appendChild(anchor);\n",
              "  })(8050, \"/\", \"http://127.0.0.1:8050/\", window.element)"
            ]
          },
          "metadata": {}
        }
      ],
      "source": [
        "\n",
        "# Import necessary libraries\n",
        "import collections\n",
        "import io\n",
        "import base64\n",
        "import re\n",
        "import dash\n",
        "import dash_core_components as dcc\n",
        "import dash_html_components as html\n",
        "import dash_bootstrap_components as dbc\n",
        "from dash.dependencies import Input, Output, State\n",
        "import plotly.express as px\n",
        "import plotly.graph_objects as go\n",
        "from wordcloud import WordCloud\n",
        "from jupyter_dash import JupyterDash\n",
        "import dash_core_components as dcc\n",
        "import dash_html_components as html\n",
        "\n",
        "# Create Dash app\n",
        "app = JupyterDash(__name__, external_stylesheets=[dbc.themes.LUX])\n",
        "\n",
        "# Define layout\n",
        "app.layout = html.Div(style={'backgroundColor': '#f0f2f6', 'padding': '20px'}, children=[\n",
        "    html.H1([html.Span(\"😁\"), \"Forum Enhancement Dashboard\", html.Span(\"📱\")], style={'color': '#1e3799', 'fontWeight': 'bold', 'fontSize': '46px', 'textAlign': 'center', 'marginBottom': '30px'}),\n",
        "\n",
        "    dbc.Row([\n",
        "        dbc.Col([\n",
        "            html.Div([\n",
        "                html.H2(\"Interactive Clustering Dashboard\", style={'color': '#6a89cc', 'marginBottom': '20px'}),\n",
        "                html.Button(\"Reset Dashboard\", id=\"reset-button\", n_clicks=0, className='btn btn-danger mb-3'),\n",
        "                html.Div(id='hidden-div', style={'display': 'none'}),\n",
        "                html.Div([\n",
        "                    dcc.Graph(id='cluster-plot'),\n",
        "                    html.Div(id='details')\n",
        "                ]),\n",
        "                dcc.Dropdown(\n",
        "                    id='graph-selector',\n",
        "                    options=[\n",
        "                        {'label': 'Emotions Distribution', 'value': 'emotions'},\n",
        "                        {'label': 'Topics Distribution', 'value': 'topics'},\n",
        "                        {'label': 'Emoji Cloud', 'value': 'emoji'},\n",
        "                        {'label': 'Word Cloud', 'value': 'word'}\n",
        "                    ],\n",
        "                    value='emotions',\n",
        "                    clearable=False,\n",
        "                    className='form-select mb-3'\n",
        "                ),\n",
        "                html.Div(id='graph-container')\n",
        "            ]),\n",
        "        ], width=12)\n",
        "    ], style={'margin-bottom': '40px'}),\n",
        "\n",
        "    dbc.Row([\n",
        "        dbc.Col(html.H2(\"Post Selector by Sentiment Topic and Max Emotion 😀😞😐\", style={'color': '#6a89cc'}), width=12),\n",
        "    ], style={'margin-bottom': '20px'}),\n",
        "\n",
        "    dbc.Row([\n",
        "        dbc.Col([\n",
        "            html.Label(\"Select Sentiment\"),\n",
        "            dcc.Dropdown(\n",
        "                id='sentiment-dropdown',\n",
        "                options=[{'label': s, 'value': s} for s in forum['sentiment'].unique()],\n",
        "                value=None,\n",
        "                placeholder=\"Choose a sentiment\",\n",
        "                style={'width': '100%'},\n",
        "                className='form-select mb-3'\n",
        "            ),\n",
        "        ], width=4),\n",
        "\n",
        "        dbc.Col([\n",
        "            html.Label(\"Select Topic\"),\n",
        "            dcc.Dropdown(\n",
        "                id='topic-dropdown',\n",
        "                options=[{'label': str(t), 'value': t} for t in forum['topic_number'].unique()],\n",
        "                value=None,\n",
        "                placeholder=\"Choose a topic\",\n",
        "                style={'width': '100%'},\n",
        "                className='form-select mb-3'\n",
        "            ),\n",
        "        ], width=4),\n",
        "\n",
        "        dbc.Col([\n",
        "            html.Label(\"Select Max Emotion\"),\n",
        "            dcc.Dropdown(\n",
        "                id='max-emotion-dropdown',\n",
        "                options=[{'label': e, 'value': e} for e in forum['max_emotion'].unique()],\n",
        "                value=None,\n",
        "                placeholder=\"Choose a max emotion\",\n",
        "                style={'width': '100%'},\n",
        "                className='form-select mb-3'\n",
        "            ),\n",
        "        ], width=4),\n",
        "    ], style={'margin-bottom': '20px'}),\n",
        "\n",
        "    dbc.Row([\n",
        "        dbc.Col([\n",
        "            dbc.Card([\n",
        "                dbc.CardHeader(\"Selected Post\"),\n",
        "                dbc.CardBody(\n",
        "                    id='post-output',\n",
        "                    style={'font-size': '16px', 'background-color': 'white'}\n",
        "                )\n",
        "            ]),\n",
        "        ], width=12),\n",
        "    ], style={'margin-bottom': '20px'}),\n",
        "\n",
        "        dbc.Row([\n",
        "        dbc.Col(html.H2(\"Select an emotion and most frequent emojis for that emotion will appear 😆\", style={'color': '#6a89cc'}), width=12),\n",
        "    ], style={'margin-bottom': '20px'}),\n",
        "    dcc.Dropdown(\n",
        "        id=\"emotion-dropdown\",\n",
        "        options=[\n",
        "            {\"label\": emotion, \"value\": emotion} for emotion in emotions\n",
        "        ],\n",
        "        value=\"Joy\",\n",
        "        clearable=False,\n",
        "        style={\"width\": \"200px\"},\n",
        "        className='form-select mb-3'\n",
        "    ),\n",
        "    dcc.Slider(\n",
        "        id=\"num-emojis-slider\",\n",
        "        min=1,\n",
        "        max=10,\n",
        "        step=1,\n",
        "        value=5,\n",
        "        marks={i: str(i) for i in range(1, 11)},\n",
        "        tooltip={\"placement\": \"top\", \"always_visible\": True},\n",
        "        included=True,\n",
        "        className='mb-3'\n",
        "    ),\n",
        "    dcc.Graph(id=\"emoji-cloud\", className='mb-5'),\n",
        "\n",
        "    html.H2([html.Span(\"🤔\"), 'Recommendation of Emojis by Sentiment Analysis'], style={'textAlign': 'center', 'color': '#1e3799'}),\n",
        "    dcc.Textarea(\n",
        "        id='input-text',\n",
        "        placeholder='Enter your text here...',\n",
        "        style={'width': '50%', 'height': 100, 'margin': 'auto', 'display': 'block', 'marginTop': '20px', 'marginBottom': '20px'},\n",
        "        className='form-control'\n",
        "    ),\n",
        "    html.Button('Submit', id='submit-button', n_clicks=0, style={'backgroundColor': '#1e3799', 'color': 'white', 'marginTop': '10px', 'marginBottom': '20px'}, className='btn btn-primary'),\n",
        "    html.Div(id='output-emojis', style={'textAlign': 'center', 'marginTop': '20px'})\n",
        "])\n",
        "# Define callback to update cluster plot, details, and graph container based on clickData, graph selection, and reset button\n",
        "@app.callback(\n",
        "    [Output('cluster-plot', 'figure'),\n",
        "     Output('details', 'children'),\n",
        "     Output('graph-container', 'children'),\n",
        "     Output('hidden-div', 'children')],\n",
        "    [Input('cluster-plot', 'clickData'),\n",
        "     Input('graph-selector', 'value'),\n",
        "     Input('reset-button', 'n_clicks')],\n",
        "    [State('hidden-div', 'children')]\n",
        ")\n",
        "def update_dashboard(clickData, selected_graph, n_clicks, prev_n_clicks):\n",
        "    prev_n_clicks = prev_n_clicks or 0\n",
        "\n",
        "    # Check if reset button is clicked for the first time\n",
        "    if n_clicks > prev_n_clicks:\n",
        "        # Reset cluster plot\n",
        "        fig = px.scatter(forum, x='SVD_Component_1', y='SVD_Component_2', color='clusters', hover_data=['Post Title'])\n",
        "        fig.update_layout(title=\"Cluster Visualization\", clickmode='event+select')\n",
        "\n",
        "        # Reset details display\n",
        "        details_html = html.Div()\n",
        "\n",
        "        # Reset graph container\n",
        "        graph_container = html.Div()\n",
        "\n",
        "        return fig, details_html, graph_container, n_clicks\n",
        "\n",
        "    # Initialize default outputs\n",
        "    fig = px.scatter(forum, x='SVD_Component_1', y='SVD_Component_2', color='clusters', hover_data=['Post Title'])\n",
        "    fig.update_layout(title=\"Cluster Visualization\", clickmode='event+select')\n",
        "    details_html = html.Div()\n",
        "    graph_container = html.Div()\n",
        "\n",
        "    # Check if clickData is not None\n",
        "    if clickData:\n",
        "        clicked_point = clickData['points'][0]\n",
        "        clicked_x = clicked_point['x']\n",
        "        clicked_y = clicked_point['y']\n",
        "\n",
        "        # Find the row(s) with matching coordinates\n",
        "        clicked_rows = forum[\n",
        "            (forum['SVD_Component_1'] == clicked_x) &\n",
        "            (forum['SVD_Component_2'] == clicked_y)\n",
        "        ]\n",
        "\n",
        "        if not clicked_rows.empty:\n",
        "            # For simplicity, consider the first matching row\n",
        "            selected_entry = clicked_rows.iloc[0]\n",
        "\n",
        "            # Update scatter plot\n",
        "            filtered_df = forum[forum['clusters'] == selected_entry['clusters']]\n",
        "            fig = px.scatter(filtered_df, x='SVD_Component_1', y='SVD_Component_2', color='clusters', hover_data=['Post Title'])\n",
        "            fig.update_layout(title=\"Cluster Visualization\", clickmode='event+select')\n",
        "\n",
        "            # Create details display\n",
        "            details_html = html.Div([\n",
        "                html.H2('Selected Entry Details'),\n",
        "                html.P(f\"Post Title: {selected_entry['Post Title']}\"),\n",
        "                html.P(f\"Post Text: {selected_entry['Post Text']}\"),\n",
        "                html.P(f\"Cluster: {selected_entry['clusters']}\"),\n",
        "                html.P(f\"Recommended Emojis: {selected_entry['Recommended Emojis']}\"),\n",
        "                html.P(f\"Formatted Emojis: {selected_entry['formatted_emojis']}\"),\n",
        "            ])\n",
        "\n",
        "            # Update graph container based on the selected graph\n",
        "            if selected_graph == 'emotions':\n",
        "                fig_graph = px.histogram(filtered_df, x='max_emotion', title='Emotions Distribution')\n",
        "                graph_container = dcc.Graph(figure=fig_graph)\n",
        "\n",
        "            elif selected_graph == 'topics':\n",
        "                fig_graph = px.histogram(filtered_df, x='topic_number', title='Topics Distribution')\n",
        "                graph_container = dcc.Graph(figure=fig_graph)\n",
        "\n",
        "            elif selected_graph == 'emoji':\n",
        "                # Extract emojis and calculate frequencies for the selected cluster\n",
        "                cluster_emojis = []\n",
        "                for emoji_str in filtered_df['Recommended Emojis']:\n",
        "                    cluster_emojis.extend(re.findall(r'[^\\w\\s,]', emoji_str))  # Extract emojis using regex\n",
        "                cluster_emoji_counter = collections.Counter(cluster_emojis)\n",
        "                common_cluster_emojis = cluster_emoji_counter.most_common()\n",
        "\n",
        "                # Display common emojis for the selected cluster as individual elements\n",
        "                max_cluster_freq = common_cluster_emojis[0][1] if common_cluster_emojis else 1\n",
        "                emoji_tags = []\n",
        "                for emoji, freq in common_cluster_emojis:\n",
        "                    size = 20 + 30 * (freq / max_cluster_freq)\n",
        "                    emoji_tags.append(html.Span(emoji, style={'font-size': f'{size}px', 'padding': '5px'}))\n",
        "\n",
        "                graph_container = html.Div(emoji_tags)\n",
        "\n",
        "            elif selected_graph == 'word':\n",
        "                # Generate word cloud for the selected cluster\n",
        "                cluster_text = ' '.join(filtered_df['clean_post_text'])  # Combine text of all entries in the cluster\n",
        "                wordcloud = WordCloud(width=800, height=400).generate(cluster_text)\n",
        "\n",
        "                # Convert word cloud image to base64 format for display in Dash\n",
        "                img_data = wordcloud.to_image()\n",
        "                img_bytes = io.BytesIO()\n",
        "                img_data.save(img_bytes, format='PNG')\n",
        "                img_base64 = base64.b64encode(img_bytes.getvalue()).decode()\n",
        "\n",
        "                # Display word cloud\n",
        "                word_cloud_html = html.Div([\n",
        "                    html.H2('Word Cloud'),\n",
        "                    html.Img(src='data:image/png;base64,{}'.format(img_base64))\n",
        "                ])\n",
        "                graph_container = word_cloud_html\n",
        "\n",
        "    # If no cluster is clicked, display graphs based on the entire dataset\n",
        "    else:\n",
        "        if selected_graph == 'emotions':\n",
        "            fig_graph = px.histogram(forum, x='max_emotion', title='Emotions Distribution')\n",
        "            graph_container = dcc.Graph(figure=fig_graph)\n",
        "\n",
        "        elif selected_graph == 'topics':\n",
        "            fig_graph = px.histogram(forum, x='topic_number', title='Topics Distribution')\n",
        "            graph_container = dcc.Graph(figure=fig_graph)\n",
        "\n",
        "        elif selected_graph == 'emoji':\n",
        "            # Extract emojis and calculate frequencies for the entire dataset\n",
        "            emojis = []\n",
        "            for emoji_str in forum['Recommended Emojis']:\n",
        "                emojis.extend(re.findall(r'[^\\w\\s,]', emoji_str))  # Extract emojis using regex\n",
        "            emoji_counter = collections.Counter(emojis)\n",
        "            common_emojis = emoji_counter.most_common()\n",
        "\n",
        "            # Display common emojis for the entire dataset as individual elements\n",
        "            max_freq = common_emojis[0][1] if common_emojis else 1\n",
        "            emoji_tags = []\n",
        "            for emoji, freq in common_emojis:\n",
        "                size = 20 + 30 * (freq / max_freq)\n",
        "                emoji_tags.append(html.Span(emoji, style={'font-size': f'{size}px', 'padding': '5px'}))\n",
        "\n",
        "            graph_container = html.Div(emoji_tags)\n",
        "\n",
        "        elif selected_graph == 'word':\n",
        "            # Generate word cloud for the entire dataset\n",
        "            all_text = ' '.join(forum['clean_post_text'])  # Combine text of all entries\n",
        "            wordcloud = WordCloud(width=800, height=400).generate(all_text)\n",
        "\n",
        "            # Convert word cloud image to base64 format for display in Dash\n",
        "            img_data = wordcloud.to_image()\n",
        "            img_bytes = io.BytesIO()\n",
        "            img_data.save(img_bytes, format='PNG')\n",
        "            img_base64 = base64.b64encode(img_bytes.getvalue()).decode()\n",
        "\n",
        "            # Display word cloud\n",
        "            word_cloud_html = html.Div([\n",
        "                html.H2('Word Cloud'),\n",
        "                html.Img(src='data:image/png;base64,{}'.format(img_base64))\n",
        "            ])\n",
        "            graph_container = word_cloud_html\n",
        "\n",
        "    return fig, details_html, graph_container, n_clicks\n",
        "\n",
        "\n",
        "# Define callback to update the post output\n",
        "@app.callback(\n",
        "    Output('post-output', 'children'),  # The component to update\n",
        "    [Input('sentiment-dropdown', 'value'),\n",
        "     Input('topic-dropdown', 'value'),\n",
        "     Input('max-emotion-dropdown', 'value')]\n",
        ")\n",
        "def display_random_post(selected_sentiment, selected_topic, selected_emotion):\n",
        "    if selected_sentiment is None or selected_topic is None or selected_emotion is None:\n",
        "        return html.P(\"Please select sentiment, topic, and max emotion.\")\n",
        "\n",
        "    # Filter the dataframe based on sentiment, topic, and max emotion\n",
        "    filtered_df = forum[\n",
        "        (forum['sentiment'] == selected_sentiment) &\n",
        "        (forum['topic_number'] == selected_topic) &\n",
        "        (forum['max_emotion'] == selected_emotion)\n",
        "    ]\n",
        "\n",
        "    if filtered_df.empty:\n",
        "        return html.P(\"No post matches the selected criteria.\")\n",
        "\n",
        "    # Get a random post from the filtered dataframe\n",
        "    example_post = filtered_df.sample(n=1).iloc[0]\n",
        "\n",
        "    return html.Div([\n",
        "        html.H3(\"Post Example\"),\n",
        "        html.P(f\"Text: {example_post['Post Text']}\"),\n",
        "        html.P(f\"Recommended Emojis: {format_emojis(example_post['Recommended Emojis'])}\",\n",
        "               style={'font-size': '30px'}),  # Large font for emojis\n",
        "        html.P(f\"Topic Emojis: {format_emojis(example_post['cleaned_topic_emojis'])}\",\n",
        "               style={'font-size': '30px'}),  # Larger font for better visibility\n",
        "\n",
        "    ], style={'padding': '10px'})  # Extra padding for cleaner presentation\n",
        "\n",
        "emoji_scale_factor = 1200\n",
        "# Define callback to update the emoji cloud\n",
        "@app.callback(\n",
        "    Output(\"emoji-cloud\", \"figure\"),\n",
        "    [Input(\"emotion-dropdown\", \"value\"), Input(\"num-emojis-slider\", \"value\")],\n",
        ")\n",
        "def update_emoji_cloud(selected_emotion, num_emojis):\n",
        "    # Filter and sort by selected emotion\n",
        "    filtered_df = emojis[[\"emoji\", selected_emotion]].copy()\n",
        "    filtered_df = filtered_df[filtered_df[selected_emotion] > 0]  # Keep only scores > 0\n",
        "    filtered_df = filtered_df.sort_values(by=selected_emotion, ascending=False)  # Sort by score\n",
        "    filtered_df = filtered_df.head(num_emojis)  # Limit to the top N emojis\n",
        "\n",
        "    # Create a scatter plot with emojis, where size represents the emotion score\n",
        "    fig = go.Figure(\n",
        "        go.Scatter(\n",
        "            x=filtered_df[\"emoji\"],  # X-axis is the emoji\n",
        "            y=[1] * len(filtered_df),  # Y-axis is constant (for positioning)\n",
        "            mode=\"text\",  # Display text (emojis)\n",
        "            text=filtered_df[\"emoji\"],  # The text to display is the emoji\n",
        "            textfont=dict(size=filtered_df[selected_emotion] * emoji_scale_factor),  # Scale by emotion score\n",
        "        )\n",
        "    )\n",
        "\n",
        "    fig.update_layout(\n",
        "        yaxis=dict(showticklabels=False, zeroline=False),\n",
        "        xaxis=dict(showticklabels=True, zeroline=False),\n",
        "        showlegend=False,\n",
        "        title=f\"Emoji Cloud for {selected_emotion}\",\n",
        "    )\n",
        "\n",
        "    return fig\n",
        "\n",
        "@app.callback(\n",
        "    Output('output-emojis', 'children'),\n",
        "    [Input('submit-button', 'n_clicks')],\n",
        "    [State('input-text', 'value')]\n",
        ")\n",
        "def update_output(n_clicks, input_text):\n",
        "    if n_clicks > 0 and input_text:\n",
        "        # Call recommending_emojis function with the input text\n",
        "        df_new = recommending_emojis(input_text)\n",
        "        # Select the Emojis Sentiment Analysis column\n",
        "        emojis_analysis = df_new['Emojis Sentiment Analysis'].iloc[0]\n",
        "        # Display the recommended emojis\n",
        "        emojis_html = [html.Span(emoji, style={'fontSize': '24px', 'padding': '5px'}) for emoji in emojis_analysis.split(',')]\n",
        "        return emojis_html\n",
        "    else:\n",
        "        return ''  # Initial state or no input text\n",
        "\n",
        "# Run the app with external display mode -> PESTAÑA NUEVA\n",
        "app.run_server(mode='external')\n"
      ]
    }
  ],
  "metadata": {
    "colab": {
      "collapsed_sections": [
        "Pg6qx1NK8PiH"
      ],
      "provenance": []
    },
    "kernelspec": {
      "display_name": "Python 3",
      "name": "python3"
    },
    "language_info": {
      "name": "python"
    }
  },
  "nbformat": 4,
  "nbformat_minor": 0
}